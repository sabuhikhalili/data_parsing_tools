{
 "cells": [
  {
   "cell_type": "markdown",
   "source": [
    "PRACTICAL TOOLS FOR PARSING DATA WITH PYTHON"
   ],
   "metadata": {
    "collapsed": false
   }
  },
  {
   "cell_type": "markdown",
   "source": [
    "USED PACKAGES:\n",
    "urllib3                   2.2.1\n",
    "requests                  2.31.0\n",
    "openpyxl                  3.1.2\n",
    "pandas                    2.2.2\n",
    "numpy                     1.26.4\n",
    "beautifulsoup4            4.12.2\n",
    "lxml\n",
    "MechanicalSoup            1.3.0"
   ],
   "metadata": {
    "collapsed": false
   }
  },
  {
   "cell_type": "raw",
   "source": [
    "pip install requests\n",
    "pip install pandas\n",
    "pip install numpy (should already be installed with pandas)\n",
    "pip install openpyxl"
   ],
   "metadata": {
    "collapsed": false
   }
  },
  {
   "cell_type": "code",
   "execution_count": 1,
   "outputs": [],
   "source": [
    "import requests as req\n",
    "import numpy as np\n",
    "import pandas as pd\n",
    "from IPython.display import Image\n",
    "from datetime import datetime\n",
    "from bs4 import BeautifulSoup\n",
    "import webbrowser\n",
    "import mechanicalsoup\n",
    "import json\n"
   ],
   "metadata": {
    "collapsed": false
   }
  },
  {
   "cell_type": "markdown",
   "source": [
    "I. Downloading data when a download link is available. This is the ideal case which would often require you not to use the code if you will download the data once from the website. I am still going to show you how to download and read the data using Python if such link is available in case you would have to download the data regularly."
   ],
   "metadata": {
    "collapsed": false
   }
  },
  {
   "cell_type": "markdown",
   "source": [
    "STEP 1: Identify the link\n",
    "\n",
    "Easiest ways to identify the link:\n",
    "   - a) Go to source website and check for download button. Often download button will be given as image with the image describing the file type. Once you find download button, click right button on your mouse and select \"copy link address\"\n",
    "  ![Example](images/locate_download_button.png)\n",
    "   - b) Sometimes, download button is not directly leading to the main download URL, instead it acts as trigger  - you click on button, it redirects to the original URL. In this case, \"copy link address\" won't give you the correct address. Instead, you may locate downloaded file in the Downloads tab of Chrome browser (CTRL+J will take you there) and you can access correct download link using \"copy link address\" like in this example\n",
    "   ![Example](images/locate_download_link.png)"
   ],
   "metadata": {
    "collapsed": false
   }
  },
  {
   "cell_type": "markdown",
   "source": [
    "STEP 2. Use the retrieved link to parse data on Python. From the link we can already understand that this is an xlsx file."
   ],
   "metadata": {
    "collapsed": false
   }
  },
  {
   "cell_type": "code",
   "execution_count": 6,
   "outputs": [
    {
     "name": "stdout",
     "output_type": "stream",
     "text": [
      "Data have been saved successfully \n"
     ]
    },
    {
     "data": {
      "text/plain": "                                      Currency in Circulation  Monetary Base  \\\nPeriod                                                                         \n2024-03-31                                           5675.703      10669.549   \nNaT                                                       NaN            NaN   \nNaT                                                       NaN            NaN   \nNaT                     Source: The National Bank of Georgia.            NaN   \nNaT         Notes: * Average from the beginning of the yea...            NaN   \n\n            Money Aggregates (M3)  Money Aggregates (M2)  \\\nPeriod                                                     \n2024-03-31              43186.961           25403.360783   \nNaT                           NaN                    NaN   \nNaT                           NaN                    NaN   \nNaT                           NaN                    NaN   \nNaT                           NaN                    NaN   \n\n            Money Aggregates (M1)  Money Outside Banks (M0)  \\\nPeriod                                                        \n2024-03-31           16501.021816                  4676.592   \nNaT                           NaN                       NaN   \nNaT                           NaN                       NaN   \nNaT                           NaN                       NaN   \nNaT                           NaN                       NaN   \n\n            Transferable Deposits in National Currency  \\\nPeriod                                                   \n2024-03-31                                11824.429816   \nNaT                                                NaN   \nNaT                                                NaN   \nNaT                                                NaN   \nNaT                                                NaN   \n\n            Term Deposits in National Currency  Deposits in Foreign Currency  \\\nPeriod                                                                         \n2024-03-31                         8902.338967                  17783.600316   \nNaT                                        NaN                           NaN   \nNaT                                        NaN                           NaN   \nNaT                                        NaN                           NaN   \nNaT                                        NaN                           NaN   \n\n            Deposits, Total  ...  Money Multiplier (M3)  \\\nPeriod                       ...                          \n2024-03-31     38510.369099  ...               4.047684   \nNaT                     NaN  ...                    NaN   \nNaT                     NaN  ...                    NaN   \nNaT                     NaN  ...                    NaN   \nNaT                     NaN  ...                    NaN   \n\n            Money Multiplier (M2)  Monetization Coefficient * (M3)  \\\nPeriod                                                               \n2024-03-31               2.380922                        49.294313   \nNaT                           NaN                              NaN   \nNaT                           NaN                              NaN   \nNaT                           NaN                              NaN   \nNaT                           NaN                              NaN   \n\n            Monetization Coefficient * (M2)  Money Velocity * (M3)  \\\nPeriod                                                               \n2024-03-31                        28.778976               2.028632   \nNaT                                     NaN                    NaN   \nNaT                                     NaN                    NaN   \nNaT                                     NaN                    NaN   \nNaT                                     NaN                    NaN   \n\n            Money Velocity * (M2)  Monetization Coefficient (M3)  \\\nPeriod                                                             \n2024-03-31               3.474759                      50.006902   \nNaT                           NaN                            NaN   \nNaT                           NaN                            NaN   \nNaT                           NaN                            NaN   \nNaT                           NaN                            NaN   \n\n            Monetization Coefficient (M2)  Money Velocity (M3)  \\\nPeriod                                                           \n2024-03-31                      29.414975             1.999724   \nNaT                                   NaN                  NaN   \nNaT                                   NaN                  NaN   \nNaT                                   NaN                  NaN   \nNaT                                   NaN                  NaN   \n\n            Money Velocity (M2)  \nPeriod                           \n2024-03-31             3.399629  \nNaT                         NaN  \nNaT                         NaN  \nNaT                         NaN  \nNaT                         NaN  \n\n[5 rows x 24 columns]",
      "text/html": "<div>\n<style scoped>\n    .dataframe tbody tr th:only-of-type {\n        vertical-align: middle;\n    }\n\n    .dataframe tbody tr th {\n        vertical-align: top;\n    }\n\n    .dataframe thead th {\n        text-align: right;\n    }\n</style>\n<table border=\"1\" class=\"dataframe\">\n  <thead>\n    <tr style=\"text-align: right;\">\n      <th></th>\n      <th>Currency in Circulation</th>\n      <th>Monetary Base</th>\n      <th>Money Aggregates (M3)</th>\n      <th>Money Aggregates (M2)</th>\n      <th>Money Aggregates (M1)</th>\n      <th>Money Outside Banks (M0)</th>\n      <th>Transferable Deposits in National Currency</th>\n      <th>Term Deposits in National Currency</th>\n      <th>Deposits in Foreign Currency</th>\n      <th>Deposits, Total</th>\n      <th>...</th>\n      <th>Money Multiplier (M3)</th>\n      <th>Money Multiplier (M2)</th>\n      <th>Monetization Coefficient * (M3)</th>\n      <th>Monetization Coefficient * (M2)</th>\n      <th>Money Velocity * (M3)</th>\n      <th>Money Velocity * (M2)</th>\n      <th>Monetization Coefficient (M3)</th>\n      <th>Monetization Coefficient (M2)</th>\n      <th>Money Velocity (M3)</th>\n      <th>Money Velocity (M2)</th>\n    </tr>\n    <tr>\n      <th>Period</th>\n      <th></th>\n      <th></th>\n      <th></th>\n      <th></th>\n      <th></th>\n      <th></th>\n      <th></th>\n      <th></th>\n      <th></th>\n      <th></th>\n      <th></th>\n      <th></th>\n      <th></th>\n      <th></th>\n      <th></th>\n      <th></th>\n      <th></th>\n      <th></th>\n      <th></th>\n      <th></th>\n      <th></th>\n    </tr>\n  </thead>\n  <tbody>\n    <tr>\n      <th>2024-03-31</th>\n      <td>5675.703</td>\n      <td>10669.549</td>\n      <td>43186.961</td>\n      <td>25403.360783</td>\n      <td>16501.021816</td>\n      <td>4676.592</td>\n      <td>11824.429816</td>\n      <td>8902.338967</td>\n      <td>17783.600316</td>\n      <td>38510.369099</td>\n      <td>...</td>\n      <td>4.047684</td>\n      <td>2.380922</td>\n      <td>49.294313</td>\n      <td>28.778976</td>\n      <td>2.028632</td>\n      <td>3.474759</td>\n      <td>50.006902</td>\n      <td>29.414975</td>\n      <td>1.999724</td>\n      <td>3.399629</td>\n    </tr>\n    <tr>\n      <th>NaT</th>\n      <td>NaN</td>\n      <td>NaN</td>\n      <td>NaN</td>\n      <td>NaN</td>\n      <td>NaN</td>\n      <td>NaN</td>\n      <td>NaN</td>\n      <td>NaN</td>\n      <td>NaN</td>\n      <td>NaN</td>\n      <td>...</td>\n      <td>NaN</td>\n      <td>NaN</td>\n      <td>NaN</td>\n      <td>NaN</td>\n      <td>NaN</td>\n      <td>NaN</td>\n      <td>NaN</td>\n      <td>NaN</td>\n      <td>NaN</td>\n      <td>NaN</td>\n    </tr>\n    <tr>\n      <th>NaT</th>\n      <td>NaN</td>\n      <td>NaN</td>\n      <td>NaN</td>\n      <td>NaN</td>\n      <td>NaN</td>\n      <td>NaN</td>\n      <td>NaN</td>\n      <td>NaN</td>\n      <td>NaN</td>\n      <td>NaN</td>\n      <td>...</td>\n      <td>NaN</td>\n      <td>NaN</td>\n      <td>NaN</td>\n      <td>NaN</td>\n      <td>NaN</td>\n      <td>NaN</td>\n      <td>NaN</td>\n      <td>NaN</td>\n      <td>NaN</td>\n      <td>NaN</td>\n    </tr>\n    <tr>\n      <th>NaT</th>\n      <td>Source: The National Bank of Georgia.</td>\n      <td>NaN</td>\n      <td>NaN</td>\n      <td>NaN</td>\n      <td>NaN</td>\n      <td>NaN</td>\n      <td>NaN</td>\n      <td>NaN</td>\n      <td>NaN</td>\n      <td>NaN</td>\n      <td>...</td>\n      <td>NaN</td>\n      <td>NaN</td>\n      <td>NaN</td>\n      <td>NaN</td>\n      <td>NaN</td>\n      <td>NaN</td>\n      <td>NaN</td>\n      <td>NaN</td>\n      <td>NaN</td>\n      <td>NaN</td>\n    </tr>\n    <tr>\n      <th>NaT</th>\n      <td>Notes: * Average from the beginning of the yea...</td>\n      <td>NaN</td>\n      <td>NaN</td>\n      <td>NaN</td>\n      <td>NaN</td>\n      <td>NaN</td>\n      <td>NaN</td>\n      <td>NaN</td>\n      <td>NaN</td>\n      <td>NaN</td>\n      <td>...</td>\n      <td>NaN</td>\n      <td>NaN</td>\n      <td>NaN</td>\n      <td>NaN</td>\n      <td>NaN</td>\n      <td>NaN</td>\n      <td>NaN</td>\n      <td>NaN</td>\n      <td>NaN</td>\n      <td>NaN</td>\n    </tr>\n  </tbody>\n</table>\n<p>5 rows × 24 columns</p>\n</div>"
     },
     "execution_count": 6,
     "metadata": {},
     "output_type": "execute_result"
    }
   ],
   "source": [
    "URL = \"https://nbg.gov.ge/fm/%E1%83%A1%E1%83%A2%E1%83%90%E1%83%A2%E1%83%98%E1%83%A1%E1%83%A2%E1%83%98%E1%83%99%E1%83%90/monetary_statistics/eng/money-aggregates-and-monetary-ratioseng.xlsx?v=r5z4c\"\n",
    "\n",
    "filename = \"data.xlsx\"\n",
    "\n",
    "# you may first save the file and load it using pandas library. However, saving first as a file may be useful if URL doesn't work and you receive some error info message in text/html form.\n",
    "# By checking response, you may understand what is the issue and try to solve it.\n",
    "response = req.get(URL)\n",
    "\n",
    "# Check if data request was successful\n",
    "if response.ok:\n",
    "    # Save CSV response to a file\n",
    "    with open(filename, 'wb') as f:\n",
    "        f.write(response.content)\n",
    "    print('Data have been saved successfully ')\n",
    "else:\n",
    "    print('Failed to retrieve data:', response.status_code)\n",
    "\n",
    "df = pd.read_excel(filename, index_col=0, header=2)\n",
    "df.head()\n"
   ],
   "metadata": {
    "collapsed": false
   }
  },
  {
   "cell_type": "code",
   "execution_count": 16,
   "outputs": [
    {
     "data": {
      "text/plain": "           Currency in Circulation  Monetary Base  Money Aggregates (M3)  \\\nPeriod                                                                     \n1995-10-31                  94.955        120.284                131.419   \n1995-11-30                 107.529        133.659                145.258   \n1995-12-31                 131.365        153.814                179.441   \n1996-01-31                 129.294        150.614                169.911   \n1996-02-29                 128.817        153.203                171.306   \n\n            Money Aggregates (M2)  Money Aggregates (M1)  \\\nPeriod                                                     \n1995-10-31                112.337                107.279   \n1995-11-30                126.224                121.151   \n1995-12-31                160.145                154.534   \n1996-01-31                149.923                144.440   \n1996-02-29                148.395                142.815   \n\n            Money Outside Banks (M0)  \\\nPeriod                                 \n1995-10-31                    84.708   \n1995-11-30                    98.254   \n1995-12-31                   124.779   \n1996-01-31                   120.331   \n1996-02-29                   117.945   \n\n            Transferable Deposits in National Currency  \\\nPeriod                                                   \n1995-10-31                                      22.571   \n1995-11-30                                      22.897   \n1995-12-31                                      29.755   \n1996-01-31                                      24.109   \n1996-02-29                                      24.870   \n\n            Term Deposits in National Currency  Deposits in Foreign Currency  \\\nPeriod                                                                         \n1995-10-31                               5.059                        19.081   \n1995-11-30                               5.073                        19.034   \n1995-12-31                               5.611                        19.296   \n1996-01-31                               5.483                        19.988   \n1996-02-29                               5.580                        22.911   \n\n            Deposits, Total  ...  Money Multiplier (M3)  \\\nPeriod                       ...                          \n1995-10-31           46.710  ...               1.092573   \n1995-11-30           47.004  ...               1.086786   \n1995-12-31           54.662  ...               1.166613   \n1996-01-31           49.580  ...               1.128119   \n1996-02-29           53.361  ...               1.118168   \n\n            Money Multiplier (M2)  Monetization Coefficient * (M3)  \\\nPeriod                                                               \n1995-10-31               0.933937                              NaN   \n1995-11-30               0.944378                              NaN   \n1995-12-31               1.041161                              NaN   \n1996-01-31               0.995410                              NaN   \n1996-02-29               0.968621                              NaN   \n\n            Monetization Coefficient * (M2)  Money Velocity * (M3)  \\\nPeriod                                                               \n1995-10-31                              NaN                    NaN   \n1995-11-30                              NaN                    NaN   \n1995-12-31                              NaN                    NaN   \n1996-01-31                              NaN                    NaN   \n1996-02-29                              NaN                    NaN   \n\n            Money Velocity * (M2)  Monetization Coefficient (M3)  \\\nPeriod                                                             \n1995-10-31                    NaN                            NaN   \n1995-11-30                    NaN                            NaN   \n1995-12-31                    NaN                            NaN   \n1996-01-31                    NaN                            NaN   \n1996-02-29                    NaN                            NaN   \n\n            Monetization Coefficient (M2)  Money Velocity (M3)  \\\nPeriod                                                           \n1995-10-31                            NaN                  NaN   \n1995-11-30                            NaN                  NaN   \n1995-12-31                            NaN                  NaN   \n1996-01-31                            NaN                  NaN   \n1996-02-29                            NaN                  NaN   \n\n            Money Velocity (M2)  \nPeriod                           \n1995-10-31                  NaN  \n1995-11-30                  NaN  \n1995-12-31                  NaN  \n1996-01-31                  NaN  \n1996-02-29                  NaN  \n\n[5 rows x 24 columns]",
      "text/html": "<div>\n<style scoped>\n    .dataframe tbody tr th:only-of-type {\n        vertical-align: middle;\n    }\n\n    .dataframe tbody tr th {\n        vertical-align: top;\n    }\n\n    .dataframe thead th {\n        text-align: right;\n    }\n</style>\n<table border=\"1\" class=\"dataframe\">\n  <thead>\n    <tr style=\"text-align: right;\">\n      <th></th>\n      <th>Currency in Circulation</th>\n      <th>Monetary Base</th>\n      <th>Money Aggregates (M3)</th>\n      <th>Money Aggregates (M2)</th>\n      <th>Money Aggregates (M1)</th>\n      <th>Money Outside Banks (M0)</th>\n      <th>Transferable Deposits in National Currency</th>\n      <th>Term Deposits in National Currency</th>\n      <th>Deposits in Foreign Currency</th>\n      <th>Deposits, Total</th>\n      <th>...</th>\n      <th>Money Multiplier (M3)</th>\n      <th>Money Multiplier (M2)</th>\n      <th>Monetization Coefficient * (M3)</th>\n      <th>Monetization Coefficient * (M2)</th>\n      <th>Money Velocity * (M3)</th>\n      <th>Money Velocity * (M2)</th>\n      <th>Monetization Coefficient (M3)</th>\n      <th>Monetization Coefficient (M2)</th>\n      <th>Money Velocity (M3)</th>\n      <th>Money Velocity (M2)</th>\n    </tr>\n    <tr>\n      <th>Period</th>\n      <th></th>\n      <th></th>\n      <th></th>\n      <th></th>\n      <th></th>\n      <th></th>\n      <th></th>\n      <th></th>\n      <th></th>\n      <th></th>\n      <th></th>\n      <th></th>\n      <th></th>\n      <th></th>\n      <th></th>\n      <th></th>\n      <th></th>\n      <th></th>\n      <th></th>\n      <th></th>\n      <th></th>\n    </tr>\n  </thead>\n  <tbody>\n    <tr>\n      <th>1995-10-31</th>\n      <td>94.955</td>\n      <td>120.284</td>\n      <td>131.419</td>\n      <td>112.337</td>\n      <td>107.279</td>\n      <td>84.708</td>\n      <td>22.571</td>\n      <td>5.059</td>\n      <td>19.081</td>\n      <td>46.710</td>\n      <td>...</td>\n      <td>1.092573</td>\n      <td>0.933937</td>\n      <td>NaN</td>\n      <td>NaN</td>\n      <td>NaN</td>\n      <td>NaN</td>\n      <td>NaN</td>\n      <td>NaN</td>\n      <td>NaN</td>\n      <td>NaN</td>\n    </tr>\n    <tr>\n      <th>1995-11-30</th>\n      <td>107.529</td>\n      <td>133.659</td>\n      <td>145.258</td>\n      <td>126.224</td>\n      <td>121.151</td>\n      <td>98.254</td>\n      <td>22.897</td>\n      <td>5.073</td>\n      <td>19.034</td>\n      <td>47.004</td>\n      <td>...</td>\n      <td>1.086786</td>\n      <td>0.944378</td>\n      <td>NaN</td>\n      <td>NaN</td>\n      <td>NaN</td>\n      <td>NaN</td>\n      <td>NaN</td>\n      <td>NaN</td>\n      <td>NaN</td>\n      <td>NaN</td>\n    </tr>\n    <tr>\n      <th>1995-12-31</th>\n      <td>131.365</td>\n      <td>153.814</td>\n      <td>179.441</td>\n      <td>160.145</td>\n      <td>154.534</td>\n      <td>124.779</td>\n      <td>29.755</td>\n      <td>5.611</td>\n      <td>19.296</td>\n      <td>54.662</td>\n      <td>...</td>\n      <td>1.166613</td>\n      <td>1.041161</td>\n      <td>NaN</td>\n      <td>NaN</td>\n      <td>NaN</td>\n      <td>NaN</td>\n      <td>NaN</td>\n      <td>NaN</td>\n      <td>NaN</td>\n      <td>NaN</td>\n    </tr>\n    <tr>\n      <th>1996-01-31</th>\n      <td>129.294</td>\n      <td>150.614</td>\n      <td>169.911</td>\n      <td>149.923</td>\n      <td>144.440</td>\n      <td>120.331</td>\n      <td>24.109</td>\n      <td>5.483</td>\n      <td>19.988</td>\n      <td>49.580</td>\n      <td>...</td>\n      <td>1.128119</td>\n      <td>0.995410</td>\n      <td>NaN</td>\n      <td>NaN</td>\n      <td>NaN</td>\n      <td>NaN</td>\n      <td>NaN</td>\n      <td>NaN</td>\n      <td>NaN</td>\n      <td>NaN</td>\n    </tr>\n    <tr>\n      <th>1996-02-29</th>\n      <td>128.817</td>\n      <td>153.203</td>\n      <td>171.306</td>\n      <td>148.395</td>\n      <td>142.815</td>\n      <td>117.945</td>\n      <td>24.870</td>\n      <td>5.580</td>\n      <td>22.911</td>\n      <td>53.361</td>\n      <td>...</td>\n      <td>1.118168</td>\n      <td>0.968621</td>\n      <td>NaN</td>\n      <td>NaN</td>\n      <td>NaN</td>\n      <td>NaN</td>\n      <td>NaN</td>\n      <td>NaN</td>\n      <td>NaN</td>\n      <td>NaN</td>\n    </tr>\n  </tbody>\n</table>\n<p>5 rows × 24 columns</p>\n</div>"
     },
     "execution_count": 16,
     "metadata": {},
     "output_type": "execute_result"
    }
   ],
   "source": [
    "URL = \"https://nbg.gov.ge/fm/%E1%83%A1%E1%83%A2%E1%83%90%E1%83%A2%E1%83%98%E1%83%A1%E1%83%A2%E1%83%98%E1%83%99%E1%83%90/monetary_statistics/eng/money-aggregates-and-monetary-ratioseng.xlsx?v=r5z4c\"\n",
    "# Alternatively you can download data using URL directly with pandas\n",
    "df = pd.read_excel(URL, index_col=0, header=2)\n",
    "df.head()"
   ],
   "metadata": {
    "collapsed": false
   }
  },
  {
   "cell_type": "code",
   "execution_count": 7,
   "outputs": [
    {
     "data": {
      "text/plain": "                                      Currency in Circulation  Monetary Base  \\\nPeriod                                                                         \n2024-03-31                                           5675.703      10669.549   \nNaT                                                       NaN            NaN   \nNaT                                                       NaN            NaN   \nNaT                     Source: The National Bank of Georgia.            NaN   \nNaT         Notes: * Average from the beginning of the yea...            NaN   \n\n            Money Aggregates (M3)  Money Aggregates (M2)  \\\nPeriod                                                     \n2024-03-31              43186.961           25403.360783   \nNaT                           NaN                    NaN   \nNaT                           NaN                    NaN   \nNaT                           NaN                    NaN   \nNaT                           NaN                    NaN   \n\n            Money Aggregates (M1)  Money Outside Banks (M0)  \\\nPeriod                                                        \n2024-03-31           16501.021816                  4676.592   \nNaT                           NaN                       NaN   \nNaT                           NaN                       NaN   \nNaT                           NaN                       NaN   \nNaT                           NaN                       NaN   \n\n            Transferable Deposits in National Currency  \\\nPeriod                                                   \n2024-03-31                                11824.429816   \nNaT                                                NaN   \nNaT                                                NaN   \nNaT                                                NaN   \nNaT                                                NaN   \n\n            Term Deposits in National Currency  Deposits in Foreign Currency  \\\nPeriod                                                                         \n2024-03-31                         8902.338967                  17783.600316   \nNaT                                        NaN                           NaN   \nNaT                                        NaN                           NaN   \nNaT                                        NaN                           NaN   \nNaT                                        NaN                           NaN   \n\n            Deposits, Total  ...  Money Multiplier (M3)  \\\nPeriod                       ...                          \n2024-03-31     38510.369099  ...               4.047684   \nNaT                     NaN  ...                    NaN   \nNaT                     NaN  ...                    NaN   \nNaT                     NaN  ...                    NaN   \nNaT                     NaN  ...                    NaN   \n\n            Money Multiplier (M2)  Monetization Coefficient * (M3)  \\\nPeriod                                                               \n2024-03-31               2.380922                        49.294313   \nNaT                           NaN                              NaN   \nNaT                           NaN                              NaN   \nNaT                           NaN                              NaN   \nNaT                           NaN                              NaN   \n\n            Monetization Coefficient * (M2)  Money Velocity * (M3)  \\\nPeriod                                                               \n2024-03-31                        28.778976               2.028632   \nNaT                                     NaN                    NaN   \nNaT                                     NaN                    NaN   \nNaT                                     NaN                    NaN   \nNaT                                     NaN                    NaN   \n\n            Money Velocity * (M2)  Monetization Coefficient (M3)  \\\nPeriod                                                             \n2024-03-31               3.474759                      50.006902   \nNaT                           NaN                            NaN   \nNaT                           NaN                            NaN   \nNaT                           NaN                            NaN   \nNaT                           NaN                            NaN   \n\n            Monetization Coefficient (M2)  Money Velocity (M3)  \\\nPeriod                                                           \n2024-03-31                      29.414975             1.999724   \nNaT                                   NaN                  NaN   \nNaT                                   NaN                  NaN   \nNaT                                   NaN                  NaN   \nNaT                                   NaN                  NaN   \n\n            Money Velocity (M2)  \nPeriod                           \n2024-03-31             3.399629  \nNaT                         NaN  \nNaT                         NaN  \nNaT                         NaN  \nNaT                         NaN  \n\n[5 rows x 24 columns]",
      "text/html": "<div>\n<style scoped>\n    .dataframe tbody tr th:only-of-type {\n        vertical-align: middle;\n    }\n\n    .dataframe tbody tr th {\n        vertical-align: top;\n    }\n\n    .dataframe thead th {\n        text-align: right;\n    }\n</style>\n<table border=\"1\" class=\"dataframe\">\n  <thead>\n    <tr style=\"text-align: right;\">\n      <th></th>\n      <th>Currency in Circulation</th>\n      <th>Monetary Base</th>\n      <th>Money Aggregates (M3)</th>\n      <th>Money Aggregates (M2)</th>\n      <th>Money Aggregates (M1)</th>\n      <th>Money Outside Banks (M0)</th>\n      <th>Transferable Deposits in National Currency</th>\n      <th>Term Deposits in National Currency</th>\n      <th>Deposits in Foreign Currency</th>\n      <th>Deposits, Total</th>\n      <th>...</th>\n      <th>Money Multiplier (M3)</th>\n      <th>Money Multiplier (M2)</th>\n      <th>Monetization Coefficient * (M3)</th>\n      <th>Monetization Coefficient * (M2)</th>\n      <th>Money Velocity * (M3)</th>\n      <th>Money Velocity * (M2)</th>\n      <th>Monetization Coefficient (M3)</th>\n      <th>Monetization Coefficient (M2)</th>\n      <th>Money Velocity (M3)</th>\n      <th>Money Velocity (M2)</th>\n    </tr>\n    <tr>\n      <th>Period</th>\n      <th></th>\n      <th></th>\n      <th></th>\n      <th></th>\n      <th></th>\n      <th></th>\n      <th></th>\n      <th></th>\n      <th></th>\n      <th></th>\n      <th></th>\n      <th></th>\n      <th></th>\n      <th></th>\n      <th></th>\n      <th></th>\n      <th></th>\n      <th></th>\n      <th></th>\n      <th></th>\n      <th></th>\n    </tr>\n  </thead>\n  <tbody>\n    <tr>\n      <th>2024-03-31</th>\n      <td>5675.703</td>\n      <td>10669.549</td>\n      <td>43186.961</td>\n      <td>25403.360783</td>\n      <td>16501.021816</td>\n      <td>4676.592</td>\n      <td>11824.429816</td>\n      <td>8902.338967</td>\n      <td>17783.600316</td>\n      <td>38510.369099</td>\n      <td>...</td>\n      <td>4.047684</td>\n      <td>2.380922</td>\n      <td>49.294313</td>\n      <td>28.778976</td>\n      <td>2.028632</td>\n      <td>3.474759</td>\n      <td>50.006902</td>\n      <td>29.414975</td>\n      <td>1.999724</td>\n      <td>3.399629</td>\n    </tr>\n    <tr>\n      <th>NaT</th>\n      <td>NaN</td>\n      <td>NaN</td>\n      <td>NaN</td>\n      <td>NaN</td>\n      <td>NaN</td>\n      <td>NaN</td>\n      <td>NaN</td>\n      <td>NaN</td>\n      <td>NaN</td>\n      <td>NaN</td>\n      <td>...</td>\n      <td>NaN</td>\n      <td>NaN</td>\n      <td>NaN</td>\n      <td>NaN</td>\n      <td>NaN</td>\n      <td>NaN</td>\n      <td>NaN</td>\n      <td>NaN</td>\n      <td>NaN</td>\n      <td>NaN</td>\n    </tr>\n    <tr>\n      <th>NaT</th>\n      <td>NaN</td>\n      <td>NaN</td>\n      <td>NaN</td>\n      <td>NaN</td>\n      <td>NaN</td>\n      <td>NaN</td>\n      <td>NaN</td>\n      <td>NaN</td>\n      <td>NaN</td>\n      <td>NaN</td>\n      <td>...</td>\n      <td>NaN</td>\n      <td>NaN</td>\n      <td>NaN</td>\n      <td>NaN</td>\n      <td>NaN</td>\n      <td>NaN</td>\n      <td>NaN</td>\n      <td>NaN</td>\n      <td>NaN</td>\n      <td>NaN</td>\n    </tr>\n    <tr>\n      <th>NaT</th>\n      <td>Source: The National Bank of Georgia.</td>\n      <td>NaN</td>\n      <td>NaN</td>\n      <td>NaN</td>\n      <td>NaN</td>\n      <td>NaN</td>\n      <td>NaN</td>\n      <td>NaN</td>\n      <td>NaN</td>\n      <td>NaN</td>\n      <td>...</td>\n      <td>NaN</td>\n      <td>NaN</td>\n      <td>NaN</td>\n      <td>NaN</td>\n      <td>NaN</td>\n      <td>NaN</td>\n      <td>NaN</td>\n      <td>NaN</td>\n      <td>NaN</td>\n      <td>NaN</td>\n    </tr>\n    <tr>\n      <th>NaT</th>\n      <td>Notes: * Average from the beginning of the yea...</td>\n      <td>NaN</td>\n      <td>NaN</td>\n      <td>NaN</td>\n      <td>NaN</td>\n      <td>NaN</td>\n      <td>NaN</td>\n      <td>NaN</td>\n      <td>NaN</td>\n      <td>NaN</td>\n      <td>...</td>\n      <td>NaN</td>\n      <td>NaN</td>\n      <td>NaN</td>\n      <td>NaN</td>\n      <td>NaN</td>\n      <td>NaN</td>\n      <td>NaN</td>\n      <td>NaN</td>\n      <td>NaN</td>\n      <td>NaN</td>\n    </tr>\n  </tbody>\n</table>\n<p>5 rows × 24 columns</p>\n</div>"
     },
     "execution_count": 7,
     "metadata": {},
     "output_type": "execute_result"
    }
   ],
   "source": [
    "df.tail()"
   ],
   "metadata": {
    "collapsed": false
   }
  },
  {
   "cell_type": "code",
   "execution_count": 14,
   "outputs": [],
   "source": [
    "df_cleaned = df.loc[df.index.notnull()]"
   ],
   "metadata": {
    "collapsed": false
   }
  },
  {
   "cell_type": "code",
   "execution_count": 15,
   "outputs": [
    {
     "data": {
      "text/plain": "           Currency in Circulation  Monetary Base  Money Aggregates (M3)  \\\nPeriod                                                                     \n2023-11-30                 5505.67      11619.707              41362.975   \n2023-12-31                5934.138      12019.229              43192.256   \n2024-01-31                5520.712      10770.450              42163.486   \n2024-02-29                5504.812      10572.330              42364.218   \n2024-03-31                5675.703      10669.549              43186.961   \n\n            Money Aggregates (M2)  Money Aggregates (M1)  \\\nPeriod                                                     \n2023-11-30           23409.244627           15818.065013   \n2023-12-31           25112.442448           17546.776915   \n2024-01-31           24466.210001           16009.099317   \n2024-02-29           24692.726571           15935.265875   \n2024-03-31           25403.360783           16501.021816   \n\n            Money Outside Banks (M0)  \\\nPeriod                                 \n2023-11-30                  4430.714   \n2023-12-31                  4721.458   \n2024-01-31                  4519.537   \n2024-02-29                  4475.604   \n2024-03-31                  4676.592   \n\n            Transferable Deposits in National Currency  \\\nPeriod                                                   \n2023-11-30                                11387.351013   \n2023-12-31                                12825.318915   \n2024-01-31                                11489.562317   \n2024-02-29                                11459.661875   \n2024-03-31                                11824.429816   \n\n            Term Deposits in National Currency  Deposits in Foreign Currency  \\\nPeriod                                                                         \n2023-11-30                         7591.179613                  17953.729828   \n2023-12-31                         7565.665533                  18079.813336   \n2024-01-31                         8457.110684                  17697.276152   \n2024-02-29                         8757.460696                  17671.491691   \n2024-03-31                         8902.338967                  17783.600316   \n\n            Deposits, Total  ...  Money Multiplier (M3)  \\\nPeriod                       ...                          \n2023-11-30     36932.260455  ...               3.559726   \n2023-12-31     38470.797784  ...               3.593596   \n2024-01-31     37643.949153  ...               3.914738   \n2024-02-29     37888.614261  ...               4.007084   \n2024-03-31     38510.369099  ...               4.047684   \n\n            Money Multiplier (M2)  Monetization Coefficient * (M3)  \\\nPeriod                                                               \n2023-11-30               2.014616                              NaN   \n2023-12-31               2.089356                        48.129532   \n2024-01-31               2.271605                              NaN   \n2024-02-29               2.335599                              NaN   \n2024-03-31               2.380922                        49.294313   \n\n            Monetization Coefficient * (M2)  Money Velocity * (M3)  \\\nPeriod                                                               \n2023-11-30                              NaN                    NaN   \n2023-12-31                        27.080403               2.077726   \n2024-01-31                              NaN                    NaN   \n2024-02-29                              NaN                    NaN   \n2024-03-31                        28.778976               2.028632   \n\n            Money Velocity * (M2)  Monetization Coefficient (M3)  \\\nPeriod                                                             \n2023-11-30                    NaN                            NaN   \n2023-12-31               3.692707                      53.824758   \n2024-01-31                    NaN                            NaN   \n2024-02-29                    NaN                            NaN   \n2024-03-31               3.474759                      50.006902   \n\n            Monetization Coefficient (M2)  Money Velocity (M3)  \\\nPeriod                                                           \n2023-11-30                            NaN                  NaN   \n2023-12-31                      31.294293             1.857881   \n2024-01-31                            NaN                  NaN   \n2024-02-29                            NaN                  NaN   \n2024-03-31                      29.414975             1.999724   \n\n            Money Velocity (M2)  \nPeriod                           \n2023-11-30                  NaN  \n2023-12-31             3.195471  \n2024-01-31                  NaN  \n2024-02-29                  NaN  \n2024-03-31             3.399629  \n\n[5 rows x 24 columns]",
      "text/html": "<div>\n<style scoped>\n    .dataframe tbody tr th:only-of-type {\n        vertical-align: middle;\n    }\n\n    .dataframe tbody tr th {\n        vertical-align: top;\n    }\n\n    .dataframe thead th {\n        text-align: right;\n    }\n</style>\n<table border=\"1\" class=\"dataframe\">\n  <thead>\n    <tr style=\"text-align: right;\">\n      <th></th>\n      <th>Currency in Circulation</th>\n      <th>Monetary Base</th>\n      <th>Money Aggregates (M3)</th>\n      <th>Money Aggregates (M2)</th>\n      <th>Money Aggregates (M1)</th>\n      <th>Money Outside Banks (M0)</th>\n      <th>Transferable Deposits in National Currency</th>\n      <th>Term Deposits in National Currency</th>\n      <th>Deposits in Foreign Currency</th>\n      <th>Deposits, Total</th>\n      <th>...</th>\n      <th>Money Multiplier (M3)</th>\n      <th>Money Multiplier (M2)</th>\n      <th>Monetization Coefficient * (M3)</th>\n      <th>Monetization Coefficient * (M2)</th>\n      <th>Money Velocity * (M3)</th>\n      <th>Money Velocity * (M2)</th>\n      <th>Monetization Coefficient (M3)</th>\n      <th>Monetization Coefficient (M2)</th>\n      <th>Money Velocity (M3)</th>\n      <th>Money Velocity (M2)</th>\n    </tr>\n    <tr>\n      <th>Period</th>\n      <th></th>\n      <th></th>\n      <th></th>\n      <th></th>\n      <th></th>\n      <th></th>\n      <th></th>\n      <th></th>\n      <th></th>\n      <th></th>\n      <th></th>\n      <th></th>\n      <th></th>\n      <th></th>\n      <th></th>\n      <th></th>\n      <th></th>\n      <th></th>\n      <th></th>\n      <th></th>\n      <th></th>\n    </tr>\n  </thead>\n  <tbody>\n    <tr>\n      <th>2023-11-30</th>\n      <td>5505.67</td>\n      <td>11619.707</td>\n      <td>41362.975</td>\n      <td>23409.244627</td>\n      <td>15818.065013</td>\n      <td>4430.714</td>\n      <td>11387.351013</td>\n      <td>7591.179613</td>\n      <td>17953.729828</td>\n      <td>36932.260455</td>\n      <td>...</td>\n      <td>3.559726</td>\n      <td>2.014616</td>\n      <td>NaN</td>\n      <td>NaN</td>\n      <td>NaN</td>\n      <td>NaN</td>\n      <td>NaN</td>\n      <td>NaN</td>\n      <td>NaN</td>\n      <td>NaN</td>\n    </tr>\n    <tr>\n      <th>2023-12-31</th>\n      <td>5934.138</td>\n      <td>12019.229</td>\n      <td>43192.256</td>\n      <td>25112.442448</td>\n      <td>17546.776915</td>\n      <td>4721.458</td>\n      <td>12825.318915</td>\n      <td>7565.665533</td>\n      <td>18079.813336</td>\n      <td>38470.797784</td>\n      <td>...</td>\n      <td>3.593596</td>\n      <td>2.089356</td>\n      <td>48.129532</td>\n      <td>27.080403</td>\n      <td>2.077726</td>\n      <td>3.692707</td>\n      <td>53.824758</td>\n      <td>31.294293</td>\n      <td>1.857881</td>\n      <td>3.195471</td>\n    </tr>\n    <tr>\n      <th>2024-01-31</th>\n      <td>5520.712</td>\n      <td>10770.450</td>\n      <td>42163.486</td>\n      <td>24466.210001</td>\n      <td>16009.099317</td>\n      <td>4519.537</td>\n      <td>11489.562317</td>\n      <td>8457.110684</td>\n      <td>17697.276152</td>\n      <td>37643.949153</td>\n      <td>...</td>\n      <td>3.914738</td>\n      <td>2.271605</td>\n      <td>NaN</td>\n      <td>NaN</td>\n      <td>NaN</td>\n      <td>NaN</td>\n      <td>NaN</td>\n      <td>NaN</td>\n      <td>NaN</td>\n      <td>NaN</td>\n    </tr>\n    <tr>\n      <th>2024-02-29</th>\n      <td>5504.812</td>\n      <td>10572.330</td>\n      <td>42364.218</td>\n      <td>24692.726571</td>\n      <td>15935.265875</td>\n      <td>4475.604</td>\n      <td>11459.661875</td>\n      <td>8757.460696</td>\n      <td>17671.491691</td>\n      <td>37888.614261</td>\n      <td>...</td>\n      <td>4.007084</td>\n      <td>2.335599</td>\n      <td>NaN</td>\n      <td>NaN</td>\n      <td>NaN</td>\n      <td>NaN</td>\n      <td>NaN</td>\n      <td>NaN</td>\n      <td>NaN</td>\n      <td>NaN</td>\n    </tr>\n    <tr>\n      <th>2024-03-31</th>\n      <td>5675.703</td>\n      <td>10669.549</td>\n      <td>43186.961</td>\n      <td>25403.360783</td>\n      <td>16501.021816</td>\n      <td>4676.592</td>\n      <td>11824.429816</td>\n      <td>8902.338967</td>\n      <td>17783.600316</td>\n      <td>38510.369099</td>\n      <td>...</td>\n      <td>4.047684</td>\n      <td>2.380922</td>\n      <td>49.294313</td>\n      <td>28.778976</td>\n      <td>2.028632</td>\n      <td>3.474759</td>\n      <td>50.006902</td>\n      <td>29.414975</td>\n      <td>1.999724</td>\n      <td>3.399629</td>\n    </tr>\n  </tbody>\n</table>\n<p>5 rows × 24 columns</p>\n</div>"
     },
     "execution_count": 15,
     "metadata": {},
     "output_type": "execute_result"
    }
   ],
   "source": [
    "df_cleaned.tail()"
   ],
   "metadata": {
    "collapsed": false
   }
  },
  {
   "cell_type": "markdown",
   "source": [
    "II. Sometimes API/URL will let you choose additional options. For example, the following data from Kazakhstan Stock Exchange can be downloaded for specific date range.\n",
    "https://kase.kz/en/money_market/repo-indicators/tonia/archive-xls/22.05.2024/22.05.2024/"
   ],
   "metadata": {
    "collapsed": false
   }
  },
  {
   "cell_type": "code",
   "execution_count": 19,
   "outputs": [
    {
     "name": "stdout",
     "output_type": "stream",
     "text": [
      "22.05.2024\n"
     ]
    }
   ],
   "source": [
    "# download data from 2010 till current date\n",
    "from_date = \"01.01.2010\"\n",
    "\n",
    "today_date = datetime.today().strftime(\"%d.%m.%Y\")\n",
    "print(today_date)\n"
   ],
   "metadata": {
    "collapsed": false
   }
  },
  {
   "cell_type": "code",
   "execution_count": 23,
   "outputs": [
    {
     "data": {
      "text/plain": "          Close  Transaction volume, bn KZT  Transactions amount, m USD\nDate                                                                   \n05.01.10   0.19                       20.50                         NaN\n06.01.10   0.13                       12.44                         NaN\n10.01.10   0.19                        9.30                         NaN\n11.01.10   0.14                       16.43                         NaN\n12.01.10   0.14                        6.83                         NaN",
      "text/html": "<div>\n<style scoped>\n    .dataframe tbody tr th:only-of-type {\n        vertical-align: middle;\n    }\n\n    .dataframe tbody tr th {\n        vertical-align: top;\n    }\n\n    .dataframe thead th {\n        text-align: right;\n    }\n</style>\n<table border=\"1\" class=\"dataframe\">\n  <thead>\n    <tr style=\"text-align: right;\">\n      <th></th>\n      <th>Close</th>\n      <th>Transaction volume, bn KZT</th>\n      <th>Transactions amount, m USD</th>\n    </tr>\n    <tr>\n      <th>Date</th>\n      <th></th>\n      <th></th>\n      <th></th>\n    </tr>\n  </thead>\n  <tbody>\n    <tr>\n      <th>05.01.10</th>\n      <td>0.19</td>\n      <td>20.50</td>\n      <td>NaN</td>\n    </tr>\n    <tr>\n      <th>06.01.10</th>\n      <td>0.13</td>\n      <td>12.44</td>\n      <td>NaN</td>\n    </tr>\n    <tr>\n      <th>10.01.10</th>\n      <td>0.19</td>\n      <td>9.30</td>\n      <td>NaN</td>\n    </tr>\n    <tr>\n      <th>11.01.10</th>\n      <td>0.14</td>\n      <td>16.43</td>\n      <td>NaN</td>\n    </tr>\n    <tr>\n      <th>12.01.10</th>\n      <td>0.14</td>\n      <td>6.83</td>\n      <td>NaN</td>\n    </tr>\n  </tbody>\n</table>\n</div>"
     },
     "execution_count": 23,
     "metadata": {},
     "output_type": "execute_result"
    }
   ],
   "source": [
    "base_url = \"https://kase.kz/en/money_market/repo-indicators/tonia/archive-xls/\"\n",
    "\n",
    "req_url = f\"{base_url}{from_date}/{today_date}/\"\n",
    "\n",
    "df_2 = pd.read_excel(req_url, index_col=0, header=1)\n",
    "df_2.head()"
   ],
   "metadata": {
    "collapsed": false
   }
  },
  {
   "cell_type": "code",
   "execution_count": 24,
   "outputs": [
    {
     "data": {
      "text/plain": "          Close  Transaction volume, bn KZT  Transactions amount, m USD\nDate                                                                   \n16.05.24  15.32                      417.78                      946.46\n17.05.24  15.13                      653.40                     1479.68\n20.05.24  13.87                      710.21                     1601.59\n21.05.24  13.08                      597.05                     1345.55\n22.05.24  13.04                      571.90                     1294.47",
      "text/html": "<div>\n<style scoped>\n    .dataframe tbody tr th:only-of-type {\n        vertical-align: middle;\n    }\n\n    .dataframe tbody tr th {\n        vertical-align: top;\n    }\n\n    .dataframe thead th {\n        text-align: right;\n    }\n</style>\n<table border=\"1\" class=\"dataframe\">\n  <thead>\n    <tr style=\"text-align: right;\">\n      <th></th>\n      <th>Close</th>\n      <th>Transaction volume, bn KZT</th>\n      <th>Transactions amount, m USD</th>\n    </tr>\n    <tr>\n      <th>Date</th>\n      <th></th>\n      <th></th>\n      <th></th>\n    </tr>\n  </thead>\n  <tbody>\n    <tr>\n      <th>16.05.24</th>\n      <td>15.32</td>\n      <td>417.78</td>\n      <td>946.46</td>\n    </tr>\n    <tr>\n      <th>17.05.24</th>\n      <td>15.13</td>\n      <td>653.40</td>\n      <td>1479.68</td>\n    </tr>\n    <tr>\n      <th>20.05.24</th>\n      <td>13.87</td>\n      <td>710.21</td>\n      <td>1601.59</td>\n    </tr>\n    <tr>\n      <th>21.05.24</th>\n      <td>13.08</td>\n      <td>597.05</td>\n      <td>1345.55</td>\n    </tr>\n    <tr>\n      <th>22.05.24</th>\n      <td>13.04</td>\n      <td>571.90</td>\n      <td>1294.47</td>\n    </tr>\n  </tbody>\n</table>\n</div>"
     },
     "execution_count": 24,
     "metadata": {},
     "output_type": "execute_result"
    }
   ],
   "source": [
    "df_2.tail()"
   ],
   "metadata": {
    "collapsed": false
   }
  },
  {
   "cell_type": "markdown",
   "source": [
    "III. In many cases, there won't be a download link, instead data will be given as html table. Downloading such data is not as difficult as it seems. One simply need to locate the table inside html structure by using beautifulsoup package and then put it into desired format. The following data belongs to Bangladesh Interbank market. When users click on the following link https://www.bb.org.bd/en/index.php/monetaryactivity/call_money_market, the webpage with data on interbank market data of latest business day opens up. As a first step, we will suffice only downloading data for the current day, but I will show you below how the historical data can be downloaded as well. Additionally, you may see that there is no download link available, thus we have to extract data from html\n"
   ],
   "metadata": {
    "collapsed": false
   }
  },
  {
   "cell_type": "markdown",
   "source": [
    "Step 1: Locate the table first in html structure. You may make URL request with entire webpage and read the raw response, but it is a tedious approach. Instead we will use Chrome console."
   ],
   "metadata": {
    "collapsed": false
   }
  },
  {
   "cell_type": "markdown",
   "source": [
    "Press F12 on your keyboard or right click on your mouse and select Inspect. You will see a new pane opening on the right. Click once on inspector tool and then click an area on the table like shown in the picture\n",
    "\n",
    "![Example](images/locate_table_console.png)"
   ],
   "metadata": {
    "collapsed": false
   }
  },
  {
   "cell_type": "markdown",
   "source": [
    "This will take you to the place where select item is located in entire web html structure. HTML table is designed in hiearchical structure, go either higher or lower in structure until you think that segment covers entire information you need about the table. In most cases, item class will be called table and items in lower hiearchy of the table will have tags as thead and tbody. thead tag refers to the headers of the table, while tbody will contain data. Below is the shown the segment I choose for this example. You may see that whenever I hover my mouse on right pane on an item in html structure, the item is highlighted as well as area it corresponds in the left pane.\n",
    "![Example](images/locate_table_html.png)\n",
    "\n"
   ],
   "metadata": {
    "collapsed": false
   }
  },
  {
   "cell_type": "markdown",
   "source": [
    "Step 2: Use the attributes of table to locate it using beautiful soup and later extract the date. The task here is to help beautiful soup to locate and select part of html which we can see visually on the browser. As you can see, there are two potential characteristics we can use - classname (\"table-responsive\") and tag (\"table\") to locate table. ID would be most ideal, since it would help us uniquely identify table, however, developers of this website have not provided it. Instead we will use classname.In case, there are more than 1 table with such class, we will simply use debugger to see which one is right table.\n"
   ],
   "metadata": {
    "collapsed": false
   }
  },
  {
   "cell_type": "code",
   "execution_count": 5,
   "outputs": [
    {
     "name": "stdout",
     "output_type": "stream",
     "text": [
      "Data have been saved successfully \n"
     ]
    }
   ],
   "source": [
    "req_url = \"https://www.bb.org.bd/en/index.php/monetaryactivity/call_money_market\"\n",
    "response = req.get(req_url)\n",
    "# Check if data request was successful\n",
    "if response.ok:\n",
    "    # Save CSV response to a file\n",
    "    soup = BeautifulSoup(response.content.decode(\"utf-8\"))\n",
    "    print('Data have been saved successfully ')\n",
    "else:\n",
    "    print('Failed to retrieve data:', response.status_code)\n",
    "\n"
   ],
   "metadata": {
    "collapsed": false
   }
  },
  {
   "cell_type": "code",
   "execution_count": 7,
   "outputs": [
    {
     "name": "stdout",
     "output_type": "stream",
     "text": [
      "1\n"
     ]
    }
   ],
   "source": [
    "#use table tag to locate table\n",
    "tables = soup.find_all(\"table\")\n",
    "print(len(tables))"
   ],
   "metadata": {
    "collapsed": false
   }
  },
  {
   "cell_type": "code",
   "execution_count": 6,
   "outputs": [
    {
     "name": "stdout",
     "output_type": "stream",
     "text": [
      "1\n"
     ]
    }
   ],
   "source": [
    "# use classname attribute\n",
    "# you may use other attributes in this way if they are available\n",
    "tables = soup.find_all(attrs={\"class\": \"table-responsive\"})\n",
    "print(len(tables))"
   ],
   "metadata": {
    "collapsed": false
   }
  },
  {
   "cell_type": "code",
   "execution_count": 8,
   "outputs": [
    {
     "name": "stdout",
     "output_type": "stream",
     "text": [
      "1\n"
     ]
    }
   ],
   "source": [
    "#this is another way to find by class\n",
    "tables = soup.find_all(\"div\", class_=\"table-responsive\")\n",
    "print(len(tables))"
   ],
   "metadata": {
    "collapsed": false
   }
  },
  {
   "cell_type": "code",
   "execution_count": 9,
   "outputs": [],
   "source": [
    "# select the first table since we have only 1 of them\n",
    "table = tables[0]"
   ],
   "metadata": {
    "collapsed": false
   }
  },
  {
   "cell_type": "code",
   "execution_count": 25,
   "outputs": [],
   "source": [
    "headers_raw = table.select_one(\"thead\")\n",
    "t_content = table.select_one(\"tbody\")"
   ],
   "metadata": {
    "collapsed": false
   }
  },
  {
   "cell_type": "code",
   "execution_count": 34,
   "outputs": [
    {
     "name": "stdout",
     "output_type": "stream",
     "text": [
      "['Product', 'Maturity', 'Amount(Crore Taka)', 'Highest', 'Lowest', 'Average', 'Number of Deals']\n"
     ]
    }
   ],
   "source": [
    "# Find all <th> elements within <thead>\n",
    "header_cells = headers_raw.find_all(\"th\")\n",
    "\n",
    "# Extract the text from each <th> element\n",
    "headers = [th.get_text(strip=True) for th in header_cells]\n",
    "# this is not the ideal way, but we have to rearrange headers since headers are given in two rows\n",
    "headers.remove(\"Interest rate(%)\")\n",
    "headers.remove(\"Number of Deals\")\n",
    "headers.append(\"Number of Deals\")\n",
    "print(headers)\n",
    "# alternatively you can simply write down column names rather than extract it from html, then make sure the html contains at least your column names"
   ],
   "metadata": {
    "collapsed": false
   }
  },
  {
   "cell_type": "code",
   "execution_count": 43,
   "outputs": [
    {
     "name": "stdout",
     "output_type": "stream",
     "text": [
      "[['Overnight', '1 Day(/s)', '5270.60', '10.00', '8.50', '8.97', '64'], ['Short Notice', '2 Day(/s)', '20.00', '9.50', '9.50', '9.50', '1'], ['Short Notice', '5 Day(/s)', '80.00', '11.00', '11.00', '11.00', '1'], ['Short Notice', '7 Day(/s)', '182.00', '11.00', '10.90', '10.99', '4'], ['Short Notice', '8 Day(/s)', '20.00', '11.90', '11.90', '11.90', '1'], ['Term', '90 Day(/s)', '100.00', '12.75', '12.75', '12.75', '1']]\n"
     ]
    }
   ],
   "source": [
    "# Find all rows in tbody\n",
    "rows = t_content.find_all(\"tr\")\n",
    "\n",
    "# Extract data from each row\n",
    "data = []\n",
    "for row in rows:\n",
    "    cells = row.find_all(\"td\")\n",
    "    if len(cells)==1:\n",
    "        # skip the first row\n",
    "        continue\n",
    "    cell_texts = [cell.get_text(strip=True) for cell in cells]\n",
    "    data.append(cell_texts)\n",
    "print(data)"
   ],
   "metadata": {
    "collapsed": false
   }
  },
  {
   "cell_type": "code",
   "execution_count": 44,
   "outputs": [],
   "source": [
    "# Create a pandas DataFrame\n",
    "df_3 = pd.DataFrame(data, columns=headers)"
   ],
   "metadata": {
    "collapsed": false
   }
  },
  {
   "cell_type": "code",
   "execution_count": 45,
   "outputs": [
    {
     "data": {
      "text/plain": "        Product   Maturity Amount(Crore Taka) Highest Lowest Average  \\\n0     Overnight  1 Day(/s)            5270.60   10.00   8.50    8.97   \n1  Short Notice  2 Day(/s)              20.00    9.50   9.50    9.50   \n2  Short Notice  5 Day(/s)              80.00   11.00  11.00   11.00   \n3  Short Notice  7 Day(/s)             182.00   11.00  10.90   10.99   \n4  Short Notice  8 Day(/s)              20.00   11.90  11.90   11.90   \n\n  Number of Deals  \n0              64  \n1               1  \n2               1  \n3               4  \n4               1  ",
      "text/html": "<div>\n<style scoped>\n    .dataframe tbody tr th:only-of-type {\n        vertical-align: middle;\n    }\n\n    .dataframe tbody tr th {\n        vertical-align: top;\n    }\n\n    .dataframe thead th {\n        text-align: right;\n    }\n</style>\n<table border=\"1\" class=\"dataframe\">\n  <thead>\n    <tr style=\"text-align: right;\">\n      <th></th>\n      <th>Product</th>\n      <th>Maturity</th>\n      <th>Amount(Crore Taka)</th>\n      <th>Highest</th>\n      <th>Lowest</th>\n      <th>Average</th>\n      <th>Number of Deals</th>\n    </tr>\n  </thead>\n  <tbody>\n    <tr>\n      <th>0</th>\n      <td>Overnight</td>\n      <td>1 Day(/s)</td>\n      <td>5270.60</td>\n      <td>10.00</td>\n      <td>8.50</td>\n      <td>8.97</td>\n      <td>64</td>\n    </tr>\n    <tr>\n      <th>1</th>\n      <td>Short Notice</td>\n      <td>2 Day(/s)</td>\n      <td>20.00</td>\n      <td>9.50</td>\n      <td>9.50</td>\n      <td>9.50</td>\n      <td>1</td>\n    </tr>\n    <tr>\n      <th>2</th>\n      <td>Short Notice</td>\n      <td>5 Day(/s)</td>\n      <td>80.00</td>\n      <td>11.00</td>\n      <td>11.00</td>\n      <td>11.00</td>\n      <td>1</td>\n    </tr>\n    <tr>\n      <th>3</th>\n      <td>Short Notice</td>\n      <td>7 Day(/s)</td>\n      <td>182.00</td>\n      <td>11.00</td>\n      <td>10.90</td>\n      <td>10.99</td>\n      <td>4</td>\n    </tr>\n    <tr>\n      <th>4</th>\n      <td>Short Notice</td>\n      <td>8 Day(/s)</td>\n      <td>20.00</td>\n      <td>11.90</td>\n      <td>11.90</td>\n      <td>11.90</td>\n      <td>1</td>\n    </tr>\n  </tbody>\n</table>\n</div>"
     },
     "execution_count": 45,
     "metadata": {},
     "output_type": "execute_result"
    }
   ],
   "source": [
    "df_3.head()"
   ],
   "metadata": {
    "collapsed": false
   }
  },
  {
   "cell_type": "code",
   "execution_count": 47,
   "outputs": [],
   "source": [
    "#Alternative way to parse html using pandas\n",
    "df_tables = pd.read_html(req_url)"
   ],
   "metadata": {
    "collapsed": false
   }
  },
  {
   "cell_type": "code",
   "execution_count": 48,
   "outputs": [
    {
     "data": {
      "text/plain": "1"
     },
     "execution_count": 48,
     "metadata": {},
     "output_type": "execute_result"
    }
   ],
   "source": [
    "#this will create list for each table in html, in our case, there is only one table\n",
    "len(df_tables)"
   ],
   "metadata": {
    "collapsed": false
   }
  },
  {
   "cell_type": "code",
   "execution_count": 52,
   "outputs": [],
   "source": [
    "# select the table\n",
    "df_4 = df_tables[0]"
   ],
   "metadata": {
    "collapsed": false
   }
  },
  {
   "cell_type": "code",
   "execution_count": 54,
   "outputs": [
    {
     "data": {
      "text/plain": "         Product       Maturity Amount (Crore Taka) Interest rate(%)  \\\n         Product       Maturity Amount (Crore Taka)          Highest   \n0  05 June, 2024  05 June, 2024       05 June, 2024    05 June, 2024   \n1      Overnight      1 Day(/s)              245.00             9.95   \n2   Short Notice     14 Day(/s)              100.00            10.00   \n\n                                Number of Deals  \n          Lowest        Average Number of Deals  \n0  05 June, 2024  05 June, 2024   05 June, 2024  \n1           8.50           8.81               8  \n2           9.50           9.75               2  ",
      "text/html": "<div>\n<style scoped>\n    .dataframe tbody tr th:only-of-type {\n        vertical-align: middle;\n    }\n\n    .dataframe tbody tr th {\n        vertical-align: top;\n    }\n\n    .dataframe thead tr th {\n        text-align: left;\n    }\n</style>\n<table border=\"1\" class=\"dataframe\">\n  <thead>\n    <tr>\n      <th></th>\n      <th>Product</th>\n      <th>Maturity</th>\n      <th>Amount (Crore Taka)</th>\n      <th colspan=\"3\" halign=\"left\">Interest rate(%)</th>\n      <th>Number of Deals</th>\n    </tr>\n    <tr>\n      <th></th>\n      <th>Product</th>\n      <th>Maturity</th>\n      <th>Amount (Crore Taka)</th>\n      <th>Highest</th>\n      <th>Lowest</th>\n      <th>Average</th>\n      <th>Number of Deals</th>\n    </tr>\n  </thead>\n  <tbody>\n    <tr>\n      <th>0</th>\n      <td>05 June, 2024</td>\n      <td>05 June, 2024</td>\n      <td>05 June, 2024</td>\n      <td>05 June, 2024</td>\n      <td>05 June, 2024</td>\n      <td>05 June, 2024</td>\n      <td>05 June, 2024</td>\n    </tr>\n    <tr>\n      <th>1</th>\n      <td>Overnight</td>\n      <td>1 Day(/s)</td>\n      <td>245.00</td>\n      <td>9.95</td>\n      <td>8.50</td>\n      <td>8.81</td>\n      <td>8</td>\n    </tr>\n    <tr>\n      <th>2</th>\n      <td>Short Notice</td>\n      <td>14 Day(/s)</td>\n      <td>100.00</td>\n      <td>10.00</td>\n      <td>9.50</td>\n      <td>9.75</td>\n      <td>2</td>\n    </tr>\n  </tbody>\n</table>\n</div>"
     },
     "execution_count": 54,
     "metadata": {},
     "output_type": "execute_result"
    }
   ],
   "source": [
    "df_4.head()"
   ],
   "metadata": {
    "collapsed": false
   }
  },
  {
   "cell_type": "code",
   "execution_count": 59,
   "outputs": [
    {
     "data": {
      "text/plain": "        Product   Maturity Amount(Crore Taka) Highest Lowest Average  \\\n0     Overnight  1 Day(/s)            5270.60   10.00   8.50    8.97   \n1  Short Notice  2 Day(/s)              20.00    9.50   9.50    9.50   \n2  Short Notice  5 Day(/s)              80.00   11.00  11.00   11.00   \n3  Short Notice  7 Day(/s)             182.00   11.00  10.90   10.99   \n4  Short Notice  8 Day(/s)              20.00   11.90  11.90   11.90   \n\n  Number of Deals  \n0              64  \n1               1  \n2               1  \n3               4  \n4               1  ",
      "text/html": "<div>\n<style scoped>\n    .dataframe tbody tr th:only-of-type {\n        vertical-align: middle;\n    }\n\n    .dataframe tbody tr th {\n        vertical-align: top;\n    }\n\n    .dataframe thead th {\n        text-align: right;\n    }\n</style>\n<table border=\"1\" class=\"dataframe\">\n  <thead>\n    <tr style=\"text-align: right;\">\n      <th></th>\n      <th>Product</th>\n      <th>Maturity</th>\n      <th>Amount(Crore Taka)</th>\n      <th>Highest</th>\n      <th>Lowest</th>\n      <th>Average</th>\n      <th>Number of Deals</th>\n    </tr>\n  </thead>\n  <tbody>\n    <tr>\n      <th>0</th>\n      <td>Overnight</td>\n      <td>1 Day(/s)</td>\n      <td>5270.60</td>\n      <td>10.00</td>\n      <td>8.50</td>\n      <td>8.97</td>\n      <td>64</td>\n    </tr>\n    <tr>\n      <th>1</th>\n      <td>Short Notice</td>\n      <td>2 Day(/s)</td>\n      <td>20.00</td>\n      <td>9.50</td>\n      <td>9.50</td>\n      <td>9.50</td>\n      <td>1</td>\n    </tr>\n    <tr>\n      <th>2</th>\n      <td>Short Notice</td>\n      <td>5 Day(/s)</td>\n      <td>80.00</td>\n      <td>11.00</td>\n      <td>11.00</td>\n      <td>11.00</td>\n      <td>1</td>\n    </tr>\n    <tr>\n      <th>3</th>\n      <td>Short Notice</td>\n      <td>7 Day(/s)</td>\n      <td>182.00</td>\n      <td>11.00</td>\n      <td>10.90</td>\n      <td>10.99</td>\n      <td>4</td>\n    </tr>\n    <tr>\n      <th>4</th>\n      <td>Short Notice</td>\n      <td>8 Day(/s)</td>\n      <td>20.00</td>\n      <td>11.90</td>\n      <td>11.90</td>\n      <td>11.90</td>\n      <td>1</td>\n    </tr>\n  </tbody>\n</table>\n</div>"
     },
     "execution_count": 59,
     "metadata": {},
     "output_type": "execute_result"
    }
   ],
   "source": [
    "df_3.head()"
   ],
   "metadata": {
    "collapsed": false
   }
  },
  {
   "cell_type": "code",
   "execution_count": null,
   "outputs": [],
   "source": [
    "# pandas fails to get all the data\n",
    "len(df_4)\n"
   ],
   "metadata": {
    "collapsed": false
   }
  },
  {
   "cell_type": "code",
   "execution_count": 58,
   "outputs": [
    {
     "data": {
      "text/plain": "6"
     },
     "execution_count": 58,
     "metadata": {},
     "output_type": "execute_result"
    }
   ],
   "source": [
    "len(df_3)"
   ],
   "metadata": {
    "collapsed": false
   }
  },
  {
   "cell_type": "markdown",
   "source": [
    "IV. It is not always straightforward to download data, even using html. In many cases, often using URL alone will not be enough. Website will require you to send additional details in the payload to make it look like an authentic request using browser. Chrome and other browsers do it on the backend, however, if you can open it in the browser, there must be a way to open it using a code as well. Again we will use Chrome console to figure out what is required.\n"
   ],
   "metadata": {
    "collapsed": false
   }
  },
  {
   "cell_type": "markdown",
   "source": [
    "Continuing with above example, now we need to download the data for history as well. We need to define what additional attributes we should send along the URL request to get full data. The process is a bit complicated and not everything can be covered with one example. Often you may require to get creative to identify source. Easiest way is to use Chrome console."
   ],
   "metadata": {
    "collapsed": false
   }
  },
  {
   "cell_type": "markdown",
   "source": [
    "Step 1: Enter Chrome console by using Inspect or pressing F12 and then go to Network. Then on left pane, select dates to show the full data. In Network, full list of URl requests executed in the backend is listed. Here you need to locate which request is calling the table data. That is the tricky part. Sometimes there are plenty of requests that you may actually spend a lot of time for it. This example is rather easier to find. You may see in the image below that request is called call_money_market and includes link for the website. This is the one we look for.![Example](images/locate_url_request.png)\n",
    "\n",
    "Step 2: We need to identify the attributes. First thing we must identify is how to set dates. There are two places we check. Request headers and payload. Not all the attributes written here are required to get data. Instead we should start with the things we must add and gradually add the rest of the attributes until we get html page with table. In this example, date is set using date_picker attribute in payload. We also send user-agent to identify session as a browser session. You can also see it in request headers. I ended up using following attributes ![Example](images/req_attributes.png)"
   ],
   "metadata": {
    "collapsed": false
   }
  },
  {
   "cell_type": "code",
   "execution_count": 85,
   "outputs": [
    {
     "name": "stdout",
     "output_type": "stream",
     "text": [
      "Data have been saved successfully \n"
     ]
    }
   ],
   "source": [
    "req_url = \"https://www.bb.org.bd/en/index.php/monetaryactivity/call_money_market\"\n",
    "# payload = {'date_picker': '01/05/2024 - 31/05/2024'} this format doesn't work\n",
    "\n",
    "data = 'date_picker=01/05/2024 - 31/05/2024'\n",
    "\n",
    "# Define headers with a User-Agent for Chrome\n",
    "headers = {\n",
    "    'User-Agent': 'Mozilla/5.0 (Windows NT 10.0; Win64; x64) AppleWebKit/537.36 (KHTML, like Gecko) Chrome/122.0.0.0 Safari/537.36',\n",
    "    'Content-Type': 'application/x-www-form-urlencoded'\n",
    "}\n",
    "\n",
    "response = req.post(req_url, data=data, headers=headers)\n",
    "\n",
    "# Check if data request was successful\n",
    "if response.ok:\n",
    "    # Save CSV response to a file\n",
    "    soup = BeautifulSoup(response.content.decode(\"utf-8\"))\n",
    "        # Create a temporary file\n",
    "    with open(\"temp_file.html\", 'w', encoding='utf-8') as temp_file:\n",
    "        temp_file.write(response.text)\n",
    "    print('Data have been saved successfully ')\n",
    "else:\n",
    "    print('Failed to retrieve data:', response.status_code)\n",
    "\n"
   ],
   "metadata": {
    "collapsed": false
   }
  },
  {
   "cell_type": "code",
   "execution_count": 86,
   "outputs": [
    {
     "data": {
      "text/plain": "True"
     },
     "execution_count": 86,
     "metadata": {},
     "output_type": "execute_result"
    }
   ],
   "source": [
    "# check with local browser to see if you have retrieved the correct html\n",
    "webbrowser.open(\"temp_file.html\")"
   ],
   "metadata": {
    "collapsed": false
   }
  },
  {
   "cell_type": "code",
   "execution_count": 90,
   "outputs": [
    {
     "name": "stdout",
     "output_type": "stream",
     "text": [
      "1\n"
     ]
    }
   ],
   "source": [
    "# extract data\n",
    "tables = soup.find_all(attrs={\"class\": \"table-responsive\"})\n",
    "print(len(tables))"
   ],
   "metadata": {
    "collapsed": false
   }
  },
  {
   "cell_type": "code",
   "execution_count": 91,
   "outputs": [
    {
     "name": "stdout",
     "output_type": "stream",
     "text": [
      "['Product', 'Maturity', 'Amount(Crore Taka)', 'Highest', 'Lowest', 'Average', 'Number of Deals']\n"
     ]
    }
   ],
   "source": [
    "# select the first table since we have only 1 of them\n",
    "table = tables[0]\n",
    "headers_raw = table.select_one(\"thead\")\n",
    "t_content = table.select_one(\"tbody\")\n",
    "# Find all <th> elements within <thead>\n",
    "header_cells = headers_raw.find_all(\"th\")\n",
    "\n",
    "# Extract the text from each <th> element\n",
    "headers = [th.get_text(strip=True) for th in header_cells]\n",
    "# this is not the ideal way, but we have to rearrange headers since headers are given in two rows\n",
    "headers.remove(\"Interest rate(%)\")\n",
    "headers.remove(\"Number of Deals\")\n",
    "headers.append(\"Number of Deals\")\n",
    "print(headers)"
   ],
   "metadata": {
    "collapsed": false
   }
  },
  {
   "cell_type": "code",
   "execution_count": 114,
   "outputs": [],
   "source": [
    "# Find all rows in tbody\n",
    "rows = t_content.find_all(\"tr\")\n",
    "\n",
    "# Extract data from each row\n",
    "data = []\n",
    "dates = []\n",
    "current_date = None\n",
    "for row in rows:\n",
    "    cells = row.find_all(\"td\")\n",
    "    if len(cells)==1:\n",
    "        current_date = cells[0].get_text(strip=True)\n",
    "        continue\n",
    "    cell_texts = [cell.get_text(strip=True) for cell in cells]\n",
    "    data.append(cell_texts)\n",
    "    #for each date, there are different types of maturity, thus we need to repeat each date by number of maturity types\n",
    "    dates.append(current_date)"
   ],
   "metadata": {
    "collapsed": false
   }
  },
  {
   "cell_type": "code",
   "execution_count": null,
   "outputs": [],
   "source": [
    "print(dates)"
   ],
   "metadata": {
    "collapsed": false
   }
  },
  {
   "cell_type": "code",
   "execution_count": 116,
   "outputs": [],
   "source": [
    "# convert dates to pandas datetime format\n",
    "date_index = pd.to_datetime(dates, format='%d %b, %Y')"
   ],
   "metadata": {
    "collapsed": false
   }
  },
  {
   "cell_type": "code",
   "execution_count": 117,
   "outputs": [],
   "source": [
    "df_5 = pd.DataFrame(data, columns=headers, index=date_index)"
   ],
   "metadata": {
    "collapsed": false
   }
  },
  {
   "cell_type": "code",
   "execution_count": 119,
   "outputs": [
    {
     "data": {
      "text/plain": "                 Product    Maturity Amount(Crore Taka) Highest Lowest  \\\n2024-05-30     Overnight   1 Day(/s)            3477.66   10.00   8.50   \n2024-05-30  Short Notice   7 Day(/s)             134.00   11.25  10.00   \n2024-05-30  Short Notice  14 Day(/s)              64.80   12.00  10.00   \n2024-05-30          Term  33 Day(/s)               9.00   12.00  12.00   \n2024-05-30          Term  91 Day(/s)               2.00   12.55  12.55   \n\n           Average Number of Deals  \n2024-05-30    9.12              47  \n2024-05-30   11.05               5  \n2024-05-30   10.89               3  \n2024-05-30   12.00               1  \n2024-05-30   12.55               1  ",
      "text/html": "<div>\n<style scoped>\n    .dataframe tbody tr th:only-of-type {\n        vertical-align: middle;\n    }\n\n    .dataframe tbody tr th {\n        vertical-align: top;\n    }\n\n    .dataframe thead th {\n        text-align: right;\n    }\n</style>\n<table border=\"1\" class=\"dataframe\">\n  <thead>\n    <tr style=\"text-align: right;\">\n      <th></th>\n      <th>Product</th>\n      <th>Maturity</th>\n      <th>Amount(Crore Taka)</th>\n      <th>Highest</th>\n      <th>Lowest</th>\n      <th>Average</th>\n      <th>Number of Deals</th>\n    </tr>\n  </thead>\n  <tbody>\n    <tr>\n      <th>2024-05-30</th>\n      <td>Overnight</td>\n      <td>1 Day(/s)</td>\n      <td>3477.66</td>\n      <td>10.00</td>\n      <td>8.50</td>\n      <td>9.12</td>\n      <td>47</td>\n    </tr>\n    <tr>\n      <th>2024-05-30</th>\n      <td>Short Notice</td>\n      <td>7 Day(/s)</td>\n      <td>134.00</td>\n      <td>11.25</td>\n      <td>10.00</td>\n      <td>11.05</td>\n      <td>5</td>\n    </tr>\n    <tr>\n      <th>2024-05-30</th>\n      <td>Short Notice</td>\n      <td>14 Day(/s)</td>\n      <td>64.80</td>\n      <td>12.00</td>\n      <td>10.00</td>\n      <td>10.89</td>\n      <td>3</td>\n    </tr>\n    <tr>\n      <th>2024-05-30</th>\n      <td>Term</td>\n      <td>33 Day(/s)</td>\n      <td>9.00</td>\n      <td>12.00</td>\n      <td>12.00</td>\n      <td>12.00</td>\n      <td>1</td>\n    </tr>\n    <tr>\n      <th>2024-05-30</th>\n      <td>Term</td>\n      <td>91 Day(/s)</td>\n      <td>2.00</td>\n      <td>12.55</td>\n      <td>12.55</td>\n      <td>12.55</td>\n      <td>1</td>\n    </tr>\n  </tbody>\n</table>\n</div>"
     },
     "execution_count": 119,
     "metadata": {},
     "output_type": "execute_result"
    }
   ],
   "source": [
    "df_5.head()"
   ],
   "metadata": {
    "collapsed": false
   }
  },
  {
   "cell_type": "markdown",
   "source": [
    "V. There are cases that you have to sign-in in order to access data. If such credentials are required, then it is not possible to simply use URL and get the data. If username and password can be set using attributes, you can use a similiar procedure to the example above and do it. However, another and probably more user-friendly approach is to mimic browser behaviour almost as if you are using your keyboard and mouse to interact with it. In python, mechanicalsoup allows us to fill-in signin forms and make further URL requests in a signed-in type of session. Mechanical soup has its limitations. Java has selenium packages which is a more advanced tool, however, it is outside scope of this tutorial. Instead I will show far simpler solution in case VI for single-use cases.\n"
   ],
   "metadata": {
    "collapsed": false
   }
  },
  {
   "cell_type": "markdown",
   "source": [
    "In this example, we are going to sign-in to IMF. We will sign in first and then download the data using Python code. If the data is not in excel format, but an html table, which is when you will mostly need to use the code to parse data, you can stil use the same steps to sign in and do the rest using the examples about parsing from html above."
   ],
   "metadata": {
    "collapsed": false
   }
  },
  {
   "cell_type": "markdown",
   "source": [
    "STEP 1 - Set username and password. You can write down in the code if you are the only user and you won't share the code. Since I am sharing the code with you, I am going to access it from local file. And later enter login page using mechanical soup browser"
   ],
   "metadata": {
    "collapsed": false
   }
  },
  {
   "cell_type": "markdown",
   "source": [],
   "metadata": {
    "collapsed": false
   }
  },
  {
   "cell_type": "code",
   "execution_count": 2,
   "outputs": [],
   "source": [
    "with open('user_data.json', 'r') as file:\n",
    "    # Step 3: Load the JSON data\n",
    "    data = json.load(file)\n",
    "\n",
    "# Step 4: Access the attributes\n",
    "username = data['username']\n",
    "password = data['password']"
   ],
   "metadata": {
    "collapsed": false
   }
  },
  {
   "cell_type": "markdown",
   "source": [
    "Step 2. Submit your credentials using login form and sign in. We first need to locate how the form is called inside html structure. Use Chrome console again to locate table in the html and check the tag of form. Luckily they are using default name \"form\""
   ],
   "metadata": {
    "collapsed": false
   }
  },
  {
   "cell_type": "markdown",
   "source": [
    "source: https://realpython.com/python-web-scraping-practical-introduction/#install-mechanicalsoup"
   ],
   "metadata": {
    "collapsed": false
   }
  },
  {
   "cell_type": "code",
   "execution_count": 3,
   "outputs": [
    {
     "data": {
      "text/plain": "<Response [200]>"
     },
     "execution_count": 3,
     "metadata": {},
     "output_type": "execute_result"
    }
   ],
   "source": [
    "browser = mechanicalsoup.StatefulBrowser(user_agent='MechanicalSoup')\n",
    "browser.open(\"https://www.bookstore.imf.org/authgatewaylogin\")\n",
    "\n"
   ],
   "metadata": {
    "collapsed": false
   }
  },
  {
   "cell_type": "code",
   "execution_count": 4,
   "outputs": [],
   "source": [
    "form = browser.select_form('form')"
   ],
   "metadata": {
    "collapsed": false
   }
  },
  {
   "cell_type": "code",
   "execution_count": 5,
   "outputs": [
    {
     "name": "stdout",
     "output_type": "stream",
     "text": [
      "<input autocomplete=\"off\" name=\"authenticity_token\" type=\"hidden\" value=\"R70m39KTfvMCO7yKC36bCkFEegbQkwoqHfRdGJSUrl4h42kMZRJhFvoiN9GGYjQj1zI2weVKPZtkVOj0kbLm8Q\"/>\n",
      "<input autocomplete=\"'off'\" class=\"form-control\" id=\"username\" name=\"username\" placeholder=\"Su dirección de correo electrónico es su nombre de usuario\" type=\"text\"/>\n",
      "<input autocomplete=\"'off'\" class=\"form-control large\" id=\"password\" name=\"password\" placeholder=\"Contraseña\" type=\"password\" value=\"\"/>\n",
      "<input autocomplete=\"off\" id=\"ssortn\" name=\"ssortn\" type=\"hidden\" value=\"https://www.bookstore.imf.org\"/>\n",
      "<input autocomplete=\"off\" id=\"commit\" name=\"commit\" type=\"hidden\" value=\"1\"/>\n",
      "<button class=\"imf-button\" id=\"update\" name=\"button\" type=\"submit\">Enviar</button>\n"
     ]
    }
   ],
   "source": [
    "form.print_summary()"
   ],
   "metadata": {
    "collapsed": false
   }
  },
  {
   "cell_type": "code",
   "execution_count": 6,
   "outputs": [],
   "source": [
    "form.set(\"username\", username)\n",
    "form.set(\"password\", password)"
   ],
   "metadata": {
    "collapsed": false
   }
  },
  {
   "cell_type": "code",
   "execution_count": 7,
   "outputs": [
    {
     "data": {
      "text/plain": "<Response [200]>"
     },
     "execution_count": 7,
     "metadata": {},
     "output_type": "execute_result"
    }
   ],
   "source": [
    "browser.submit_selected()"
   ],
   "metadata": {
    "collapsed": false
   }
  },
  {
   "cell_type": "code",
   "execution_count": 8,
   "outputs": [],
   "source": [
    "browser.launch_browser()"
   ],
   "metadata": {
    "collapsed": false
   }
  },
  {
   "cell_type": "markdown",
   "source": [
    "VI. Finally, in case you have a webpage that requires sign-in and is very complicated or impossible to handle with mechanicalsoup but you still want to parse data from webpage, this is not the ideal but a far simpler solution. Chrome and other browsers allow you to download webpage data. Among the downloaded data, you can find raw html file that includes all the information you need. Instead of making a URL request, we will use that file to extract data."
   ],
   "metadata": {
    "collapsed": false
   }
  },
  {
   "cell_type": "markdown",
   "source": [
    "STEP 1. Click CTRL+S (CMD+S for MAC) or right click on an empty space on the webpage and select Save as. Then select folder you want to save. We also need to save complete page. Click save and wait for download to finish"
   ],
   "metadata": {
    "collapsed": false
   }
  },
  {
   "cell_type": "markdown",
   "source": [
    "STEP 2. Go to the folder with downloaded files. You will have one html file with the name you have selected and another folder with the same name. As long as data you want to access is stored in html, you can simply use html file to extract data. Often you may notice that html file itself is 1kb and contains no data, then search html files inside the folder and you will find another html file with bigger size. It may be called resource_content, raw_content etc. Just take the correct html file and nothing else, rename if you want\n",
    "STEP 3. Go to python and use the code below to extract the data. HTML extraction is the same after you load html content to beautifulsoup (the method you use only depends on the content). THe only difference is how to load that content to beautiful soup."
   ],
   "metadata": {
    "collapsed": false
   }
  },
  {
   "cell_type": "markdown",
   "source": [
    "Example: https://tradingeconomics.com/argentina/inflation-cpi Go to this webpage and save html page. The data is in the file, you don't need to check inside folder."
   ],
   "metadata": {
    "collapsed": false
   }
  },
  {
   "cell_type": "code",
   "execution_count": null,
   "outputs": [],
   "source": [
    "with open(\"source_html_file.html\") as fp:\n",
    "    soup = BeautifulSoup(fp, 'html.parser')\n"
   ],
   "metadata": {
    "collapsed": false
   }
  }
 ],
 "metadata": {
  "kernelspec": {
   "display_name": "Python 3",
   "language": "python",
   "name": "python3"
  },
  "language_info": {
   "codemirror_mode": {
    "name": "ipython",
    "version": 2
   },
   "file_extension": ".py",
   "mimetype": "text/x-python",
   "name": "python",
   "nbconvert_exporter": "python",
   "pygments_lexer": "ipython2",
   "version": "2.7.6"
  }
 },
 "nbformat": 4,
 "nbformat_minor": 0
}
