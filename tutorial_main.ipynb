{
 "cells": [
  {
   "cell_type": "markdown",
   "metadata": {},
   "source": [
    "PRACTICAL TOOLS FOR PARSING DATA WITH PYTHON"
   ]
  },
  {
   "cell_type": "markdown",
   "metadata": {},
   "source": [
    "USED PACKAGES:\n",
    "urllib3                   2.2.1\n",
    "requests                  2.31.0\n",
    "openpyxl                  3.1.2\n",
    "pandas                    2.2.2\n",
    "numpy                     1.26.4\n",
    "beautifulsoup4            4.12.2\n",
    "lxml\n",
    "MechanicalSoup            1.3.0"
   ]
  },
  {
   "cell_type": "code",
   "execution_count": 2,
   "metadata": {},
   "outputs": [],
   "source": [
    "import requests as req\n",
    "import numpy as np\n",
    "import pandas as pd\n",
    "from IPython.display import Image\n",
    "from datetime import datetime\n",
    "from bs4 import BeautifulSoup\n",
    "import webbrowser\n",
    "import mechanicalsoup\n",
    "import json\n"
   ]
  },
  {
   "cell_type": "markdown",
   "metadata": {},
   "source": [
    "I. Downloading data when a download link is available. This is the ideal case which would often require you not to use the code if you will download the data once from the website. I am still going to show you how to download and read the data using Python if such link is available in case you would have to download the data regularly."
   ]
  },
  {
   "cell_type": "markdown",
   "metadata": {},
   "source": [
    "STEP 1: Identify the link\n",
    "\n",
    "Easiest ways to identify the link:\n",
    "   - a) Go to source website and check for download button. Often download button will be given as image with the image describing the file type. Once you find download button, click right button on your mouse and select \"copy link address\"\n",
    "  ![Example](images/locate_download_button.png)\n",
    "   - b) Sometimes, download button is not directly leading to the main download URL, instead it acts as trigger  - you click on button, it redirects to the original URL. In this case, \"copy link address\" won't give you the correct address. Instead, you may locate downloaded file in the Downloads tab of Chrome browser (CTRL+J will take you there) and you can access correct download link using \"copy link address\" like in this example\n",
    "   ![Example](images/locate_download_link.png)"
   ]
  },
  {
   "cell_type": "markdown",
   "metadata": {},
   "source": [
    "STEP 2. Use the retrieved link to parse data on Python. From the link we can already understand that this is an xlsx file."
   ]
  },
  {
   "cell_type": "code",
   "execution_count": 6,
   "metadata": {},
   "outputs": [
    {
     "name": "stdout",
     "output_type": "stream",
     "text": [
      "Data have been saved successfully \n"
     ]
    },
    {
     "data": {
      "text/html": [
       "<div>\n",
       "<style scoped>\n",
       "    .dataframe tbody tr th:only-of-type {\n",
       "        vertical-align: middle;\n",
       "    }\n",
       "\n",
       "    .dataframe tbody tr th {\n",
       "        vertical-align: top;\n",
       "    }\n",
       "\n",
       "    .dataframe thead th {\n",
       "        text-align: right;\n",
       "    }\n",
       "</style>\n",
       "<table border=\"1\" class=\"dataframe\">\n",
       "  <thead>\n",
       "    <tr style=\"text-align: right;\">\n",
       "      <th></th>\n",
       "      <th>Currency in Circulation</th>\n",
       "      <th>Monetary Base</th>\n",
       "      <th>Money Aggregates (M3)</th>\n",
       "      <th>Money Aggregates (M2)</th>\n",
       "      <th>Money Aggregates (M1)</th>\n",
       "      <th>Money Outside Banks (M0)</th>\n",
       "      <th>Transferable Deposits in National Currency</th>\n",
       "      <th>Term Deposits in National Currency</th>\n",
       "      <th>Deposits in Foreign Currency</th>\n",
       "      <th>Deposits, Total</th>\n",
       "      <th>...</th>\n",
       "      <th>Money Multiplier (M3)</th>\n",
       "      <th>Money Multiplier (M2)</th>\n",
       "      <th>Monetization Coefficient * (M3)</th>\n",
       "      <th>Monetization Coefficient * (M2)</th>\n",
       "      <th>Money Velocity * (M3)</th>\n",
       "      <th>Money Velocity * (M2)</th>\n",
       "      <th>Monetization Coefficient (M3)</th>\n",
       "      <th>Monetization Coefficient (M2)</th>\n",
       "      <th>Money Velocity (M3)</th>\n",
       "      <th>Money Velocity (M2)</th>\n",
       "    </tr>\n",
       "    <tr>\n",
       "      <th>Period</th>\n",
       "      <th></th>\n",
       "      <th></th>\n",
       "      <th></th>\n",
       "      <th></th>\n",
       "      <th></th>\n",
       "      <th></th>\n",
       "      <th></th>\n",
       "      <th></th>\n",
       "      <th></th>\n",
       "      <th></th>\n",
       "      <th></th>\n",
       "      <th></th>\n",
       "      <th></th>\n",
       "      <th></th>\n",
       "      <th></th>\n",
       "      <th></th>\n",
       "      <th></th>\n",
       "      <th></th>\n",
       "      <th></th>\n",
       "      <th></th>\n",
       "      <th></th>\n",
       "    </tr>\n",
       "  </thead>\n",
       "  <tbody>\n",
       "    <tr>\n",
       "      <th>2024-03-31</th>\n",
       "      <td>5675.703</td>\n",
       "      <td>10669.549</td>\n",
       "      <td>43186.961</td>\n",
       "      <td>25403.360783</td>\n",
       "      <td>16501.021816</td>\n",
       "      <td>4676.592</td>\n",
       "      <td>11824.429816</td>\n",
       "      <td>8902.338967</td>\n",
       "      <td>17783.600316</td>\n",
       "      <td>38510.369099</td>\n",
       "      <td>...</td>\n",
       "      <td>4.047684</td>\n",
       "      <td>2.380922</td>\n",
       "      <td>49.294313</td>\n",
       "      <td>28.778976</td>\n",
       "      <td>2.028632</td>\n",
       "      <td>3.474759</td>\n",
       "      <td>50.006902</td>\n",
       "      <td>29.414975</td>\n",
       "      <td>1.999724</td>\n",
       "      <td>3.399629</td>\n",
       "    </tr>\n",
       "    <tr>\n",
       "      <th>NaT</th>\n",
       "      <td>NaN</td>\n",
       "      <td>NaN</td>\n",
       "      <td>NaN</td>\n",
       "      <td>NaN</td>\n",
       "      <td>NaN</td>\n",
       "      <td>NaN</td>\n",
       "      <td>NaN</td>\n",
       "      <td>NaN</td>\n",
       "      <td>NaN</td>\n",
       "      <td>NaN</td>\n",
       "      <td>...</td>\n",
       "      <td>NaN</td>\n",
       "      <td>NaN</td>\n",
       "      <td>NaN</td>\n",
       "      <td>NaN</td>\n",
       "      <td>NaN</td>\n",
       "      <td>NaN</td>\n",
       "      <td>NaN</td>\n",
       "      <td>NaN</td>\n",
       "      <td>NaN</td>\n",
       "      <td>NaN</td>\n",
       "    </tr>\n",
       "    <tr>\n",
       "      <th>NaT</th>\n",
       "      <td>NaN</td>\n",
       "      <td>NaN</td>\n",
       "      <td>NaN</td>\n",
       "      <td>NaN</td>\n",
       "      <td>NaN</td>\n",
       "      <td>NaN</td>\n",
       "      <td>NaN</td>\n",
       "      <td>NaN</td>\n",
       "      <td>NaN</td>\n",
       "      <td>NaN</td>\n",
       "      <td>...</td>\n",
       "      <td>NaN</td>\n",
       "      <td>NaN</td>\n",
       "      <td>NaN</td>\n",
       "      <td>NaN</td>\n",
       "      <td>NaN</td>\n",
       "      <td>NaN</td>\n",
       "      <td>NaN</td>\n",
       "      <td>NaN</td>\n",
       "      <td>NaN</td>\n",
       "      <td>NaN</td>\n",
       "    </tr>\n",
       "    <tr>\n",
       "      <th>NaT</th>\n",
       "      <td>Source: The National Bank of Georgia.</td>\n",
       "      <td>NaN</td>\n",
       "      <td>NaN</td>\n",
       "      <td>NaN</td>\n",
       "      <td>NaN</td>\n",
       "      <td>NaN</td>\n",
       "      <td>NaN</td>\n",
       "      <td>NaN</td>\n",
       "      <td>NaN</td>\n",
       "      <td>NaN</td>\n",
       "      <td>...</td>\n",
       "      <td>NaN</td>\n",
       "      <td>NaN</td>\n",
       "      <td>NaN</td>\n",
       "      <td>NaN</td>\n",
       "      <td>NaN</td>\n",
       "      <td>NaN</td>\n",
       "      <td>NaN</td>\n",
       "      <td>NaN</td>\n",
       "      <td>NaN</td>\n",
       "      <td>NaN</td>\n",
       "    </tr>\n",
       "    <tr>\n",
       "      <th>NaT</th>\n",
       "      <td>Notes: * Average from the beginning of the yea...</td>\n",
       "      <td>NaN</td>\n",
       "      <td>NaN</td>\n",
       "      <td>NaN</td>\n",
       "      <td>NaN</td>\n",
       "      <td>NaN</td>\n",
       "      <td>NaN</td>\n",
       "      <td>NaN</td>\n",
       "      <td>NaN</td>\n",
       "      <td>NaN</td>\n",
       "      <td>...</td>\n",
       "      <td>NaN</td>\n",
       "      <td>NaN</td>\n",
       "      <td>NaN</td>\n",
       "      <td>NaN</td>\n",
       "      <td>NaN</td>\n",
       "      <td>NaN</td>\n",
       "      <td>NaN</td>\n",
       "      <td>NaN</td>\n",
       "      <td>NaN</td>\n",
       "      <td>NaN</td>\n",
       "    </tr>\n",
       "  </tbody>\n",
       "</table>\n",
       "<p>5 rows × 24 columns</p>\n",
       "</div>"
      ],
      "text/plain": [
       "                                      Currency in Circulation  Monetary Base  \\\n",
       "Period                                                                         \n",
       "2024-03-31                                           5675.703      10669.549   \n",
       "NaT                                                       NaN            NaN   \n",
       "NaT                                                       NaN            NaN   \n",
       "NaT                     Source: The National Bank of Georgia.            NaN   \n",
       "NaT         Notes: * Average from the beginning of the yea...            NaN   \n",
       "\n",
       "            Money Aggregates (M3)  Money Aggregates (M2)  \\\n",
       "Period                                                     \n",
       "2024-03-31              43186.961           25403.360783   \n",
       "NaT                           NaN                    NaN   \n",
       "NaT                           NaN                    NaN   \n",
       "NaT                           NaN                    NaN   \n",
       "NaT                           NaN                    NaN   \n",
       "\n",
       "            Money Aggregates (M1)  Money Outside Banks (M0)  \\\n",
       "Period                                                        \n",
       "2024-03-31           16501.021816                  4676.592   \n",
       "NaT                           NaN                       NaN   \n",
       "NaT                           NaN                       NaN   \n",
       "NaT                           NaN                       NaN   \n",
       "NaT                           NaN                       NaN   \n",
       "\n",
       "            Transferable Deposits in National Currency  \\\n",
       "Period                                                   \n",
       "2024-03-31                                11824.429816   \n",
       "NaT                                                NaN   \n",
       "NaT                                                NaN   \n",
       "NaT                                                NaN   \n",
       "NaT                                                NaN   \n",
       "\n",
       "            Term Deposits in National Currency  Deposits in Foreign Currency  \\\n",
       "Period                                                                         \n",
       "2024-03-31                         8902.338967                  17783.600316   \n",
       "NaT                                        NaN                           NaN   \n",
       "NaT                                        NaN                           NaN   \n",
       "NaT                                        NaN                           NaN   \n",
       "NaT                                        NaN                           NaN   \n",
       "\n",
       "            Deposits, Total  ...  Money Multiplier (M3)  \\\n",
       "Period                       ...                          \n",
       "2024-03-31     38510.369099  ...               4.047684   \n",
       "NaT                     NaN  ...                    NaN   \n",
       "NaT                     NaN  ...                    NaN   \n",
       "NaT                     NaN  ...                    NaN   \n",
       "NaT                     NaN  ...                    NaN   \n",
       "\n",
       "            Money Multiplier (M2)  Monetization Coefficient * (M3)  \\\n",
       "Period                                                               \n",
       "2024-03-31               2.380922                        49.294313   \n",
       "NaT                           NaN                              NaN   \n",
       "NaT                           NaN                              NaN   \n",
       "NaT                           NaN                              NaN   \n",
       "NaT                           NaN                              NaN   \n",
       "\n",
       "            Monetization Coefficient * (M2)  Money Velocity * (M3)  \\\n",
       "Period                                                               \n",
       "2024-03-31                        28.778976               2.028632   \n",
       "NaT                                     NaN                    NaN   \n",
       "NaT                                     NaN                    NaN   \n",
       "NaT                                     NaN                    NaN   \n",
       "NaT                                     NaN                    NaN   \n",
       "\n",
       "            Money Velocity * (M2)  Monetization Coefficient (M3)  \\\n",
       "Period                                                             \n",
       "2024-03-31               3.474759                      50.006902   \n",
       "NaT                           NaN                            NaN   \n",
       "NaT                           NaN                            NaN   \n",
       "NaT                           NaN                            NaN   \n",
       "NaT                           NaN                            NaN   \n",
       "\n",
       "            Monetization Coefficient (M2)  Money Velocity (M3)  \\\n",
       "Period                                                           \n",
       "2024-03-31                      29.414975             1.999724   \n",
       "NaT                                   NaN                  NaN   \n",
       "NaT                                   NaN                  NaN   \n",
       "NaT                                   NaN                  NaN   \n",
       "NaT                                   NaN                  NaN   \n",
       "\n",
       "            Money Velocity (M2)  \n",
       "Period                           \n",
       "2024-03-31             3.399629  \n",
       "NaT                         NaN  \n",
       "NaT                         NaN  \n",
       "NaT                         NaN  \n",
       "NaT                         NaN  \n",
       "\n",
       "[5 rows x 24 columns]"
      ]
     },
     "execution_count": 6,
     "metadata": {},
     "output_type": "execute_result"
    }
   ],
   "source": [
    "URL = \"https://nbg.gov.ge/fm/%E1%83%A1%E1%83%A2%E1%83%90%E1%83%A2%E1%83%98%E1%83%A1%E1%83%A2%E1%83%98%E1%83%99%E1%83%90/monetary_statistics/eng/money-aggregates-and-monetary-ratioseng.xlsx?v=r5z4c\"\n",
    "\n",
    "filename = \"data.xlsx\"\n",
    "\n",
    "# you may first save the file and load it using pandas library. However, saving first as a file may be useful if URL doesn't work and you receive some error info message in text/html form.\n",
    "# By checking response, you may understand what is the issue and try to solve it.\n",
    "response = req.get(URL)\n",
    "\n",
    "# Check if data request was successful\n",
    "if response.ok:\n",
    "    # Save CSV response to a file\n",
    "    with open(filename, 'wb') as f:\n",
    "        f.write(response.content)\n",
    "    print('Data have been saved successfully ')\n",
    "else:\n",
    "    print('Failed to retrieve data:', response.status_code)\n",
    "\n",
    "df = pd.read_excel(filename, index_col=0, header=2)\n",
    "df.head()\n"
   ]
  },
  {
   "cell_type": "code",
   "execution_count": 16,
   "metadata": {},
   "outputs": [
    {
     "data": {
      "text/html": [
       "<div>\n",
       "<style scoped>\n",
       "    .dataframe tbody tr th:only-of-type {\n",
       "        vertical-align: middle;\n",
       "    }\n",
       "\n",
       "    .dataframe tbody tr th {\n",
       "        vertical-align: top;\n",
       "    }\n",
       "\n",
       "    .dataframe thead th {\n",
       "        text-align: right;\n",
       "    }\n",
       "</style>\n",
       "<table border=\"1\" class=\"dataframe\">\n",
       "  <thead>\n",
       "    <tr style=\"text-align: right;\">\n",
       "      <th></th>\n",
       "      <th>Currency in Circulation</th>\n",
       "      <th>Monetary Base</th>\n",
       "      <th>Money Aggregates (M3)</th>\n",
       "      <th>Money Aggregates (M2)</th>\n",
       "      <th>Money Aggregates (M1)</th>\n",
       "      <th>Money Outside Banks (M0)</th>\n",
       "      <th>Transferable Deposits in National Currency</th>\n",
       "      <th>Term Deposits in National Currency</th>\n",
       "      <th>Deposits in Foreign Currency</th>\n",
       "      <th>Deposits, Total</th>\n",
       "      <th>...</th>\n",
       "      <th>Money Multiplier (M3)</th>\n",
       "      <th>Money Multiplier (M2)</th>\n",
       "      <th>Monetization Coefficient * (M3)</th>\n",
       "      <th>Monetization Coefficient * (M2)</th>\n",
       "      <th>Money Velocity * (M3)</th>\n",
       "      <th>Money Velocity * (M2)</th>\n",
       "      <th>Monetization Coefficient (M3)</th>\n",
       "      <th>Monetization Coefficient (M2)</th>\n",
       "      <th>Money Velocity (M3)</th>\n",
       "      <th>Money Velocity (M2)</th>\n",
       "    </tr>\n",
       "    <tr>\n",
       "      <th>Period</th>\n",
       "      <th></th>\n",
       "      <th></th>\n",
       "      <th></th>\n",
       "      <th></th>\n",
       "      <th></th>\n",
       "      <th></th>\n",
       "      <th></th>\n",
       "      <th></th>\n",
       "      <th></th>\n",
       "      <th></th>\n",
       "      <th></th>\n",
       "      <th></th>\n",
       "      <th></th>\n",
       "      <th></th>\n",
       "      <th></th>\n",
       "      <th></th>\n",
       "      <th></th>\n",
       "      <th></th>\n",
       "      <th></th>\n",
       "      <th></th>\n",
       "      <th></th>\n",
       "    </tr>\n",
       "  </thead>\n",
       "  <tbody>\n",
       "    <tr>\n",
       "      <th>1995-10-31</th>\n",
       "      <td>94.955</td>\n",
       "      <td>120.284</td>\n",
       "      <td>131.419</td>\n",
       "      <td>112.337</td>\n",
       "      <td>107.279</td>\n",
       "      <td>84.708</td>\n",
       "      <td>22.571</td>\n",
       "      <td>5.059</td>\n",
       "      <td>19.081</td>\n",
       "      <td>46.710</td>\n",
       "      <td>...</td>\n",
       "      <td>1.092573</td>\n",
       "      <td>0.933937</td>\n",
       "      <td>NaN</td>\n",
       "      <td>NaN</td>\n",
       "      <td>NaN</td>\n",
       "      <td>NaN</td>\n",
       "      <td>NaN</td>\n",
       "      <td>NaN</td>\n",
       "      <td>NaN</td>\n",
       "      <td>NaN</td>\n",
       "    </tr>\n",
       "    <tr>\n",
       "      <th>1995-11-30</th>\n",
       "      <td>107.529</td>\n",
       "      <td>133.659</td>\n",
       "      <td>145.258</td>\n",
       "      <td>126.224</td>\n",
       "      <td>121.151</td>\n",
       "      <td>98.254</td>\n",
       "      <td>22.897</td>\n",
       "      <td>5.073</td>\n",
       "      <td>19.034</td>\n",
       "      <td>47.004</td>\n",
       "      <td>...</td>\n",
       "      <td>1.086786</td>\n",
       "      <td>0.944378</td>\n",
       "      <td>NaN</td>\n",
       "      <td>NaN</td>\n",
       "      <td>NaN</td>\n",
       "      <td>NaN</td>\n",
       "      <td>NaN</td>\n",
       "      <td>NaN</td>\n",
       "      <td>NaN</td>\n",
       "      <td>NaN</td>\n",
       "    </tr>\n",
       "    <tr>\n",
       "      <th>1995-12-31</th>\n",
       "      <td>131.365</td>\n",
       "      <td>153.814</td>\n",
       "      <td>179.441</td>\n",
       "      <td>160.145</td>\n",
       "      <td>154.534</td>\n",
       "      <td>124.779</td>\n",
       "      <td>29.755</td>\n",
       "      <td>5.611</td>\n",
       "      <td>19.296</td>\n",
       "      <td>54.662</td>\n",
       "      <td>...</td>\n",
       "      <td>1.166613</td>\n",
       "      <td>1.041161</td>\n",
       "      <td>NaN</td>\n",
       "      <td>NaN</td>\n",
       "      <td>NaN</td>\n",
       "      <td>NaN</td>\n",
       "      <td>NaN</td>\n",
       "      <td>NaN</td>\n",
       "      <td>NaN</td>\n",
       "      <td>NaN</td>\n",
       "    </tr>\n",
       "    <tr>\n",
       "      <th>1996-01-31</th>\n",
       "      <td>129.294</td>\n",
       "      <td>150.614</td>\n",
       "      <td>169.911</td>\n",
       "      <td>149.923</td>\n",
       "      <td>144.440</td>\n",
       "      <td>120.331</td>\n",
       "      <td>24.109</td>\n",
       "      <td>5.483</td>\n",
       "      <td>19.988</td>\n",
       "      <td>49.580</td>\n",
       "      <td>...</td>\n",
       "      <td>1.128119</td>\n",
       "      <td>0.995410</td>\n",
       "      <td>NaN</td>\n",
       "      <td>NaN</td>\n",
       "      <td>NaN</td>\n",
       "      <td>NaN</td>\n",
       "      <td>NaN</td>\n",
       "      <td>NaN</td>\n",
       "      <td>NaN</td>\n",
       "      <td>NaN</td>\n",
       "    </tr>\n",
       "    <tr>\n",
       "      <th>1996-02-29</th>\n",
       "      <td>128.817</td>\n",
       "      <td>153.203</td>\n",
       "      <td>171.306</td>\n",
       "      <td>148.395</td>\n",
       "      <td>142.815</td>\n",
       "      <td>117.945</td>\n",
       "      <td>24.870</td>\n",
       "      <td>5.580</td>\n",
       "      <td>22.911</td>\n",
       "      <td>53.361</td>\n",
       "      <td>...</td>\n",
       "      <td>1.118168</td>\n",
       "      <td>0.968621</td>\n",
       "      <td>NaN</td>\n",
       "      <td>NaN</td>\n",
       "      <td>NaN</td>\n",
       "      <td>NaN</td>\n",
       "      <td>NaN</td>\n",
       "      <td>NaN</td>\n",
       "      <td>NaN</td>\n",
       "      <td>NaN</td>\n",
       "    </tr>\n",
       "  </tbody>\n",
       "</table>\n",
       "<p>5 rows × 24 columns</p>\n",
       "</div>"
      ],
      "text/plain": [
       "           Currency in Circulation  Monetary Base  Money Aggregates (M3)  \\\n",
       "Period                                                                     \n",
       "1995-10-31                  94.955        120.284                131.419   \n",
       "1995-11-30                 107.529        133.659                145.258   \n",
       "1995-12-31                 131.365        153.814                179.441   \n",
       "1996-01-31                 129.294        150.614                169.911   \n",
       "1996-02-29                 128.817        153.203                171.306   \n",
       "\n",
       "            Money Aggregates (M2)  Money Aggregates (M1)  \\\n",
       "Period                                                     \n",
       "1995-10-31                112.337                107.279   \n",
       "1995-11-30                126.224                121.151   \n",
       "1995-12-31                160.145                154.534   \n",
       "1996-01-31                149.923                144.440   \n",
       "1996-02-29                148.395                142.815   \n",
       "\n",
       "            Money Outside Banks (M0)  \\\n",
       "Period                                 \n",
       "1995-10-31                    84.708   \n",
       "1995-11-30                    98.254   \n",
       "1995-12-31                   124.779   \n",
       "1996-01-31                   120.331   \n",
       "1996-02-29                   117.945   \n",
       "\n",
       "            Transferable Deposits in National Currency  \\\n",
       "Period                                                   \n",
       "1995-10-31                                      22.571   \n",
       "1995-11-30                                      22.897   \n",
       "1995-12-31                                      29.755   \n",
       "1996-01-31                                      24.109   \n",
       "1996-02-29                                      24.870   \n",
       "\n",
       "            Term Deposits in National Currency  Deposits in Foreign Currency  \\\n",
       "Period                                                                         \n",
       "1995-10-31                               5.059                        19.081   \n",
       "1995-11-30                               5.073                        19.034   \n",
       "1995-12-31                               5.611                        19.296   \n",
       "1996-01-31                               5.483                        19.988   \n",
       "1996-02-29                               5.580                        22.911   \n",
       "\n",
       "            Deposits, Total  ...  Money Multiplier (M3)  \\\n",
       "Period                       ...                          \n",
       "1995-10-31           46.710  ...               1.092573   \n",
       "1995-11-30           47.004  ...               1.086786   \n",
       "1995-12-31           54.662  ...               1.166613   \n",
       "1996-01-31           49.580  ...               1.128119   \n",
       "1996-02-29           53.361  ...               1.118168   \n",
       "\n",
       "            Money Multiplier (M2)  Monetization Coefficient * (M3)  \\\n",
       "Period                                                               \n",
       "1995-10-31               0.933937                              NaN   \n",
       "1995-11-30               0.944378                              NaN   \n",
       "1995-12-31               1.041161                              NaN   \n",
       "1996-01-31               0.995410                              NaN   \n",
       "1996-02-29               0.968621                              NaN   \n",
       "\n",
       "            Monetization Coefficient * (M2)  Money Velocity * (M3)  \\\n",
       "Period                                                               \n",
       "1995-10-31                              NaN                    NaN   \n",
       "1995-11-30                              NaN                    NaN   \n",
       "1995-12-31                              NaN                    NaN   \n",
       "1996-01-31                              NaN                    NaN   \n",
       "1996-02-29                              NaN                    NaN   \n",
       "\n",
       "            Money Velocity * (M2)  Monetization Coefficient (M3)  \\\n",
       "Period                                                             \n",
       "1995-10-31                    NaN                            NaN   \n",
       "1995-11-30                    NaN                            NaN   \n",
       "1995-12-31                    NaN                            NaN   \n",
       "1996-01-31                    NaN                            NaN   \n",
       "1996-02-29                    NaN                            NaN   \n",
       "\n",
       "            Monetization Coefficient (M2)  Money Velocity (M3)  \\\n",
       "Period                                                           \n",
       "1995-10-31                            NaN                  NaN   \n",
       "1995-11-30                            NaN                  NaN   \n",
       "1995-12-31                            NaN                  NaN   \n",
       "1996-01-31                            NaN                  NaN   \n",
       "1996-02-29                            NaN                  NaN   \n",
       "\n",
       "            Money Velocity (M2)  \n",
       "Period                           \n",
       "1995-10-31                  NaN  \n",
       "1995-11-30                  NaN  \n",
       "1995-12-31                  NaN  \n",
       "1996-01-31                  NaN  \n",
       "1996-02-29                  NaN  \n",
       "\n",
       "[5 rows x 24 columns]"
      ]
     },
     "execution_count": 16,
     "metadata": {},
     "output_type": "execute_result"
    }
   ],
   "source": [
    "URL = \"https://nbg.gov.ge/fm/%E1%83%A1%E1%83%A2%E1%83%90%E1%83%A2%E1%83%98%E1%83%A1%E1%83%A2%E1%83%98%E1%83%99%E1%83%90/monetary_statistics/eng/money-aggregates-and-monetary-ratioseng.xlsx?v=r5z4c\"\n",
    "# Alternatively you can download data using URL directly with pandas\n",
    "df = pd.read_excel(URL, index_col=0, header=2)\n",
    "df.head()"
   ]
  },
  {
   "cell_type": "code",
   "execution_count": 7,
   "metadata": {},
   "outputs": [
    {
     "data": {
      "text/html": [
       "<div>\n",
       "<style scoped>\n",
       "    .dataframe tbody tr th:only-of-type {\n",
       "        vertical-align: middle;\n",
       "    }\n",
       "\n",
       "    .dataframe tbody tr th {\n",
       "        vertical-align: top;\n",
       "    }\n",
       "\n",
       "    .dataframe thead th {\n",
       "        text-align: right;\n",
       "    }\n",
       "</style>\n",
       "<table border=\"1\" class=\"dataframe\">\n",
       "  <thead>\n",
       "    <tr style=\"text-align: right;\">\n",
       "      <th></th>\n",
       "      <th>Currency in Circulation</th>\n",
       "      <th>Monetary Base</th>\n",
       "      <th>Money Aggregates (M3)</th>\n",
       "      <th>Money Aggregates (M2)</th>\n",
       "      <th>Money Aggregates (M1)</th>\n",
       "      <th>Money Outside Banks (M0)</th>\n",
       "      <th>Transferable Deposits in National Currency</th>\n",
       "      <th>Term Deposits in National Currency</th>\n",
       "      <th>Deposits in Foreign Currency</th>\n",
       "      <th>Deposits, Total</th>\n",
       "      <th>...</th>\n",
       "      <th>Money Multiplier (M3)</th>\n",
       "      <th>Money Multiplier (M2)</th>\n",
       "      <th>Monetization Coefficient * (M3)</th>\n",
       "      <th>Monetization Coefficient * (M2)</th>\n",
       "      <th>Money Velocity * (M3)</th>\n",
       "      <th>Money Velocity * (M2)</th>\n",
       "      <th>Monetization Coefficient (M3)</th>\n",
       "      <th>Monetization Coefficient (M2)</th>\n",
       "      <th>Money Velocity (M3)</th>\n",
       "      <th>Money Velocity (M2)</th>\n",
       "    </tr>\n",
       "    <tr>\n",
       "      <th>Period</th>\n",
       "      <th></th>\n",
       "      <th></th>\n",
       "      <th></th>\n",
       "      <th></th>\n",
       "      <th></th>\n",
       "      <th></th>\n",
       "      <th></th>\n",
       "      <th></th>\n",
       "      <th></th>\n",
       "      <th></th>\n",
       "      <th></th>\n",
       "      <th></th>\n",
       "      <th></th>\n",
       "      <th></th>\n",
       "      <th></th>\n",
       "      <th></th>\n",
       "      <th></th>\n",
       "      <th></th>\n",
       "      <th></th>\n",
       "      <th></th>\n",
       "      <th></th>\n",
       "    </tr>\n",
       "  </thead>\n",
       "  <tbody>\n",
       "    <tr>\n",
       "      <th>2024-03-31</th>\n",
       "      <td>5675.703</td>\n",
       "      <td>10669.549</td>\n",
       "      <td>43186.961</td>\n",
       "      <td>25403.360783</td>\n",
       "      <td>16501.021816</td>\n",
       "      <td>4676.592</td>\n",
       "      <td>11824.429816</td>\n",
       "      <td>8902.338967</td>\n",
       "      <td>17783.600316</td>\n",
       "      <td>38510.369099</td>\n",
       "      <td>...</td>\n",
       "      <td>4.047684</td>\n",
       "      <td>2.380922</td>\n",
       "      <td>49.294313</td>\n",
       "      <td>28.778976</td>\n",
       "      <td>2.028632</td>\n",
       "      <td>3.474759</td>\n",
       "      <td>50.006902</td>\n",
       "      <td>29.414975</td>\n",
       "      <td>1.999724</td>\n",
       "      <td>3.399629</td>\n",
       "    </tr>\n",
       "    <tr>\n",
       "      <th>NaT</th>\n",
       "      <td>NaN</td>\n",
       "      <td>NaN</td>\n",
       "      <td>NaN</td>\n",
       "      <td>NaN</td>\n",
       "      <td>NaN</td>\n",
       "      <td>NaN</td>\n",
       "      <td>NaN</td>\n",
       "      <td>NaN</td>\n",
       "      <td>NaN</td>\n",
       "      <td>NaN</td>\n",
       "      <td>...</td>\n",
       "      <td>NaN</td>\n",
       "      <td>NaN</td>\n",
       "      <td>NaN</td>\n",
       "      <td>NaN</td>\n",
       "      <td>NaN</td>\n",
       "      <td>NaN</td>\n",
       "      <td>NaN</td>\n",
       "      <td>NaN</td>\n",
       "      <td>NaN</td>\n",
       "      <td>NaN</td>\n",
       "    </tr>\n",
       "    <tr>\n",
       "      <th>NaT</th>\n",
       "      <td>NaN</td>\n",
       "      <td>NaN</td>\n",
       "      <td>NaN</td>\n",
       "      <td>NaN</td>\n",
       "      <td>NaN</td>\n",
       "      <td>NaN</td>\n",
       "      <td>NaN</td>\n",
       "      <td>NaN</td>\n",
       "      <td>NaN</td>\n",
       "      <td>NaN</td>\n",
       "      <td>...</td>\n",
       "      <td>NaN</td>\n",
       "      <td>NaN</td>\n",
       "      <td>NaN</td>\n",
       "      <td>NaN</td>\n",
       "      <td>NaN</td>\n",
       "      <td>NaN</td>\n",
       "      <td>NaN</td>\n",
       "      <td>NaN</td>\n",
       "      <td>NaN</td>\n",
       "      <td>NaN</td>\n",
       "    </tr>\n",
       "    <tr>\n",
       "      <th>NaT</th>\n",
       "      <td>Source: The National Bank of Georgia.</td>\n",
       "      <td>NaN</td>\n",
       "      <td>NaN</td>\n",
       "      <td>NaN</td>\n",
       "      <td>NaN</td>\n",
       "      <td>NaN</td>\n",
       "      <td>NaN</td>\n",
       "      <td>NaN</td>\n",
       "      <td>NaN</td>\n",
       "      <td>NaN</td>\n",
       "      <td>...</td>\n",
       "      <td>NaN</td>\n",
       "      <td>NaN</td>\n",
       "      <td>NaN</td>\n",
       "      <td>NaN</td>\n",
       "      <td>NaN</td>\n",
       "      <td>NaN</td>\n",
       "      <td>NaN</td>\n",
       "      <td>NaN</td>\n",
       "      <td>NaN</td>\n",
       "      <td>NaN</td>\n",
       "    </tr>\n",
       "    <tr>\n",
       "      <th>NaT</th>\n",
       "      <td>Notes: * Average from the beginning of the yea...</td>\n",
       "      <td>NaN</td>\n",
       "      <td>NaN</td>\n",
       "      <td>NaN</td>\n",
       "      <td>NaN</td>\n",
       "      <td>NaN</td>\n",
       "      <td>NaN</td>\n",
       "      <td>NaN</td>\n",
       "      <td>NaN</td>\n",
       "      <td>NaN</td>\n",
       "      <td>...</td>\n",
       "      <td>NaN</td>\n",
       "      <td>NaN</td>\n",
       "      <td>NaN</td>\n",
       "      <td>NaN</td>\n",
       "      <td>NaN</td>\n",
       "      <td>NaN</td>\n",
       "      <td>NaN</td>\n",
       "      <td>NaN</td>\n",
       "      <td>NaN</td>\n",
       "      <td>NaN</td>\n",
       "    </tr>\n",
       "  </tbody>\n",
       "</table>\n",
       "<p>5 rows × 24 columns</p>\n",
       "</div>"
      ],
      "text/plain": [
       "                                      Currency in Circulation  Monetary Base  \\\n",
       "Period                                                                         \n",
       "2024-03-31                                           5675.703      10669.549   \n",
       "NaT                                                       NaN            NaN   \n",
       "NaT                                                       NaN            NaN   \n",
       "NaT                     Source: The National Bank of Georgia.            NaN   \n",
       "NaT         Notes: * Average from the beginning of the yea...            NaN   \n",
       "\n",
       "            Money Aggregates (M3)  Money Aggregates (M2)  \\\n",
       "Period                                                     \n",
       "2024-03-31              43186.961           25403.360783   \n",
       "NaT                           NaN                    NaN   \n",
       "NaT                           NaN                    NaN   \n",
       "NaT                           NaN                    NaN   \n",
       "NaT                           NaN                    NaN   \n",
       "\n",
       "            Money Aggregates (M1)  Money Outside Banks (M0)  \\\n",
       "Period                                                        \n",
       "2024-03-31           16501.021816                  4676.592   \n",
       "NaT                           NaN                       NaN   \n",
       "NaT                           NaN                       NaN   \n",
       "NaT                           NaN                       NaN   \n",
       "NaT                           NaN                       NaN   \n",
       "\n",
       "            Transferable Deposits in National Currency  \\\n",
       "Period                                                   \n",
       "2024-03-31                                11824.429816   \n",
       "NaT                                                NaN   \n",
       "NaT                                                NaN   \n",
       "NaT                                                NaN   \n",
       "NaT                                                NaN   \n",
       "\n",
       "            Term Deposits in National Currency  Deposits in Foreign Currency  \\\n",
       "Period                                                                         \n",
       "2024-03-31                         8902.338967                  17783.600316   \n",
       "NaT                                        NaN                           NaN   \n",
       "NaT                                        NaN                           NaN   \n",
       "NaT                                        NaN                           NaN   \n",
       "NaT                                        NaN                           NaN   \n",
       "\n",
       "            Deposits, Total  ...  Money Multiplier (M3)  \\\n",
       "Period                       ...                          \n",
       "2024-03-31     38510.369099  ...               4.047684   \n",
       "NaT                     NaN  ...                    NaN   \n",
       "NaT                     NaN  ...                    NaN   \n",
       "NaT                     NaN  ...                    NaN   \n",
       "NaT                     NaN  ...                    NaN   \n",
       "\n",
       "            Money Multiplier (M2)  Monetization Coefficient * (M3)  \\\n",
       "Period                                                               \n",
       "2024-03-31               2.380922                        49.294313   \n",
       "NaT                           NaN                              NaN   \n",
       "NaT                           NaN                              NaN   \n",
       "NaT                           NaN                              NaN   \n",
       "NaT                           NaN                              NaN   \n",
       "\n",
       "            Monetization Coefficient * (M2)  Money Velocity * (M3)  \\\n",
       "Period                                                               \n",
       "2024-03-31                        28.778976               2.028632   \n",
       "NaT                                     NaN                    NaN   \n",
       "NaT                                     NaN                    NaN   \n",
       "NaT                                     NaN                    NaN   \n",
       "NaT                                     NaN                    NaN   \n",
       "\n",
       "            Money Velocity * (M2)  Monetization Coefficient (M3)  \\\n",
       "Period                                                             \n",
       "2024-03-31               3.474759                      50.006902   \n",
       "NaT                           NaN                            NaN   \n",
       "NaT                           NaN                            NaN   \n",
       "NaT                           NaN                            NaN   \n",
       "NaT                           NaN                            NaN   \n",
       "\n",
       "            Monetization Coefficient (M2)  Money Velocity (M3)  \\\n",
       "Period                                                           \n",
       "2024-03-31                      29.414975             1.999724   \n",
       "NaT                                   NaN                  NaN   \n",
       "NaT                                   NaN                  NaN   \n",
       "NaT                                   NaN                  NaN   \n",
       "NaT                                   NaN                  NaN   \n",
       "\n",
       "            Money Velocity (M2)  \n",
       "Period                           \n",
       "2024-03-31             3.399629  \n",
       "NaT                         NaN  \n",
       "NaT                         NaN  \n",
       "NaT                         NaN  \n",
       "NaT                         NaN  \n",
       "\n",
       "[5 rows x 24 columns]"
      ]
     },
     "execution_count": 7,
     "metadata": {},
     "output_type": "execute_result"
    }
   ],
   "source": [
    "df.tail()"
   ]
  },
  {
   "cell_type": "code",
   "execution_count": 14,
   "metadata": {},
   "outputs": [],
   "source": [
    "df_cleaned = df.loc[df.index.notnull()]"
   ]
  },
  {
   "cell_type": "code",
   "execution_count": 15,
   "metadata": {},
   "outputs": [
    {
     "data": {
      "text/html": [
       "<div>\n",
       "<style scoped>\n",
       "    .dataframe tbody tr th:only-of-type {\n",
       "        vertical-align: middle;\n",
       "    }\n",
       "\n",
       "    .dataframe tbody tr th {\n",
       "        vertical-align: top;\n",
       "    }\n",
       "\n",
       "    .dataframe thead th {\n",
       "        text-align: right;\n",
       "    }\n",
       "</style>\n",
       "<table border=\"1\" class=\"dataframe\">\n",
       "  <thead>\n",
       "    <tr style=\"text-align: right;\">\n",
       "      <th></th>\n",
       "      <th>Currency in Circulation</th>\n",
       "      <th>Monetary Base</th>\n",
       "      <th>Money Aggregates (M3)</th>\n",
       "      <th>Money Aggregates (M2)</th>\n",
       "      <th>Money Aggregates (M1)</th>\n",
       "      <th>Money Outside Banks (M0)</th>\n",
       "      <th>Transferable Deposits in National Currency</th>\n",
       "      <th>Term Deposits in National Currency</th>\n",
       "      <th>Deposits in Foreign Currency</th>\n",
       "      <th>Deposits, Total</th>\n",
       "      <th>...</th>\n",
       "      <th>Money Multiplier (M3)</th>\n",
       "      <th>Money Multiplier (M2)</th>\n",
       "      <th>Monetization Coefficient * (M3)</th>\n",
       "      <th>Monetization Coefficient * (M2)</th>\n",
       "      <th>Money Velocity * (M3)</th>\n",
       "      <th>Money Velocity * (M2)</th>\n",
       "      <th>Monetization Coefficient (M3)</th>\n",
       "      <th>Monetization Coefficient (M2)</th>\n",
       "      <th>Money Velocity (M3)</th>\n",
       "      <th>Money Velocity (M2)</th>\n",
       "    </tr>\n",
       "    <tr>\n",
       "      <th>Period</th>\n",
       "      <th></th>\n",
       "      <th></th>\n",
       "      <th></th>\n",
       "      <th></th>\n",
       "      <th></th>\n",
       "      <th></th>\n",
       "      <th></th>\n",
       "      <th></th>\n",
       "      <th></th>\n",
       "      <th></th>\n",
       "      <th></th>\n",
       "      <th></th>\n",
       "      <th></th>\n",
       "      <th></th>\n",
       "      <th></th>\n",
       "      <th></th>\n",
       "      <th></th>\n",
       "      <th></th>\n",
       "      <th></th>\n",
       "      <th></th>\n",
       "      <th></th>\n",
       "    </tr>\n",
       "  </thead>\n",
       "  <tbody>\n",
       "    <tr>\n",
       "      <th>2023-11-30</th>\n",
       "      <td>5505.67</td>\n",
       "      <td>11619.707</td>\n",
       "      <td>41362.975</td>\n",
       "      <td>23409.244627</td>\n",
       "      <td>15818.065013</td>\n",
       "      <td>4430.714</td>\n",
       "      <td>11387.351013</td>\n",
       "      <td>7591.179613</td>\n",
       "      <td>17953.729828</td>\n",
       "      <td>36932.260455</td>\n",
       "      <td>...</td>\n",
       "      <td>3.559726</td>\n",
       "      <td>2.014616</td>\n",
       "      <td>NaN</td>\n",
       "      <td>NaN</td>\n",
       "      <td>NaN</td>\n",
       "      <td>NaN</td>\n",
       "      <td>NaN</td>\n",
       "      <td>NaN</td>\n",
       "      <td>NaN</td>\n",
       "      <td>NaN</td>\n",
       "    </tr>\n",
       "    <tr>\n",
       "      <th>2023-12-31</th>\n",
       "      <td>5934.138</td>\n",
       "      <td>12019.229</td>\n",
       "      <td>43192.256</td>\n",
       "      <td>25112.442448</td>\n",
       "      <td>17546.776915</td>\n",
       "      <td>4721.458</td>\n",
       "      <td>12825.318915</td>\n",
       "      <td>7565.665533</td>\n",
       "      <td>18079.813336</td>\n",
       "      <td>38470.797784</td>\n",
       "      <td>...</td>\n",
       "      <td>3.593596</td>\n",
       "      <td>2.089356</td>\n",
       "      <td>48.129532</td>\n",
       "      <td>27.080403</td>\n",
       "      <td>2.077726</td>\n",
       "      <td>3.692707</td>\n",
       "      <td>53.824758</td>\n",
       "      <td>31.294293</td>\n",
       "      <td>1.857881</td>\n",
       "      <td>3.195471</td>\n",
       "    </tr>\n",
       "    <tr>\n",
       "      <th>2024-01-31</th>\n",
       "      <td>5520.712</td>\n",
       "      <td>10770.450</td>\n",
       "      <td>42163.486</td>\n",
       "      <td>24466.210001</td>\n",
       "      <td>16009.099317</td>\n",
       "      <td>4519.537</td>\n",
       "      <td>11489.562317</td>\n",
       "      <td>8457.110684</td>\n",
       "      <td>17697.276152</td>\n",
       "      <td>37643.949153</td>\n",
       "      <td>...</td>\n",
       "      <td>3.914738</td>\n",
       "      <td>2.271605</td>\n",
       "      <td>NaN</td>\n",
       "      <td>NaN</td>\n",
       "      <td>NaN</td>\n",
       "      <td>NaN</td>\n",
       "      <td>NaN</td>\n",
       "      <td>NaN</td>\n",
       "      <td>NaN</td>\n",
       "      <td>NaN</td>\n",
       "    </tr>\n",
       "    <tr>\n",
       "      <th>2024-02-29</th>\n",
       "      <td>5504.812</td>\n",
       "      <td>10572.330</td>\n",
       "      <td>42364.218</td>\n",
       "      <td>24692.726571</td>\n",
       "      <td>15935.265875</td>\n",
       "      <td>4475.604</td>\n",
       "      <td>11459.661875</td>\n",
       "      <td>8757.460696</td>\n",
       "      <td>17671.491691</td>\n",
       "      <td>37888.614261</td>\n",
       "      <td>...</td>\n",
       "      <td>4.007084</td>\n",
       "      <td>2.335599</td>\n",
       "      <td>NaN</td>\n",
       "      <td>NaN</td>\n",
       "      <td>NaN</td>\n",
       "      <td>NaN</td>\n",
       "      <td>NaN</td>\n",
       "      <td>NaN</td>\n",
       "      <td>NaN</td>\n",
       "      <td>NaN</td>\n",
       "    </tr>\n",
       "    <tr>\n",
       "      <th>2024-03-31</th>\n",
       "      <td>5675.703</td>\n",
       "      <td>10669.549</td>\n",
       "      <td>43186.961</td>\n",
       "      <td>25403.360783</td>\n",
       "      <td>16501.021816</td>\n",
       "      <td>4676.592</td>\n",
       "      <td>11824.429816</td>\n",
       "      <td>8902.338967</td>\n",
       "      <td>17783.600316</td>\n",
       "      <td>38510.369099</td>\n",
       "      <td>...</td>\n",
       "      <td>4.047684</td>\n",
       "      <td>2.380922</td>\n",
       "      <td>49.294313</td>\n",
       "      <td>28.778976</td>\n",
       "      <td>2.028632</td>\n",
       "      <td>3.474759</td>\n",
       "      <td>50.006902</td>\n",
       "      <td>29.414975</td>\n",
       "      <td>1.999724</td>\n",
       "      <td>3.399629</td>\n",
       "    </tr>\n",
       "  </tbody>\n",
       "</table>\n",
       "<p>5 rows × 24 columns</p>\n",
       "</div>"
      ],
      "text/plain": [
       "           Currency in Circulation  Monetary Base  Money Aggregates (M3)  \\\n",
       "Period                                                                     \n",
       "2023-11-30                 5505.67      11619.707              41362.975   \n",
       "2023-12-31                5934.138      12019.229              43192.256   \n",
       "2024-01-31                5520.712      10770.450              42163.486   \n",
       "2024-02-29                5504.812      10572.330              42364.218   \n",
       "2024-03-31                5675.703      10669.549              43186.961   \n",
       "\n",
       "            Money Aggregates (M2)  Money Aggregates (M1)  \\\n",
       "Period                                                     \n",
       "2023-11-30           23409.244627           15818.065013   \n",
       "2023-12-31           25112.442448           17546.776915   \n",
       "2024-01-31           24466.210001           16009.099317   \n",
       "2024-02-29           24692.726571           15935.265875   \n",
       "2024-03-31           25403.360783           16501.021816   \n",
       "\n",
       "            Money Outside Banks (M0)  \\\n",
       "Period                                 \n",
       "2023-11-30                  4430.714   \n",
       "2023-12-31                  4721.458   \n",
       "2024-01-31                  4519.537   \n",
       "2024-02-29                  4475.604   \n",
       "2024-03-31                  4676.592   \n",
       "\n",
       "            Transferable Deposits in National Currency  \\\n",
       "Period                                                   \n",
       "2023-11-30                                11387.351013   \n",
       "2023-12-31                                12825.318915   \n",
       "2024-01-31                                11489.562317   \n",
       "2024-02-29                                11459.661875   \n",
       "2024-03-31                                11824.429816   \n",
       "\n",
       "            Term Deposits in National Currency  Deposits in Foreign Currency  \\\n",
       "Period                                                                         \n",
       "2023-11-30                         7591.179613                  17953.729828   \n",
       "2023-12-31                         7565.665533                  18079.813336   \n",
       "2024-01-31                         8457.110684                  17697.276152   \n",
       "2024-02-29                         8757.460696                  17671.491691   \n",
       "2024-03-31                         8902.338967                  17783.600316   \n",
       "\n",
       "            Deposits, Total  ...  Money Multiplier (M3)  \\\n",
       "Period                       ...                          \n",
       "2023-11-30     36932.260455  ...               3.559726   \n",
       "2023-12-31     38470.797784  ...               3.593596   \n",
       "2024-01-31     37643.949153  ...               3.914738   \n",
       "2024-02-29     37888.614261  ...               4.007084   \n",
       "2024-03-31     38510.369099  ...               4.047684   \n",
       "\n",
       "            Money Multiplier (M2)  Monetization Coefficient * (M3)  \\\n",
       "Period                                                               \n",
       "2023-11-30               2.014616                              NaN   \n",
       "2023-12-31               2.089356                        48.129532   \n",
       "2024-01-31               2.271605                              NaN   \n",
       "2024-02-29               2.335599                              NaN   \n",
       "2024-03-31               2.380922                        49.294313   \n",
       "\n",
       "            Monetization Coefficient * (M2)  Money Velocity * (M3)  \\\n",
       "Period                                                               \n",
       "2023-11-30                              NaN                    NaN   \n",
       "2023-12-31                        27.080403               2.077726   \n",
       "2024-01-31                              NaN                    NaN   \n",
       "2024-02-29                              NaN                    NaN   \n",
       "2024-03-31                        28.778976               2.028632   \n",
       "\n",
       "            Money Velocity * (M2)  Monetization Coefficient (M3)  \\\n",
       "Period                                                             \n",
       "2023-11-30                    NaN                            NaN   \n",
       "2023-12-31               3.692707                      53.824758   \n",
       "2024-01-31                    NaN                            NaN   \n",
       "2024-02-29                    NaN                            NaN   \n",
       "2024-03-31               3.474759                      50.006902   \n",
       "\n",
       "            Monetization Coefficient (M2)  Money Velocity (M3)  \\\n",
       "Period                                                           \n",
       "2023-11-30                            NaN                  NaN   \n",
       "2023-12-31                      31.294293             1.857881   \n",
       "2024-01-31                            NaN                  NaN   \n",
       "2024-02-29                            NaN                  NaN   \n",
       "2024-03-31                      29.414975             1.999724   \n",
       "\n",
       "            Money Velocity (M2)  \n",
       "Period                           \n",
       "2023-11-30                  NaN  \n",
       "2023-12-31             3.195471  \n",
       "2024-01-31                  NaN  \n",
       "2024-02-29                  NaN  \n",
       "2024-03-31             3.399629  \n",
       "\n",
       "[5 rows x 24 columns]"
      ]
     },
     "execution_count": 15,
     "metadata": {},
     "output_type": "execute_result"
    }
   ],
   "source": [
    "df_cleaned.tail()"
   ]
  },
  {
   "cell_type": "markdown",
   "metadata": {},
   "source": [
    "II. Sometimes API/URL will let you choose additional options. For example, the following data from Kazakhstan Stock Exchange can be downloaded for specific date range.\n",
    "https://kase.kz/en/money_market/repo-indicators/tonia/archive-xls/22.05.2024/22.05.2024/"
   ]
  },
  {
   "cell_type": "code",
   "execution_count": 19,
   "metadata": {},
   "outputs": [
    {
     "name": "stdout",
     "output_type": "stream",
     "text": [
      "22.05.2024\n"
     ]
    }
   ],
   "source": [
    "# download data from 2010 till current date\n",
    "from_date = \"01.01.2010\"\n",
    "\n",
    "today_date = datetime.today().strftime(\"%d.%m.%Y\")\n",
    "print(today_date)\n"
   ]
  },
  {
   "cell_type": "code",
   "execution_count": 23,
   "metadata": {},
   "outputs": [
    {
     "data": {
      "text/html": [
       "<div>\n",
       "<style scoped>\n",
       "    .dataframe tbody tr th:only-of-type {\n",
       "        vertical-align: middle;\n",
       "    }\n",
       "\n",
       "    .dataframe tbody tr th {\n",
       "        vertical-align: top;\n",
       "    }\n",
       "\n",
       "    .dataframe thead th {\n",
       "        text-align: right;\n",
       "    }\n",
       "</style>\n",
       "<table border=\"1\" class=\"dataframe\">\n",
       "  <thead>\n",
       "    <tr style=\"text-align: right;\">\n",
       "      <th></th>\n",
       "      <th>Close</th>\n",
       "      <th>Transaction volume, bn KZT</th>\n",
       "      <th>Transactions amount, m USD</th>\n",
       "    </tr>\n",
       "    <tr>\n",
       "      <th>Date</th>\n",
       "      <th></th>\n",
       "      <th></th>\n",
       "      <th></th>\n",
       "    </tr>\n",
       "  </thead>\n",
       "  <tbody>\n",
       "    <tr>\n",
       "      <th>05.01.10</th>\n",
       "      <td>0.19</td>\n",
       "      <td>20.50</td>\n",
       "      <td>NaN</td>\n",
       "    </tr>\n",
       "    <tr>\n",
       "      <th>06.01.10</th>\n",
       "      <td>0.13</td>\n",
       "      <td>12.44</td>\n",
       "      <td>NaN</td>\n",
       "    </tr>\n",
       "    <tr>\n",
       "      <th>10.01.10</th>\n",
       "      <td>0.19</td>\n",
       "      <td>9.30</td>\n",
       "      <td>NaN</td>\n",
       "    </tr>\n",
       "    <tr>\n",
       "      <th>11.01.10</th>\n",
       "      <td>0.14</td>\n",
       "      <td>16.43</td>\n",
       "      <td>NaN</td>\n",
       "    </tr>\n",
       "    <tr>\n",
       "      <th>12.01.10</th>\n",
       "      <td>0.14</td>\n",
       "      <td>6.83</td>\n",
       "      <td>NaN</td>\n",
       "    </tr>\n",
       "  </tbody>\n",
       "</table>\n",
       "</div>"
      ],
      "text/plain": [
       "          Close  Transaction volume, bn KZT  Transactions amount, m USD\n",
       "Date                                                                   \n",
       "05.01.10   0.19                       20.50                         NaN\n",
       "06.01.10   0.13                       12.44                         NaN\n",
       "10.01.10   0.19                        9.30                         NaN\n",
       "11.01.10   0.14                       16.43                         NaN\n",
       "12.01.10   0.14                        6.83                         NaN"
      ]
     },
     "execution_count": 23,
     "metadata": {},
     "output_type": "execute_result"
    }
   ],
   "source": [
    "base_url = \"https://kase.kz/en/money_market/repo-indicators/tonia/archive-xls/\"\n",
    "\n",
    "req_url = f\"{base_url}{from_date}/{today_date}/\"\n",
    "\n",
    "df_2 = pd.read_excel(req_url, index_col=0, header=1)\n",
    "df_2.head()"
   ]
  },
  {
   "cell_type": "code",
   "execution_count": 24,
   "metadata": {},
   "outputs": [
    {
     "data": {
      "text/html": [
       "<div>\n",
       "<style scoped>\n",
       "    .dataframe tbody tr th:only-of-type {\n",
       "        vertical-align: middle;\n",
       "    }\n",
       "\n",
       "    .dataframe tbody tr th {\n",
       "        vertical-align: top;\n",
       "    }\n",
       "\n",
       "    .dataframe thead th {\n",
       "        text-align: right;\n",
       "    }\n",
       "</style>\n",
       "<table border=\"1\" class=\"dataframe\">\n",
       "  <thead>\n",
       "    <tr style=\"text-align: right;\">\n",
       "      <th></th>\n",
       "      <th>Close</th>\n",
       "      <th>Transaction volume, bn KZT</th>\n",
       "      <th>Transactions amount, m USD</th>\n",
       "    </tr>\n",
       "    <tr>\n",
       "      <th>Date</th>\n",
       "      <th></th>\n",
       "      <th></th>\n",
       "      <th></th>\n",
       "    </tr>\n",
       "  </thead>\n",
       "  <tbody>\n",
       "    <tr>\n",
       "      <th>16.05.24</th>\n",
       "      <td>15.32</td>\n",
       "      <td>417.78</td>\n",
       "      <td>946.46</td>\n",
       "    </tr>\n",
       "    <tr>\n",
       "      <th>17.05.24</th>\n",
       "      <td>15.13</td>\n",
       "      <td>653.40</td>\n",
       "      <td>1479.68</td>\n",
       "    </tr>\n",
       "    <tr>\n",
       "      <th>20.05.24</th>\n",
       "      <td>13.87</td>\n",
       "      <td>710.21</td>\n",
       "      <td>1601.59</td>\n",
       "    </tr>\n",
       "    <tr>\n",
       "      <th>21.05.24</th>\n",
       "      <td>13.08</td>\n",
       "      <td>597.05</td>\n",
       "      <td>1345.55</td>\n",
       "    </tr>\n",
       "    <tr>\n",
       "      <th>22.05.24</th>\n",
       "      <td>13.04</td>\n",
       "      <td>571.90</td>\n",
       "      <td>1294.47</td>\n",
       "    </tr>\n",
       "  </tbody>\n",
       "</table>\n",
       "</div>"
      ],
      "text/plain": [
       "          Close  Transaction volume, bn KZT  Transactions amount, m USD\n",
       "Date                                                                   \n",
       "16.05.24  15.32                      417.78                      946.46\n",
       "17.05.24  15.13                      653.40                     1479.68\n",
       "20.05.24  13.87                      710.21                     1601.59\n",
       "21.05.24  13.08                      597.05                     1345.55\n",
       "22.05.24  13.04                      571.90                     1294.47"
      ]
     },
     "execution_count": 24,
     "metadata": {},
     "output_type": "execute_result"
    }
   ],
   "source": [
    "df_2.tail()"
   ]
  },
  {
   "cell_type": "markdown",
   "metadata": {},
   "source": [
    "III. In many cases, there won't be a download link, instead data will be given as html table. Downloading such data is not as difficult as it seems. One simply need to locate the table inside html structure by using beautifulsoup package and then put it into desired format. The following data belongs to Bangladesh Interbank market. When users click on the following link https://www.bb.org.bd/en/index.php/monetaryactivity/call_money_market, the webpage with data on interbank market data of latest business day opens up. As a first step, we will only download data for the current day, but I will show you below how the historical data can be downloaded as well. Additionally, you may see that there is no download link available, thus we have to extract data from html\n"
   ]
  },
  {
   "cell_type": "markdown",
   "metadata": {},
   "source": [
    "Step 1: Locate the table first in html structure. You may make URL request with entire webpage and read the raw response, but it is a tedious approach. Instead we will use Chrome console."
   ]
  },
  {
   "cell_type": "markdown",
   "metadata": {},
   "source": [
    "Press F12 on your keyboard or right click on your mouse and select Inspect. You will see a new pane opening on the right. Click once on inspector tool and then click an area on the table like shown in the picture\n",
    "\n",
    "![Example](images/locate_table_console.png)"
   ]
  },
  {
   "cell_type": "markdown",
   "metadata": {},
   "source": [
    "This will take you to the place where select item is located in entire web html structure. HTML table is designed in hiearchical structure, go either higher or lower in structure until you think that segment covers entire information you need about the table. In most cases, item class will be called table and items in lower hiearchy of the table will have tags as thead and tbody. thead tag refers to the headers of the table, while tbody will contain data. Below is the shown the segment I choose for this example. You may see that whenever I hover my mouse on right pane on an item in html structure, the item is highlighted as well as area it corresponds in the left pane.\n",
    "![Example](images/locate_table_html.png)\n",
    "\n"
   ]
  },
  {
   "cell_type": "markdown",
   "metadata": {},
   "source": [
    "Step 2: Use the attributes of table to locate it using beautiful soup and later extract the date. The task here is to help beautiful soup to locate and select part of html which we can see visually on the browser. As you can see, there are two potential characteristics we can use - classname (\"table-responsive\") and tag (\"table\") to locate table. ID would be most ideal, since it would help us uniquely identify table, however, developers of this website have not provided it. Instead we will use classname.In case, there are more than 1 table with such class, we will simply use debugger to see which one is right table.\n"
   ]
  },
  {
   "cell_type": "code",
   "execution_count": 5,
   "metadata": {},
   "outputs": [
    {
     "name": "stdout",
     "output_type": "stream",
     "text": [
      "Data have been saved successfully \n"
     ]
    }
   ],
   "source": [
    "req_url = \"https://www.bb.org.bd/en/index.php/monetaryactivity/call_money_market\"\n",
    "response = req.get(req_url)\n",
    "# Check if data request was successful\n",
    "if response.ok:\n",
    "    # Save CSV response to a file\n",
    "    soup = BeautifulSoup(response.content.decode(\"utf-8\"))\n",
    "    print('Data have been saved successfully ')\n",
    "else:\n",
    "    print('Failed to retrieve data:', response.status_code)\n",
    "\n"
   ]
  },
  {
   "cell_type": "code",
   "execution_count": 7,
   "metadata": {},
   "outputs": [
    {
     "name": "stdout",
     "output_type": "stream",
     "text": [
      "1\n"
     ]
    }
   ],
   "source": [
    "#use table tag to locate table\n",
    "tables = soup.find_all(\"table\")\n",
    "print(len(tables))"
   ]
  },
  {
   "cell_type": "code",
   "execution_count": 6,
   "metadata": {},
   "outputs": [
    {
     "name": "stdout",
     "output_type": "stream",
     "text": [
      "1\n"
     ]
    }
   ],
   "source": [
    "# use classname attribute\n",
    "# you may use other attributes in this way if they are available\n",
    "tables = soup.find_all(attrs={\"class\": \"table-responsive\"})\n",
    "print(len(tables))"
   ]
  },
  {
   "cell_type": "code",
   "execution_count": 8,
   "metadata": {},
   "outputs": [
    {
     "name": "stdout",
     "output_type": "stream",
     "text": [
      "1\n"
     ]
    }
   ],
   "source": [
    "#this is another way to find by class\n",
    "tables = soup.find_all(\"div\", class_=\"table-responsive\")\n",
    "print(len(tables))"
   ]
  },
  {
   "cell_type": "code",
   "execution_count": 9,
   "metadata": {},
   "outputs": [],
   "source": [
    "# select the first table since we have only 1 of them\n",
    "table = tables[0]"
   ]
  },
  {
   "cell_type": "code",
   "execution_count": 25,
   "metadata": {},
   "outputs": [],
   "source": [
    "headers_raw = table.select_one(\"thead\")\n",
    "t_content = table.select_one(\"tbody\")"
   ]
  },
  {
   "cell_type": "code",
   "execution_count": 34,
   "metadata": {},
   "outputs": [
    {
     "name": "stdout",
     "output_type": "stream",
     "text": [
      "['Product', 'Maturity', 'Amount(Crore Taka)', 'Highest', 'Lowest', 'Average', 'Number of Deals']\n"
     ]
    }
   ],
   "source": [
    "# Find all <th> elements within <thead>\n",
    "header_cells = headers_raw.find_all(\"th\")\n",
    "\n",
    "# Extract the text from each <th> element\n",
    "headers = [th.get_text(strip=True) for th in header_cells]\n",
    "# this is not the ideal way, but we have to rearrange headers since headers are given in two rows\n",
    "headers.remove(\"Interest rate(%)\")\n",
    "headers.remove(\"Number of Deals\")\n",
    "headers.append(\"Number of Deals\")\n",
    "print(headers)\n",
    "# alternatively you can simply write down column names rather than extract it from html, then make sure the html contains at least your column names"
   ]
  },
  {
   "cell_type": "code",
   "execution_count": 43,
   "metadata": {},
   "outputs": [
    {
     "name": "stdout",
     "output_type": "stream",
     "text": [
      "[['Overnight', '1 Day(/s)', '5270.60', '10.00', '8.50', '8.97', '64'], ['Short Notice', '2 Day(/s)', '20.00', '9.50', '9.50', '9.50', '1'], ['Short Notice', '5 Day(/s)', '80.00', '11.00', '11.00', '11.00', '1'], ['Short Notice', '7 Day(/s)', '182.00', '11.00', '10.90', '10.99', '4'], ['Short Notice', '8 Day(/s)', '20.00', '11.90', '11.90', '11.90', '1'], ['Term', '90 Day(/s)', '100.00', '12.75', '12.75', '12.75', '1']]\n"
     ]
    }
   ],
   "source": [
    "# Find all rows in tbody\n",
    "rows = t_content.find_all(\"tr\")\n",
    "\n",
    "# Extract data from each row\n",
    "data = []\n",
    "for row in rows:\n",
    "    cells = row.find_all(\"td\")\n",
    "    if len(cells)==1:\n",
    "        # skip the first row\n",
    "        continue\n",
    "    cell_texts = [cell.get_text(strip=True) for cell in cells]\n",
    "    data.append(cell_texts)\n",
    "print(data)"
   ]
  },
  {
   "cell_type": "code",
   "execution_count": 44,
   "metadata": {},
   "outputs": [],
   "source": [
    "# Create a pandas DataFrame\n",
    "df_3 = pd.DataFrame(data, columns=headers)"
   ]
  },
  {
   "cell_type": "code",
   "execution_count": 45,
   "metadata": {},
   "outputs": [
    {
     "data": {
      "text/html": [
       "<div>\n",
       "<style scoped>\n",
       "    .dataframe tbody tr th:only-of-type {\n",
       "        vertical-align: middle;\n",
       "    }\n",
       "\n",
       "    .dataframe tbody tr th {\n",
       "        vertical-align: top;\n",
       "    }\n",
       "\n",
       "    .dataframe thead th {\n",
       "        text-align: right;\n",
       "    }\n",
       "</style>\n",
       "<table border=\"1\" class=\"dataframe\">\n",
       "  <thead>\n",
       "    <tr style=\"text-align: right;\">\n",
       "      <th></th>\n",
       "      <th>Product</th>\n",
       "      <th>Maturity</th>\n",
       "      <th>Amount(Crore Taka)</th>\n",
       "      <th>Highest</th>\n",
       "      <th>Lowest</th>\n",
       "      <th>Average</th>\n",
       "      <th>Number of Deals</th>\n",
       "    </tr>\n",
       "  </thead>\n",
       "  <tbody>\n",
       "    <tr>\n",
       "      <th>0</th>\n",
       "      <td>Overnight</td>\n",
       "      <td>1 Day(/s)</td>\n",
       "      <td>5270.60</td>\n",
       "      <td>10.00</td>\n",
       "      <td>8.50</td>\n",
       "      <td>8.97</td>\n",
       "      <td>64</td>\n",
       "    </tr>\n",
       "    <tr>\n",
       "      <th>1</th>\n",
       "      <td>Short Notice</td>\n",
       "      <td>2 Day(/s)</td>\n",
       "      <td>20.00</td>\n",
       "      <td>9.50</td>\n",
       "      <td>9.50</td>\n",
       "      <td>9.50</td>\n",
       "      <td>1</td>\n",
       "    </tr>\n",
       "    <tr>\n",
       "      <th>2</th>\n",
       "      <td>Short Notice</td>\n",
       "      <td>5 Day(/s)</td>\n",
       "      <td>80.00</td>\n",
       "      <td>11.00</td>\n",
       "      <td>11.00</td>\n",
       "      <td>11.00</td>\n",
       "      <td>1</td>\n",
       "    </tr>\n",
       "    <tr>\n",
       "      <th>3</th>\n",
       "      <td>Short Notice</td>\n",
       "      <td>7 Day(/s)</td>\n",
       "      <td>182.00</td>\n",
       "      <td>11.00</td>\n",
       "      <td>10.90</td>\n",
       "      <td>10.99</td>\n",
       "      <td>4</td>\n",
       "    </tr>\n",
       "    <tr>\n",
       "      <th>4</th>\n",
       "      <td>Short Notice</td>\n",
       "      <td>8 Day(/s)</td>\n",
       "      <td>20.00</td>\n",
       "      <td>11.90</td>\n",
       "      <td>11.90</td>\n",
       "      <td>11.90</td>\n",
       "      <td>1</td>\n",
       "    </tr>\n",
       "  </tbody>\n",
       "</table>\n",
       "</div>"
      ],
      "text/plain": [
       "        Product   Maturity Amount(Crore Taka) Highest Lowest Average  \\\n",
       "0     Overnight  1 Day(/s)            5270.60   10.00   8.50    8.97   \n",
       "1  Short Notice  2 Day(/s)              20.00    9.50   9.50    9.50   \n",
       "2  Short Notice  5 Day(/s)              80.00   11.00  11.00   11.00   \n",
       "3  Short Notice  7 Day(/s)             182.00   11.00  10.90   10.99   \n",
       "4  Short Notice  8 Day(/s)              20.00   11.90  11.90   11.90   \n",
       "\n",
       "  Number of Deals  \n",
       "0              64  \n",
       "1               1  \n",
       "2               1  \n",
       "3               4  \n",
       "4               1  "
      ]
     },
     "execution_count": 45,
     "metadata": {},
     "output_type": "execute_result"
    }
   ],
   "source": [
    "df_3.head()"
   ]
  },
  {
   "cell_type": "code",
   "execution_count": 47,
   "metadata": {},
   "outputs": [],
   "source": [
    "#Alternative way to parse html using pandas\n",
    "df_tables = pd.read_html(req_url)"
   ]
  },
  {
   "cell_type": "code",
   "execution_count": 48,
   "metadata": {},
   "outputs": [
    {
     "data": {
      "text/plain": [
       "1"
      ]
     },
     "execution_count": 48,
     "metadata": {},
     "output_type": "execute_result"
    }
   ],
   "source": [
    "#this will create list for each table in html, in our case, there is only one table\n",
    "len(df_tables)"
   ]
  },
  {
   "cell_type": "code",
   "execution_count": 52,
   "metadata": {},
   "outputs": [],
   "source": [
    "# select the table\n",
    "df_4 = df_tables[0]"
   ]
  },
  {
   "cell_type": "code",
   "execution_count": 54,
   "metadata": {},
   "outputs": [
    {
     "data": {
      "text/html": [
       "<div>\n",
       "<style scoped>\n",
       "    .dataframe tbody tr th:only-of-type {\n",
       "        vertical-align: middle;\n",
       "    }\n",
       "\n",
       "    .dataframe tbody tr th {\n",
       "        vertical-align: top;\n",
       "    }\n",
       "\n",
       "    .dataframe thead tr th {\n",
       "        text-align: left;\n",
       "    }\n",
       "</style>\n",
       "<table border=\"1\" class=\"dataframe\">\n",
       "  <thead>\n",
       "    <tr>\n",
       "      <th></th>\n",
       "      <th>Product</th>\n",
       "      <th>Maturity</th>\n",
       "      <th>Amount (Crore Taka)</th>\n",
       "      <th colspan=\"3\" halign=\"left\">Interest rate(%)</th>\n",
       "      <th>Number of Deals</th>\n",
       "    </tr>\n",
       "    <tr>\n",
       "      <th></th>\n",
       "      <th>Product</th>\n",
       "      <th>Maturity</th>\n",
       "      <th>Amount (Crore Taka)</th>\n",
       "      <th>Highest</th>\n",
       "      <th>Lowest</th>\n",
       "      <th>Average</th>\n",
       "      <th>Number of Deals</th>\n",
       "    </tr>\n",
       "  </thead>\n",
       "  <tbody>\n",
       "    <tr>\n",
       "      <th>0</th>\n",
       "      <td>05 June, 2024</td>\n",
       "      <td>05 June, 2024</td>\n",
       "      <td>05 June, 2024</td>\n",
       "      <td>05 June, 2024</td>\n",
       "      <td>05 June, 2024</td>\n",
       "      <td>05 June, 2024</td>\n",
       "      <td>05 June, 2024</td>\n",
       "    </tr>\n",
       "    <tr>\n",
       "      <th>1</th>\n",
       "      <td>Overnight</td>\n",
       "      <td>1 Day(/s)</td>\n",
       "      <td>245.00</td>\n",
       "      <td>9.95</td>\n",
       "      <td>8.50</td>\n",
       "      <td>8.81</td>\n",
       "      <td>8</td>\n",
       "    </tr>\n",
       "    <tr>\n",
       "      <th>2</th>\n",
       "      <td>Short Notice</td>\n",
       "      <td>14 Day(/s)</td>\n",
       "      <td>100.00</td>\n",
       "      <td>10.00</td>\n",
       "      <td>9.50</td>\n",
       "      <td>9.75</td>\n",
       "      <td>2</td>\n",
       "    </tr>\n",
       "  </tbody>\n",
       "</table>\n",
       "</div>"
      ],
      "text/plain": [
       "         Product       Maturity Amount (Crore Taka) Interest rate(%)  \\\n",
       "         Product       Maturity Amount (Crore Taka)          Highest   \n",
       "0  05 June, 2024  05 June, 2024       05 June, 2024    05 June, 2024   \n",
       "1      Overnight      1 Day(/s)              245.00             9.95   \n",
       "2   Short Notice     14 Day(/s)              100.00            10.00   \n",
       "\n",
       "                                Number of Deals  \n",
       "          Lowest        Average Number of Deals  \n",
       "0  05 June, 2024  05 June, 2024   05 June, 2024  \n",
       "1           8.50           8.81               8  \n",
       "2           9.50           9.75               2  "
      ]
     },
     "execution_count": 54,
     "metadata": {},
     "output_type": "execute_result"
    }
   ],
   "source": [
    "df_4.head()"
   ]
  },
  {
   "cell_type": "code",
   "execution_count": 59,
   "metadata": {},
   "outputs": [
    {
     "data": {
      "text/html": [
       "<div>\n",
       "<style scoped>\n",
       "    .dataframe tbody tr th:only-of-type {\n",
       "        vertical-align: middle;\n",
       "    }\n",
       "\n",
       "    .dataframe tbody tr th {\n",
       "        vertical-align: top;\n",
       "    }\n",
       "\n",
       "    .dataframe thead th {\n",
       "        text-align: right;\n",
       "    }\n",
       "</style>\n",
       "<table border=\"1\" class=\"dataframe\">\n",
       "  <thead>\n",
       "    <tr style=\"text-align: right;\">\n",
       "      <th></th>\n",
       "      <th>Product</th>\n",
       "      <th>Maturity</th>\n",
       "      <th>Amount(Crore Taka)</th>\n",
       "      <th>Highest</th>\n",
       "      <th>Lowest</th>\n",
       "      <th>Average</th>\n",
       "      <th>Number of Deals</th>\n",
       "    </tr>\n",
       "  </thead>\n",
       "  <tbody>\n",
       "    <tr>\n",
       "      <th>0</th>\n",
       "      <td>Overnight</td>\n",
       "      <td>1 Day(/s)</td>\n",
       "      <td>5270.60</td>\n",
       "      <td>10.00</td>\n",
       "      <td>8.50</td>\n",
       "      <td>8.97</td>\n",
       "      <td>64</td>\n",
       "    </tr>\n",
       "    <tr>\n",
       "      <th>1</th>\n",
       "      <td>Short Notice</td>\n",
       "      <td>2 Day(/s)</td>\n",
       "      <td>20.00</td>\n",
       "      <td>9.50</td>\n",
       "      <td>9.50</td>\n",
       "      <td>9.50</td>\n",
       "      <td>1</td>\n",
       "    </tr>\n",
       "    <tr>\n",
       "      <th>2</th>\n",
       "      <td>Short Notice</td>\n",
       "      <td>5 Day(/s)</td>\n",
       "      <td>80.00</td>\n",
       "      <td>11.00</td>\n",
       "      <td>11.00</td>\n",
       "      <td>11.00</td>\n",
       "      <td>1</td>\n",
       "    </tr>\n",
       "    <tr>\n",
       "      <th>3</th>\n",
       "      <td>Short Notice</td>\n",
       "      <td>7 Day(/s)</td>\n",
       "      <td>182.00</td>\n",
       "      <td>11.00</td>\n",
       "      <td>10.90</td>\n",
       "      <td>10.99</td>\n",
       "      <td>4</td>\n",
       "    </tr>\n",
       "    <tr>\n",
       "      <th>4</th>\n",
       "      <td>Short Notice</td>\n",
       "      <td>8 Day(/s)</td>\n",
       "      <td>20.00</td>\n",
       "      <td>11.90</td>\n",
       "      <td>11.90</td>\n",
       "      <td>11.90</td>\n",
       "      <td>1</td>\n",
       "    </tr>\n",
       "  </tbody>\n",
       "</table>\n",
       "</div>"
      ],
      "text/plain": [
       "        Product   Maturity Amount(Crore Taka) Highest Lowest Average  \\\n",
       "0     Overnight  1 Day(/s)            5270.60   10.00   8.50    8.97   \n",
       "1  Short Notice  2 Day(/s)              20.00    9.50   9.50    9.50   \n",
       "2  Short Notice  5 Day(/s)              80.00   11.00  11.00   11.00   \n",
       "3  Short Notice  7 Day(/s)             182.00   11.00  10.90   10.99   \n",
       "4  Short Notice  8 Day(/s)              20.00   11.90  11.90   11.90   \n",
       "\n",
       "  Number of Deals  \n",
       "0              64  \n",
       "1               1  \n",
       "2               1  \n",
       "3               4  \n",
       "4               1  "
      ]
     },
     "execution_count": 59,
     "metadata": {},
     "output_type": "execute_result"
    }
   ],
   "source": [
    "df_3.head()"
   ]
  },
  {
   "cell_type": "code",
   "execution_count": null,
   "metadata": {},
   "outputs": [],
   "source": [
    "# pandas fails to get all the data\n",
    "len(df_4)\n"
   ]
  },
  {
   "cell_type": "code",
   "execution_count": 58,
   "metadata": {},
   "outputs": [
    {
     "data": {
      "text/plain": [
       "6"
      ]
     },
     "execution_count": 58,
     "metadata": {},
     "output_type": "execute_result"
    }
   ],
   "source": [
    "len(df_3)"
   ]
  },
  {
   "cell_type": "markdown",
   "metadata": {},
   "source": [
    "IV. It is not always straightforward to download data, even using html. In many cases, often using URL alone will not be enough. Website will require you to send additional details in the payload to make it look like an authentic request using browser. Chrome and other browsers do it on the backend, however, if you can open it in the browser, there must be a way to open it using a code as well. Again we will use Chrome console to figure out what is required.\n"
   ]
  },
  {
   "cell_type": "markdown",
   "metadata": {},
   "source": [
    "Continuing with above example, now we need to download the data for history as well. We need to define what additional attributes we should send along the URL request to get full data. The process is a bit complicated and not everything can be covered with one example. Often you may require to get creative to identify source. Easiest way is to use Chrome console."
   ]
  },
  {
   "cell_type": "markdown",
   "metadata": {},
   "source": [
    "Step 1: Enter Chrome console by using Inspect or pressing F12 and then go to Network. Then on left pane, select dates to show the full data. In Network, full list of URl requests executed in the backend is listed. Here you need to locate which request is calling the table data. That is the tricky part. Sometimes there are plenty of requests that you may actually spend a lot of time for it. This example is rather easier to find. You may see in the image below that request is called call_money_market and includes link for the website. This is the one we look for.![Example](images/locate_url_request.png)\n",
    "\n",
    "Step 2: We need to identify the attributes. First thing we must identify is how to set dates. There are two places we check. Request headers and payload. Not all the attributes written here are required to get data. Instead we should start with the things we must add and gradually add the rest of the attributes until we get html page with table. In this example, date is set using date_picker attribute in payload. We also send user-agent to identify session as a browser session. You can also see it in request headers. I ended up using following attributes ![Example](images/req_attributes.png)"
   ]
  },
  {
   "cell_type": "code",
   "execution_count": 86,
   "metadata": {},
   "outputs": [
    {
     "data": {
      "text/plain": [
       "True"
      ]
     },
     "execution_count": 86,
     "metadata": {},
     "output_type": "execute_result"
    }
   ],
   "source": [
    "# check with local browser to see if you have retrieved the correct html\n",
    "webbrowser.open(\"temp_file.html\")"
   ]
  },
  {
   "cell_type": "code",
   "execution_count": 90,
   "metadata": {},
   "outputs": [
    {
     "name": "stdout",
     "output_type": "stream",
     "text": [
      "1\n"
     ]
    }
   ],
   "source": [
    "# extract data\n",
    "tables = soup.find_all(attrs={\"class\": \"table-responsive\"})\n",
    "print(len(tables))"
   ]
  },
  {
   "cell_type": "code",
   "execution_count": 91,
   "metadata": {},
   "outputs": [
    {
     "name": "stdout",
     "output_type": "stream",
     "text": [
      "['Product', 'Maturity', 'Amount(Crore Taka)', 'Highest', 'Lowest', 'Average', 'Number of Deals']\n"
     ]
    }
   ],
   "source": [
    "# select the first table since we have only 1 of them\n",
    "table = tables[0]\n",
    "headers_raw = table.select_one(\"thead\")\n",
    "t_content = table.select_one(\"tbody\")\n",
    "# Find all <th> elements within <thead>\n",
    "header_cells = headers_raw.find_all(\"th\")\n",
    "\n",
    "# Extract the text from each <th> element\n",
    "headers = [th.get_text(strip=True) for th in header_cells]\n",
    "# this is not the ideal way, but we have to rearrange headers since headers are given in two rows\n",
    "headers.remove(\"Interest rate(%)\")\n",
    "headers.remove(\"Number of Deals\")\n",
    "headers.append(\"Number of Deals\")\n",
    "print(headers)"
   ]
  },
  {
   "cell_type": "code",
   "execution_count": 114,
   "metadata": {},
   "outputs": [],
   "source": [
    "# Find all rows in tbody\n",
    "rows = t_content.find_all(\"tr\")\n",
    "\n",
    "# Extract data from each row\n",
    "data = []\n",
    "dates = []\n",
    "current_date = None\n",
    "for row in rows:\n",
    "    cells = row.find_all(\"td\")\n",
    "    if len(cells)==1:\n",
    "        current_date = cells[0].get_text(strip=True)\n",
    "        continue\n",
    "    cell_texts = [cell.get_text(strip=True) for cell in cells]\n",
    "    data.append(cell_texts)\n",
    "    #for each date, there are different types of maturity, thus we need to repeat each date by number of maturity types\n",
    "    dates.append(current_date)"
   ]
  },
  {
   "cell_type": "code",
   "execution_count": null,
   "metadata": {},
   "outputs": [],
   "source": [
    "print(dates)"
   ]
  },
  {
   "cell_type": "code",
   "execution_count": 116,
   "metadata": {},
   "outputs": [],
   "source": [
    "# convert dates to pandas datetime format\n",
    "date_index = pd.to_datetime(dates, format='%d %b, %Y')"
   ]
  },
  {
   "cell_type": "code",
   "execution_count": 117,
   "metadata": {},
   "outputs": [],
   "source": [
    "df_5 = pd.DataFrame(data, columns=headers, index=date_index)"
   ]
  },
  {
   "cell_type": "code",
   "execution_count": 119,
   "metadata": {},
   "outputs": [
    {
     "data": {
      "text/html": [
       "<div>\n",
       "<style scoped>\n",
       "    .dataframe tbody tr th:only-of-type {\n",
       "        vertical-align: middle;\n",
       "    }\n",
       "\n",
       "    .dataframe tbody tr th {\n",
       "        vertical-align: top;\n",
       "    }\n",
       "\n",
       "    .dataframe thead th {\n",
       "        text-align: right;\n",
       "    }\n",
       "</style>\n",
       "<table border=\"1\" class=\"dataframe\">\n",
       "  <thead>\n",
       "    <tr style=\"text-align: right;\">\n",
       "      <th></th>\n",
       "      <th>Product</th>\n",
       "      <th>Maturity</th>\n",
       "      <th>Amount(Crore Taka)</th>\n",
       "      <th>Highest</th>\n",
       "      <th>Lowest</th>\n",
       "      <th>Average</th>\n",
       "      <th>Number of Deals</th>\n",
       "    </tr>\n",
       "  </thead>\n",
       "  <tbody>\n",
       "    <tr>\n",
       "      <th>2024-05-30</th>\n",
       "      <td>Overnight</td>\n",
       "      <td>1 Day(/s)</td>\n",
       "      <td>3477.66</td>\n",
       "      <td>10.00</td>\n",
       "      <td>8.50</td>\n",
       "      <td>9.12</td>\n",
       "      <td>47</td>\n",
       "    </tr>\n",
       "    <tr>\n",
       "      <th>2024-05-30</th>\n",
       "      <td>Short Notice</td>\n",
       "      <td>7 Day(/s)</td>\n",
       "      <td>134.00</td>\n",
       "      <td>11.25</td>\n",
       "      <td>10.00</td>\n",
       "      <td>11.05</td>\n",
       "      <td>5</td>\n",
       "    </tr>\n",
       "    <tr>\n",
       "      <th>2024-05-30</th>\n",
       "      <td>Short Notice</td>\n",
       "      <td>14 Day(/s)</td>\n",
       "      <td>64.80</td>\n",
       "      <td>12.00</td>\n",
       "      <td>10.00</td>\n",
       "      <td>10.89</td>\n",
       "      <td>3</td>\n",
       "    </tr>\n",
       "    <tr>\n",
       "      <th>2024-05-30</th>\n",
       "      <td>Term</td>\n",
       "      <td>33 Day(/s)</td>\n",
       "      <td>9.00</td>\n",
       "      <td>12.00</td>\n",
       "      <td>12.00</td>\n",
       "      <td>12.00</td>\n",
       "      <td>1</td>\n",
       "    </tr>\n",
       "    <tr>\n",
       "      <th>2024-05-30</th>\n",
       "      <td>Term</td>\n",
       "      <td>91 Day(/s)</td>\n",
       "      <td>2.00</td>\n",
       "      <td>12.55</td>\n",
       "      <td>12.55</td>\n",
       "      <td>12.55</td>\n",
       "      <td>1</td>\n",
       "    </tr>\n",
       "  </tbody>\n",
       "</table>\n",
       "</div>"
      ],
      "text/plain": [
       "                 Product    Maturity Amount(Crore Taka) Highest Lowest  \\\n",
       "2024-05-30     Overnight   1 Day(/s)            3477.66   10.00   8.50   \n",
       "2024-05-30  Short Notice   7 Day(/s)             134.00   11.25  10.00   \n",
       "2024-05-30  Short Notice  14 Day(/s)              64.80   12.00  10.00   \n",
       "2024-05-30          Term  33 Day(/s)               9.00   12.00  12.00   \n",
       "2024-05-30          Term  91 Day(/s)               2.00   12.55  12.55   \n",
       "\n",
       "           Average Number of Deals  \n",
       "2024-05-30    9.12              47  \n",
       "2024-05-30   11.05               5  \n",
       "2024-05-30   10.89               3  \n",
       "2024-05-30   12.00               1  \n",
       "2024-05-30   12.55               1  "
      ]
     },
     "execution_count": 119,
     "metadata": {},
     "output_type": "execute_result"
    }
   ],
   "source": [
    "df_5.head()"
   ]
  },
  {
   "cell_type": "markdown",
   "metadata": {},
   "source": [
    "V. There are cases that you have to sign-in in order to access data. If such credentials are required, then it is not possible to simply use URL and get the data. If username and password can be set using attributes, you can use a similiar procedure to the example above and do it. However, another and probably more user-friendly approach is to mimic browser behaviour almost as if you are using your keyboard and mouse to interact with it. In python, mechanicalsoup allows us to fill-in signin forms and make further URL requests in a signed-in type of session. I use Mechanical soup here but has its limitations. Java has selenium packages which is a more advanced tool, however, it is outside scope of this tutorial. Instead I will show far simpler solution in case VI for single-use cases.\n"
   ]
  },
  {
   "cell_type": "markdown",
   "metadata": {},
   "source": [
    "In this example, we are going to sign-in to IMF. We will sign in first and then download the data using Python code. If the data is not in excel format, but an html table, which is when you will mostly need to use the code to parse data, you can stil use the same steps to sign in and do the rest using the examples about parsing from html above."
   ]
  },
  {
   "cell_type": "markdown",
   "metadata": {},
   "source": [
    "STEP 1 - Set username and password. You can write down in the code if you are the only user and you won't share the code. Since I am sharing the code with you, I am going to access it from local file. And later enter login page using mechanical soup browser"
   ]
  },
  {
   "cell_type": "markdown",
   "metadata": {},
   "source": []
  },
  {
   "cell_type": "code",
   "execution_count": 2,
   "metadata": {},
   "outputs": [],
   "source": [
    "with open('user_data.json', 'r') as file:\n",
    "    # Step 3: Load the JSON data\n",
    "    data = json.load(file)\n",
    "\n",
    "# Step 4: Access the attributes\n",
    "username = data['username']\n",
    "password = data['password']"
   ]
  },
  {
   "cell_type": "code",
   "execution_count": 85,
   "metadata": {
    "collapsed": false,
    "jupyter": {
     "outputs_hidden": false
    }
   },
   "outputs": [
    {
     "name": "stdout",
     "output_type": "stream",
     "text": [
      "Data have been saved successfully \n"
     ]
    }
   ],
   "source": [
    "req_url = \"https://www.bb.org.bd/en/index.php/monetaryactivity/call_money_market\"\n",
    "# payload = {'date_picker': '01/05/2024 - 31/05/2024'} this format doesn't work\n",
    "\n",
    "data = 'date_picker=01/05/2024 - 31/05/2024'\n",
    "\n",
    "# Define headers with a User-Agent for Chrome\n",
    "headers = {\n",
    "    'User-Agent': 'Mozilla/5.0 (Windows NT 10.0; Win64; x64) AppleWebKit/537.36 (KHTML, like Gecko) Chrome/122.0.0.0 Safari/537.36',\n",
    "    'Content-Type': 'application/x-www-form-urlencoded'\n",
    "}\n",
    "\n",
    "response = req.post(req_url, data=data, headers=headers)\n",
    "\n",
    "# Check if data request was successful\n",
    "if response.ok:\n",
    "    # Save CSV response to a file\n",
    "    soup = BeautifulSoup(response.content.decode(\"utf-8\"))\n",
    "        # Create a temporary file\n",
    "    with open(\"temp_file.html\", 'w', encoding='utf-8') as temp_file:\n",
    "        temp_file.write(response.text)\n",
    "    print('Data have been saved successfully ')\n",
    "else:\n",
    "    print('Failed to retrieve data:', response.status_code)\n",
    "\n"
   ]
  },
  {
   "cell_type": "markdown",
   "metadata": {},
   "source": [
    "Step 2. Submit your credentials using login form and sign in. We first need to locate how the form is called inside html structure. Use Chrome console again to locate table in the html and check the tag of form. Luckily they are using default name \"form\""
   ]
  },
  {
   "cell_type": "code",
   "execution_count": 3,
   "metadata": {},
   "outputs": [
    {
     "data": {
      "text/plain": [
       "<Response [200]>"
      ]
     },
     "execution_count": 3,
     "metadata": {},
     "output_type": "execute_result"
    }
   ],
   "source": [
    "browser = mechanicalsoup.StatefulBrowser(user_agent='MechanicalSoup')\n",
    "browser.open(\"https://www.bookstore.imf.org/authgatewaylogin\")\n",
    "\n"
   ]
  },
  {
   "cell_type": "code",
   "execution_count": 4,
   "metadata": {},
   "outputs": [],
   "source": [
    "form = browser.select_form('form')"
   ]
  },
  {
   "cell_type": "code",
   "execution_count": 5,
   "metadata": {},
   "outputs": [
    {
     "name": "stdout",
     "output_type": "stream",
     "text": [
      "<input autocomplete=\"off\" name=\"authenticity_token\" type=\"hidden\" value=\"R70m39KTfvMCO7yKC36bCkFEegbQkwoqHfRdGJSUrl4h42kMZRJhFvoiN9GGYjQj1zI2weVKPZtkVOj0kbLm8Q\"/>\n",
      "<input autocomplete=\"'off'\" class=\"form-control\" id=\"username\" name=\"username\" placeholder=\"Su dirección de correo electrónico es su nombre de usuario\" type=\"text\"/>\n",
      "<input autocomplete=\"'off'\" class=\"form-control large\" id=\"password\" name=\"password\" placeholder=\"Contraseña\" type=\"password\" value=\"\"/>\n",
      "<input autocomplete=\"off\" id=\"ssortn\" name=\"ssortn\" type=\"hidden\" value=\"https://www.bookstore.imf.org\"/>\n",
      "<input autocomplete=\"off\" id=\"commit\" name=\"commit\" type=\"hidden\" value=\"1\"/>\n",
      "<button class=\"imf-button\" id=\"update\" name=\"button\" type=\"submit\">Enviar</button>\n"
     ]
    }
   ],
   "source": [
    "form.print_summary()"
   ]
  },
  {
   "cell_type": "code",
   "execution_count": 6,
   "metadata": {},
   "outputs": [],
   "source": [
    "form.set(\"username\", username)\n",
    "form.set(\"password\", password)"
   ]
  },
  {
   "cell_type": "code",
   "execution_count": 7,
   "metadata": {},
   "outputs": [
    {
     "data": {
      "text/plain": [
       "<Response [200]>"
      ]
     },
     "execution_count": 7,
     "metadata": {},
     "output_type": "execute_result"
    }
   ],
   "source": [
    "browser.submit_selected()"
   ]
  },
  {
   "cell_type": "code",
   "execution_count": 8,
   "metadata": {},
   "outputs": [],
   "source": [
    "browser.launch_browser()"
   ]
  },
  {
   "cell_type": "markdown",
   "metadata": {},
   "source": [
    "VI. Finally, in case you have a webpage that requires sign-in and is very complicated or impossible to handle with mechanicalsoup but you still want to parse data from webpage, this is not the ideal but a far simpler solution. Chrome and other browsers allow you to download webpage data. Among the downloaded data, you can find raw html file that includes all the information you need. Instead of making a URL request, we will use that file to extract data."
   ]
  },
  {
   "cell_type": "markdown",
   "metadata": {},
   "source": [
    "STEP 1. Click CTRL+S (CMD+S for MAC) or right click on an empty space on the webpage and select Save as. Then select folder you want to save. We also need to save complete page. Click save and wait for download to finish"
   ]
  },
  {
   "cell_type": "markdown",
   "metadata": {},
   "source": [
    "STEP 2. Go to the folder with downloaded files. You will have one html file with the name you have selected and another folder with the same name. As long as data you want to access is stored in html, you can simply use html file to extract data. Often you may notice that html file itself is 1kb and contains no data, then search html files inside the folder and you will find another html file with bigger size. It may be called resource_content, raw_content etc. Just take the correct html file and nothing else, rename if you want\n",
    "STEP 3. Go to python and use the code below to extract the data. HTML extraction is the same after you load html content to beautifulsoup (the method you use only depends on the content). THe only difference is how to load that content to beautiful soup."
   ]
  },
  {
   "cell_type": "markdown",
   "metadata": {},
   "source": [
    "# Example: https://www.nbkr.kg/index1.jsp?item=120&lang=ENG\n",
    "Go to this webpage and save html page. The data is in the file, you don't need to check inside folder."
   ]
  },
  {
   "cell_type": "code",
   "execution_count": 3,
   "metadata": {},
   "outputs": [],
   "source": [
    "with open(\"source_html_file.html\", encoding=\"utf-8\") as fp:\n",
    "    soup = BeautifulSoup(fp, 'html.parser')\n"
   ]
  },
  {
   "cell_type": "code",
   "execution_count": 6,
   "metadata": {
    "collapsed": false,
    "jupyter": {
     "outputs_hidden": false
    }
   },
   "outputs": [
    {
     "name": "stdout",
     "output_type": "stream",
     "text": [
      "1\n"
     ]
    }
   ],
   "source": [
    "# extract data\n",
    "tables = soup.find_all(attrs={\"class\": \"table content-table table-striped table-hover table-condensed table-bordered\"})\n",
    "print(len(tables))"
   ]
  },
  {
   "cell_type": "code",
   "execution_count": 9,
   "metadata": {
    "collapsed": false,
    "jupyter": {
     "outputs_hidden": false
    }
   },
   "outputs": [
    {
     "name": "stdout",
     "output_type": "stream",
     "text": [
      "['Date', 'Registration number', 'Total offer volume(thou. soms)', 'Demand(thou. soms)', 'Sale(thou. soms)', 'Min yieldof accepted bids (%)', 'Max yieldof accepted bids (%)', 'Weighted averageyield of acceptedbids (%)']\n"
     ]
    }
   ],
   "source": [
    "# select the first table since we have only 1 of them\n",
    "table = tables[0]\n",
    "t_content = table.select_one(\"tbody\")\n",
    "tmp = t_content.find_all(\"tr\")\n",
    "headers_raw = tmp[0]\n",
    "# Find all <th> elements within <thead>\n",
    "header_cells = headers_raw.find_all(\"td\")\n",
    "\n",
    "# Extract the text from each <th> element\n",
    "headers = [th.get_text(strip=True) for th in header_cells]\n",
    "print(headers)"
   ]
  },
  {
   "cell_type": "code",
   "execution_count": 10,
   "metadata": {
    "collapsed": false,
    "jupyter": {
     "outputs_hidden": false
    }
   },
   "outputs": [],
   "source": [
    "# Find all rows in tbody\n",
    "rows = tmp[1:-1]\n",
    "\n",
    "# Extract data from each row\n",
    "data = []\n",
    "for row in rows:\n",
    "    cells = row.find_all(\"td\")\n",
    "    cell_texts = [cell.get_text(strip=True) for cell in cells]\n",
    "    data.append(cell_texts)"
   ]
  },
  {
   "cell_type": "code",
   "execution_count": 14,
   "metadata": {
    "collapsed": false,
    "jupyter": {
     "outputs_hidden": false
    }
   },
   "outputs": [],
   "source": [
    "# convert dates to pandas datetime format\n",
    "df_6 = pd.DataFrame(data, columns=headers)"
   ]
  },
  {
   "cell_type": "code",
   "execution_count": 15,
   "metadata": {
    "collapsed": false,
    "jupyter": {
     "outputs_hidden": false
    }
   },
   "outputs": [
    {
     "data": {
      "text/html": [
       "<div>\n",
       "<style scoped>\n",
       "    .dataframe tbody tr th:only-of-type {\n",
       "        vertical-align: middle;\n",
       "    }\n",
       "\n",
       "    .dataframe tbody tr th {\n",
       "        vertical-align: top;\n",
       "    }\n",
       "\n",
       "    .dataframe thead th {\n",
       "        text-align: right;\n",
       "    }\n",
       "</style>\n",
       "<table border=\"1\" class=\"dataframe\">\n",
       "  <thead>\n",
       "    <tr style=\"text-align: right;\">\n",
       "      <th></th>\n",
       "      <th>Date</th>\n",
       "      <th>Registration number</th>\n",
       "      <th>Total offer volume(thou. soms)</th>\n",
       "      <th>Demand(thou. soms)</th>\n",
       "      <th>Sale(thou. soms)</th>\n",
       "      <th>Min yieldof accepted bids (%)</th>\n",
       "      <th>Max yieldof accepted bids (%)</th>\n",
       "      <th>Weighted averageyield of acceptedbids (%)</th>\n",
       "    </tr>\n",
       "  </thead>\n",
       "  <tbody>\n",
       "    <tr>\n",
       "      <th>0</th>\n",
       "      <td>11.06.2024</td>\n",
       "      <td>BD001240619</td>\n",
       "      <td>10 000 000.00</td>\n",
       "      <td>36 571 650.00</td>\n",
       "      <td>10 000 000.00</td>\n",
       "      <td>6.00</td>\n",
       "      <td>6.30</td>\n",
       "      <td>6.05</td>\n",
       "    </tr>\n",
       "    <tr>\n",
       "      <th>1</th>\n",
       "      <td>04.06.2024</td>\n",
       "      <td>BD001240612</td>\n",
       "      <td>10 000 000.00</td>\n",
       "      <td>27 450 850.00</td>\n",
       "      <td>10 000 000.00</td>\n",
       "      <td>6.30</td>\n",
       "      <td>7.20</td>\n",
       "      <td>6.58</td>\n",
       "    </tr>\n",
       "    <tr>\n",
       "      <th>2</th>\n",
       "      <td>28.05.2024</td>\n",
       "      <td>BD001240605</td>\n",
       "      <td>7 000 000.00</td>\n",
       "      <td>9 143 540.00</td>\n",
       "      <td>7 000 000.00</td>\n",
       "      <td>6.80</td>\n",
       "      <td>8.20</td>\n",
       "      <td>7.99</td>\n",
       "    </tr>\n",
       "    <tr>\n",
       "      <th>3</th>\n",
       "      <td>21.05.2024</td>\n",
       "      <td>BD001240529</td>\n",
       "      <td>7 000 000.00</td>\n",
       "      <td>13 716 020.00</td>\n",
       "      <td>7 000 000.00</td>\n",
       "      <td>9.00</td>\n",
       "      <td>10.00</td>\n",
       "      <td>9.82</td>\n",
       "    </tr>\n",
       "    <tr>\n",
       "      <th>4</th>\n",
       "      <td>14.05.2024</td>\n",
       "      <td>BD001240522</td>\n",
       "      <td>8 000 000.00</td>\n",
       "      <td>11 312 550.00</td>\n",
       "      <td>8 000 000.00</td>\n",
       "      <td>9.50</td>\n",
       "      <td>10.40</td>\n",
       "      <td>9.99</td>\n",
       "    </tr>\n",
       "  </tbody>\n",
       "</table>\n",
       "</div>"
      ],
      "text/plain": [
       "         Date Registration number Total offer volume(thou. soms)  \\\n",
       "0  11.06.2024         BD001240619                  10 000 000.00   \n",
       "1  04.06.2024         BD001240612                  10 000 000.00   \n",
       "2  28.05.2024         BD001240605                   7 000 000.00   \n",
       "3  21.05.2024         BD001240529                   7 000 000.00   \n",
       "4  14.05.2024         BD001240522                   8 000 000.00   \n",
       "\n",
       "  Demand(thou. soms) Sale(thou. soms) Min yieldof accepted bids (%)  \\\n",
       "0      36 571 650.00    10 000 000.00                          6.00   \n",
       "1      27 450 850.00    10 000 000.00                          6.30   \n",
       "2       9 143 540.00     7 000 000.00                          6.80   \n",
       "3      13 716 020.00     7 000 000.00                          9.00   \n",
       "4      11 312 550.00     8 000 000.00                          9.50   \n",
       "\n",
       "  Max yieldof accepted bids (%) Weighted averageyield of acceptedbids (%)  \n",
       "0                          6.30                                      6.05  \n",
       "1                          7.20                                      6.58  \n",
       "2                          8.20                                      7.99  \n",
       "3                         10.00                                      9.82  \n",
       "4                         10.40                                      9.99  "
      ]
     },
     "execution_count": 15,
     "metadata": {},
     "output_type": "execute_result"
    }
   ],
   "source": [
    "df_6.head()"
   ]
  },
  {
   "cell_type": "markdown",
   "metadata": {
    "collapsed": false,
    "jupyter": {
     "outputs_hidden": false
    }
   },
   "source": [
    "VI. Parsing text"
   ]
  },
  {
   "cell_type": "markdown",
   "metadata": {
    "collapsed": false,
    "jupyter": {
     "outputs_hidden": false
    }
   },
   "source": [
    "Logic is the same as parsing tables. Just select the location you want to get text and use get_text method"
   ]
  },
  {
   "cell_type": "markdown",
   "metadata": {
    "collapsed": false,
    "jupyter": {
     "outputs_hidden": false
    }
   },
   "source": [
    "# Example: https://www.theguardian.com/business/article/2024/jun/16/recovery-and-interest-rate-cuts-wont-be-enough-to-win-sunak-the-election"
   ]
  },
  {
   "cell_type": "code",
   "execution_count": 16,
   "outputs": [
    {
     "name": "stdout",
     "output_type": "stream",
     "text": [
      "Data have been saved successfully \n"
     ]
    }
   ],
   "source": [
    "# let's get only the news title and text from this webpage\n",
    "# specifically select an area in html and parse text from that area only\n",
    "req_url = \"https://www.theguardian.com/business/article/2024/jun/16/recovery-and-interest-rate-cuts-wont-be-enough-to-win-sunak-the-election\"\n",
    "response = req.get(req_url)\n",
    "\n",
    "# Check if data request was successful\n",
    "if response.ok:\n",
    "    # Save CSV response to a file\n",
    "    soup = BeautifulSoup(response.content.decode(\"utf-8\"))\n",
    "    print('Data have been saved successfully ')\n",
    "else:\n",
    "    print('Failed to retrieve data:', response.status_code)\n"
   ],
   "metadata": {
    "collapsed": false
   }
  },
  {
   "cell_type": "code",
   "execution_count": 21,
   "outputs": [],
   "source": [
    "news_text = soup.find(id=\"maincontent\").get_text()"
   ],
   "metadata": {
    "collapsed": false
   }
  },
  {
   "cell_type": "code",
   "execution_count": 23,
   "outputs": [
    {
     "name": "stdout",
     "output_type": "stream",
     "text": [
      "As the weeks roll by, Rishi Sunak’s decision to call the election before he needed to appears ever more curious. Unemployment is up and growth has stalled. NHS waiting lists have increased. There will be better news from this week’s annual inflation figures but it won’t make a difference to voting intentions.The case for holding on until the autumn was that it would give time for the Bank of England to start cutting interest rates and for recovery to become more firmly embedded. That case now looks all the stronger. Threadneedle Street is not going to deliver a pre-election cut in interest rates this week and by the time it does start to reduce the cost of borrowing, the Conservatives will be long gone.Likewise, when the growth figures for the second quarter come out in August they are likely to show solid – if unspectacular growth – of about 0.4-0.5%. After the 0.6% growth in the first quarter, it would have made Sunak’s argument that the economy has turned a corner that much stronger.In truth, though, waiting until the autumn would have only delayed the inevitable. As the election for the European parliament clearly showed, there is a big anti-incumbency factor at play. That was evident in Germany, where all three members of the ruling coalition polled badly. It was evident in France, where Emmanuel Macron has taken the gamble of calling a snap election after Marine Le Pen’s National Rally won 32% of the European parliament votes. And it will be evident in the UK on 4 July, when voters will kick out the party that has been in power for the past 14 years. There is no little irony in post-Brexit Britain being on the point of electing a soft-left Labour government when large chunks of the EU have lurched to the right.Indeed, the notion that life on the other side of the Channel is one of progressive rationality looks a bit silly in light of the state of politics in the EU’s three biggest countries: Germany, France and Italy. Wasn’t it Brexit Britain that was supposed to be the cradle for fascism?The truth is that the vote against the status quo in the UK in 2016 and the vote against the political establishment in the EU elections last week had the same roots: inequality, nugatory growth in living standards, unhappiness about high levels of migration, and a growing realisation that the parties of the centre-left and centre-right were in hock to a liberal economic orthodoxy that every now and then shifted power from one party of technocrats to another but offered no prospect of fundamentally changing anything.Now chickens are coming home to roost. The Conservatives in the UK face being reduced to a rump, with Nigel Farage keen to engineer a reverse takeover. It is unsurprising that people in the UK are unhappy with the Conservatives. What is surprising is that it has taken five elections for voters to come to the conclusion that the Tories have no real answers to the problems facing the UK. If Labour proves equally bereft of ideas, the backlash will be brutal and – notwithstanding Labour’s likely massive parliamentary majority – not long in coming.The task of boosting productivity, raising living standards and spreading prosperity to all parts of the UK is a formidable one. The Resolution Foundation thinktank says per capita income has grown by just 4.3% in total during the 16 years since the financial crisis, compared with 46% in the 16 years prior to that.Meanwhile, the EU has experienced decades of weak growth and its share of global GDP has fallen from 28% to 17% since 1980. In large part that has been due to the straitjacket imposed by monetary union, but matters have not been helped by strict budgetary controls demanded by Brussels. It is no accident that growth was a lot higher before Europe embarked on its drive for ever closer union.It would be wrong to think that the EU is unique, because pretty much every country in the developed west is experiencing the same swirling discontent. Even the US, a country that has maintained its share of global GDP while the EU has been slipping back, is displaying strong anti-incumbency sentiment.skip past newsletter promotionSign up to Business TodayFree daily newsletterGet set for the working day – we'll point you to all the business news and analysis you need every morningEnter your email address Sign upPrivacy Notice: Newsletters may contain info about charities, online ads, and content funded by outside parties. For more information see our Privacy Policy. We use Google reCaptcha to protect our website and the Google Privacy Policy and Terms of Service apply.after newsletter promotionThe US has plenty of things going for it. It controls the world’s main reserve currency. It is more willing to take risks with economic policy. It has the world’s biggest and fastest-growing companies. It has recovered much more quickly from the Covid-19 pandemic than other western nations, and it was less affected than Europe by the cost of living crisis. Joe Biden should really be comfortably ahead of Donald Trump in the race to win this year’s presidential race.The US has come closest to find a new growth model to replace the one that seriously malfunctioned during the global financial crisis (GFC) of 2008. To his credit, Biden has been prepared to break with orthodox thinking by running big budget deficits, investing heavily in a green industrial strategy and by slapping tariffs on Chinese imports.It has been clear since the GFC that something has gone wrong with western capitalism and that a different approach is required. The past decade and a half have been marked by weak investment, modest growth in living standards, attempts to prune welfare bills and large migration flows. The rise of populist parties is a direct consequence of these trends and of the failure of mainstream political parties to respond to them. Social democratic parties came about to protect working people from insecurity. All too often, they have been missing in action.\n"
     ]
    }
   ],
   "source": [
    "print(news_text)"
   ],
   "metadata": {
    "collapsed": false
   }
  },
  {
   "cell_type": "code",
   "execution_count": 55,
   "outputs": [],
   "source": [
    "# let's now try again with more careful approach and remove ads\n",
    "# In inspection, you will see that all the news text under maincontent has tag p\n",
    "texts = soup.find(id=\"maincontent\").find(\"div\", class_=\"article-body-commercial-selector\").find_all(\"p\", recursive=False)\n"
   ],
   "metadata": {
    "collapsed": false
   }
  },
  {
   "cell_type": "code",
   "execution_count": 56,
   "outputs": [],
   "source": [
    "parsed_text = []\n",
    "for text in texts:\n",
    "    parsed_text.append(text.get_text())\n",
    "news_text_2 = \"\\n\".join(parsed_text)"
   ],
   "metadata": {
    "collapsed": false
   }
  },
  {
   "cell_type": "code",
   "execution_count": 57,
   "outputs": [
    {
     "name": "stdout",
     "output_type": "stream",
     "text": [
      "As the weeks roll by, Rishi Sunak’s decision to call the election before he needed to appears ever more curious. Unemployment is up and growth has stalled. NHS waiting lists have increased. There will be better news from this week’s annual inflation figures but it won’t make a difference to voting intentions.\n",
      "The case for holding on until the autumn was that it would give time for the Bank of England to start cutting interest rates and for recovery to become more firmly embedded. That case now looks all the stronger. Threadneedle Street is not going to deliver a pre-election cut in interest rates this week and by the time it does start to reduce the cost of borrowing, the Conservatives will be long gone.\n",
      "Likewise, when the growth figures for the second quarter come out in August they are likely to show solid – if unspectacular growth – of about 0.4-0.5%. After the 0.6% growth in the first quarter, it would have made Sunak’s argument that the economy has turned a corner that much stronger.\n",
      "In truth, though, waiting until the autumn would have only delayed the inevitable. As the election for the European parliament clearly showed, there is a big anti-incumbency factor at play. That was evident in Germany, where all three members of the ruling coalition polled badly. It was evident in France, where Emmanuel Macron has taken the gamble of calling a snap election after Marine Le Pen’s National Rally won 32% of the European parliament votes. And it will be evident in the UK on 4 July, when voters will kick out the party that has been in power for the past 14 years. There is no little irony in post-Brexit Britain being on the point of electing a soft-left Labour government when large chunks of the EU have lurched to the right.\n",
      "Indeed, the notion that life on the other side of the Channel is one of progressive rationality looks a bit silly in light of the state of politics in the EU’s three biggest countries: Germany, France and Italy. Wasn’t it Brexit Britain that was supposed to be the cradle for fascism?\n",
      "The truth is that the vote against the status quo in the UK in 2016 and the vote against the political establishment in the EU elections last week had the same roots: inequality, nugatory growth in living standards, unhappiness about high levels of migration, and a growing realisation that the parties of the centre-left and centre-right were in hock to a liberal economic orthodoxy that every now and then shifted power from one party of technocrats to another but offered no prospect of fundamentally changing anything.\n",
      "Now chickens are coming home to roost. The Conservatives in the UK face being reduced to a rump, with Nigel Farage keen to engineer a reverse takeover. It is unsurprising that people in the UK are unhappy with the Conservatives. What is surprising is that it has taken five elections for voters to come to the conclusion that the Tories have no real answers to the problems facing the UK. If Labour proves equally bereft of ideas, the backlash will be brutal and – notwithstanding Labour’s likely massive parliamentary majority – not long in coming.\n",
      "The task of boosting productivity, raising living standards and spreading prosperity to all parts of the UK is a formidable one. The Resolution Foundation thinktank says per capita income has grown by just 4.3% in total during the 16 years since the financial crisis, compared with 46% in the 16 years prior to that.\n",
      "Meanwhile, the EU has experienced decades of weak growth and its share of global GDP has fallen from 28% to 17% since 1980. In large part that has been due to the straitjacket imposed by monetary union, but matters have not been helped by strict budgetary controls demanded by Brussels. It is no accident that growth was a lot higher before Europe embarked on its drive for ever closer union.\n",
      "It would be wrong to think that the EU is unique, because pretty much every country in the developed west is experiencing the same swirling discontent. Even the US, a country that has maintained its share of global GDP while the EU has been slipping back, is displaying strong anti-incumbency sentiment.\n",
      "The US has plenty of things going for it. It controls the world’s main reserve currency. It is more willing to take risks with economic policy. It has the world’s biggest and fastest-growing companies. It has recovered much more quickly from the Covid-19 pandemic than other western nations, and it was less affected than Europe by the cost of living crisis. Joe Biden should really be comfortably ahead of Donald Trump in the race to win this year’s presidential race.\n",
      "The US has come closest to find a new growth model to replace the one that seriously malfunctioned during the global financial crisis (GFC) of 2008. To his credit, Biden has been prepared to break with orthodox thinking by running big budget deficits, investing heavily in a green industrial strategy and by slapping tariffs on Chinese imports.\n",
      "It has been clear since the GFC that something has gone wrong with western capitalism and that a different approach is required. The past decade and a half have been marked by weak investment, modest growth in living standards, attempts to prune welfare bills and large migration flows. The rise of populist parties is a direct consequence of these trends and of the failure of mainstream political parties to respond to them. Social democratic parties came about to protect working people from insecurity. All too often, they have been missing in action.\n"
     ]
    }
   ],
   "source": [
    "print(news_text_2)"
   ],
   "metadata": {
    "collapsed": false
   }
  },
  {
   "cell_type": "markdown",
   "source": [
    "Exercises"
   ],
   "metadata": {
    "collapsed": false
   }
  },
  {
   "cell_type": "markdown",
   "source": [
    "# 1. Extract data from the excel file in the following URL: https://www.bou.or.ug/bou/bouwebsite/bouwebsitecontent/statistics/InterestRates/Interest_rates.xlsx"
   ],
   "metadata": {
    "collapsed": false
   }
  },
  {
   "cell_type": "code",
   "execution_count": null,
   "outputs": [],
   "source": [
    "# your code here"
   ],
   "metadata": {
    "collapsed": false
   }
  },
  {
   "cell_type": "markdown",
   "source": [
    "# 2. Extract data about 1D interbank rates from this website: https://www.bcu.gub.uy/Politica-Economica-y-Mercados/Paginas/Tasa-1-Dia.aspx"
   ],
   "metadata": {
    "collapsed": false
   }
  },
  {
   "cell_type": "markdown",
   "source": [
    "<h>BONUS Content: A problem requiring nested solution<h>"
   ],
   "metadata": {
    "collapsed": false
   }
  },
  {
   "cell_type": "markdown",
   "source": [
    "We need to parse data about lobby groups. However, information is not provided under one table, one has to enter dedicated page for each of them to access full data. Luckily, we can use nested solution to get the data\n",
    "# What you type in browser\n",
    "https://transparency-register.europa.eu/searchregister-or-update/search-register_en\n",
    "# Main URL that actually contains data. It is tricky to find this URL. When you enter the link above in browser, check the Network in console and\n",
    "# you will see many other URL requests, one of them includes the link below. And that link has the table we want. You may see Responses of each URL to decide on the righ one.\n",
    "https://ec.europa.eu/transparencyregister/public/alphabetical/REGISTRANTS/LATIN/a/1?lang=en\n",
    "# second URL to get info on each lobby group by putting relevant ID for them\n",
    "# again what you see on website\n",
    "https://transparency-register.europa.eu/search-details_en?id=<lobby_id>\n",
    "# url actually gets data on backend\n",
    "https://ec.europa.eu/transparencyregister/public/PUBLIC/ORGANISATION/<lobby_id>?lang=en"
   ],
   "metadata": {
    "collapsed": false
   }
  },
  {
   "cell_type": "code",
   "execution_count": 4,
   "outputs": [
    {
     "name": "stdout",
     "output_type": "stream",
     "text": [
      "Data have been saved successfully \n"
     ]
    }
   ],
   "source": [
    "# get list of IDs\n",
    "page_number = 0 # starts from zero\n",
    "req_url = f\"https://ec.europa.eu/transparencyregister/public/alphabetical/REGISTRANTS/LATIN/a/{page_number}?lang=en\"\n",
    "# Define the minimum required headers\n",
    "response = req.get(req_url)\n",
    "\n",
    "# Check if data request was successful\n",
    "if response.ok:\n",
    "    # Save CSV response to a file\n",
    "    soup = BeautifulSoup(response.content.decode(\"utf-8\"))\n",
    "    print('Data have been saved successfully ')\n",
    "    # Create a temporary file\n",
    "    with open(\"temp_file.html\", 'w', encoding='utf-8') as temp_file:\n",
    "        temp_file.write(response.text)\n",
    "else:\n",
    "    print('Failed to retrieve data:', response.status_code)"
   ],
   "metadata": {
    "collapsed": false
   }
  },
  {
   "cell_type": "code",
   "execution_count": 5,
   "outputs": [
    {
     "name": "stdout",
     "output_type": "stream",
     "text": [
      "1\n"
     ]
    }
   ],
   "source": [
    "tables = soup.find_all(\"table\", class_=\"ecl-table ecl-table--zebra\")\n",
    "print(len(tables))"
   ],
   "metadata": {
    "collapsed": false
   }
  },
  {
   "cell_type": "code",
   "execution_count": 6,
   "outputs": [
    {
     "name": "stdout",
     "output_type": "stream",
     "text": [
      "['Organisation’s identification number', 'Organisation name']\n"
     ]
    }
   ],
   "source": [
    "# select the first table since we have only 1 of them\n",
    "table = tables[0]\n",
    "headers_raw = table.select_one(\"thead\")\n",
    "t_content = table.select_one(\"tbody\")\n",
    "# Find all <th> elements within <thead>\n",
    "header_cells = headers_raw.find_all(\"th\")\n",
    "# Extract the text from each <th> element\n",
    "headers = [th.get_text(strip=True) for th in header_cells]\n",
    "print(headers)"
   ],
   "metadata": {
    "collapsed": false
   }
  },
  {
   "cell_type": "code",
   "execution_count": 7,
   "outputs": [],
   "source": [
    "# Extract data from each row\n",
    "data = []\n",
    "rows = t_content.find_all(\"tr\")\n",
    "for row in rows:\n",
    "    cells = row.find_all(\"td\")\n",
    "    cell_texts = [cell.get_text(strip=True) for cell in cells]\n",
    "    data.append(cell_texts)"
   ],
   "metadata": {
    "collapsed": false
   }
  },
  {
   "cell_type": "code",
   "execution_count": 8,
   "outputs": [],
   "source": [
    "lobby_list = pd.DataFrame(data, columns=headers)"
   ],
   "metadata": {
    "collapsed": false
   }
  },
  {
   "cell_type": "code",
   "execution_count": 9,
   "outputs": [
    {
     "data": {
      "text/plain": "  Organisation’s identification number  \\\n5                      138719717404-80   \n6                      185215246862-61   \n7                      962348443419-15   \n8                      680443918500-51   \n9                      172031830923-23   \n\n                                   Organisation name  \n5  A. Menarini Industrie Farmaceutiche Riunite s....  \n6                         A.G.M.E.N. F.V.G. - A.P.S.  \n7                                           A.I.A.D.  \n8                            A.P. Møller - Mærsk A/S  \n9                                      A.S.T. s.r.l.  ",
      "text/html": "<div>\n<style scoped>\n    .dataframe tbody tr th:only-of-type {\n        vertical-align: middle;\n    }\n\n    .dataframe tbody tr th {\n        vertical-align: top;\n    }\n\n    .dataframe thead th {\n        text-align: right;\n    }\n</style>\n<table border=\"1\" class=\"dataframe\">\n  <thead>\n    <tr style=\"text-align: right;\">\n      <th></th>\n      <th>Organisation’s identification number</th>\n      <th>Organisation name</th>\n    </tr>\n  </thead>\n  <tbody>\n    <tr>\n      <th>5</th>\n      <td>138719717404-80</td>\n      <td>A. Menarini Industrie Farmaceutiche Riunite s....</td>\n    </tr>\n    <tr>\n      <th>6</th>\n      <td>185215246862-61</td>\n      <td>A.G.M.E.N. F.V.G. - A.P.S.</td>\n    </tr>\n    <tr>\n      <th>7</th>\n      <td>962348443419-15</td>\n      <td>A.I.A.D.</td>\n    </tr>\n    <tr>\n      <th>8</th>\n      <td>680443918500-51</td>\n      <td>A.P. Møller - Mærsk A/S</td>\n    </tr>\n    <tr>\n      <th>9</th>\n      <td>172031830923-23</td>\n      <td>A.S.T. s.r.l.</td>\n    </tr>\n  </tbody>\n</table>\n</div>"
     },
     "execution_count": 9,
     "metadata": {},
     "output_type": "execute_result"
    }
   ],
   "source": [
    "lobby_list.tail()"
   ],
   "metadata": {
    "collapsed": false
   }
  },
  {
   "cell_type": "code",
   "execution_count": 10,
   "outputs": [],
   "source": [
    "# now let's use IDs to get rest of data\n",
    "id_list = list(lobby_list.iloc[:,0])"
   ],
   "metadata": {
    "collapsed": false
   }
  },
  {
   "cell_type": "code",
   "execution_count": 33,
   "outputs": [],
   "source": [
    "# this is a bulk solution to get all data. If some sub-tables have weird format, and you need those data, you shold treat each table separately,\n",
    "# instead of looping through each table and applying same solution.\n",
    "combined_lobby_data = dict()\n",
    "for _id in id_list:\n",
    "    lob_url = f\"https://ec.europa.eu/transparencyregister/public/PUBLIC/ORGANISATION/{_id}?lang=en\"\n",
    "    response = req.get(lob_url)\n",
    "    soup = BeautifulSoup(response.content.decode(\"utf-8\"))\n",
    "    tables = soup.find_all(\"table\", class_=\"ecl-table ecl-table--zebra\")\n",
    "    data = dict()\n",
    "    for table in tables:\n",
    "        rows = table.find_all(\"tr\")\n",
    "        for row in rows:\n",
    "            cells = row.find_all(\"td\")\n",
    "            # second column contains data. we could simply iterate over all tds, however, missing data will have no td tag and thus cause mismatch ibetween header and data\n",
    "            if len(cells)>1:\n",
    "                key = cells[0].get_text(strip=True)\n",
    "                value = cells[1].get_text(strip=True)\n",
    "                data[key] = value\n",
    "    combined_lobby_data[_id] = data\n"
   ],
   "metadata": {
    "collapsed": false
   }
  },
  {
   "cell_type": "code",
   "execution_count": 34,
   "outputs": [],
   "source": [
    "df_7 = pd.DataFrame.from_dict(combined_lobby_data, orient='index').reset_index()\n"
   ],
   "metadata": {
    "collapsed": false
   }
  },
  {
   "cell_type": "code",
   "execution_count": 35,
   "outputs": [
    {
     "data": {
      "text/plain": "             index                                 Organisation name:  \\\n0  659985144655-48                            A Place for Rover, Inc.   \n1  777021553052-19  A Promise to Animals Non Profit Civil Law Society   \n2  371263033273-46                              A Rocha International   \n3  192905850222-58                           A-Gas International Ltd.   \n4  692018449211-82                                    A-Insinöörit Oy   \n\n       REG Number:    Status:   Registration date:  \\\n0  659985144655-48  Activated  15/11/2021 17:28:16   \n1  777021553052-19  Activated  14/03/2024 15:03:30   \n2  371263033273-46  Activated  21/11/2018 13:07:07   \n3  192905850222-58  Activated  22/05/2023 16:40:22   \n4  692018449211-82  Activated  27/02/2023 17:35:45   \n\n  The registrant performed the last (partial or annual) update on:  \\\n0                                03/11/2023 18:32:44                 \n1                                                N/A                 \n2                                21/02/2024 14:31:13                 \n3                                15/05/2024 09:57:51                 \n4                                06/02/2024 09:14:04                 \n\n  Next annual update due latest on: Acronym:  \\\n0                        03/11/2024      N/A   \n1                        01/03/2025      APA   \n2                        18/01/2025      ARI   \n3                        15/05/2025      N/A   \n4                        06/02/2025     AINS   \n\n                                     Form of entity:  \\\n0                                               Inc.   \n1                 Non profit Greek civil law society   \n2                                            charity   \n3  A-Gas is a private limited company with headqu...   \n4                                         Osakeyhtiö   \n\n                                Website:  ...  \\\n0                              rover.com  ...   \n1  https://www.apromisetoanimals.org/eng  ...   \n2                      http://arocha.org  ...   \n3                           www.agas.com  ...   \n4                   https://www.ains.fi/  ...   \n\n  Main sources of funding in the most recent closed financial year: Comment:  \\\n0                                                NaN                     NaN   \n1                    DonationsMember's contributions                     N/A   \n2                                    DonationsGrants                     N/A   \n3                                                NaN                     NaN   \n4                                                NaN                     NaN   \n\n  Contributions in the closed financial year (above €10 000 and 10% of the total budget):  \\\n0                                                NaN                                        \n1  Contributor nameAmountErietta Kourkoulou - Lat...                                        \n2                                                N/A                                        \n3                                                NaN                                        \n4                                                NaN                                        \n\n  Erietta Kourkoulou - Latsi Total budget:  \\\n0                        NaN           NaN   \n1                   €168,000      €170,000   \n2                        NaN    €1,688,321   \n3                        NaN           NaN   \n4                        NaN           NaN   \n\n  Complementary information if €0 budget:  \\\n0                                     NaN   \n1                                     N/A   \n2                                     N/A   \n3                                     NaN   \n4                                     NaN   \n\n  SurnameFirst nameStart dateEnd dateCRAENHans28/06/202327/06/2024 CRAEN  \\\n0                                                NaN                 NaN   \n1                                                NaN                 NaN   \n2                                                NaN                 NaN   \n3                                              CRAEN                Hans   \n4                                                NaN                 NaN   \n\n  Ministero del lavoro e delle politiche sociali REISENHOFER EDOARDO  \n0                                            NaN                 NaN  \n1                                            NaN                 NaN  \n2                                            NaN                 NaN  \n3                                            NaN                 NaN  \n4                                            NaN                 NaN  \n\n[5 rows x 55 columns]",
      "text/html": "<div>\n<style scoped>\n    .dataframe tbody tr th:only-of-type {\n        vertical-align: middle;\n    }\n\n    .dataframe tbody tr th {\n        vertical-align: top;\n    }\n\n    .dataframe thead th {\n        text-align: right;\n    }\n</style>\n<table border=\"1\" class=\"dataframe\">\n  <thead>\n    <tr style=\"text-align: right;\">\n      <th></th>\n      <th>index</th>\n      <th>Organisation name:</th>\n      <th>REG Number:</th>\n      <th>Status:</th>\n      <th>Registration date:</th>\n      <th>The registrant performed the last (partial or annual) update on:</th>\n      <th>Next annual update due latest on:</th>\n      <th>Acronym:</th>\n      <th>Form of entity:</th>\n      <th>Website:</th>\n      <th>...</th>\n      <th>Main sources of funding in the most recent closed financial year:</th>\n      <th>Comment:</th>\n      <th>Contributions in the closed financial year (above €10 000 and 10% of the total budget):</th>\n      <th>Erietta Kourkoulou - Latsi</th>\n      <th>Total budget:</th>\n      <th>Complementary information if €0 budget:</th>\n      <th>SurnameFirst nameStart dateEnd dateCRAENHans28/06/202327/06/2024</th>\n      <th>CRAEN</th>\n      <th>Ministero del lavoro e delle politiche sociali</th>\n      <th>REISENHOFER EDOARDO</th>\n    </tr>\n  </thead>\n  <tbody>\n    <tr>\n      <th>0</th>\n      <td>659985144655-48</td>\n      <td>A Place for Rover, Inc.</td>\n      <td>659985144655-48</td>\n      <td>Activated</td>\n      <td>15/11/2021 17:28:16</td>\n      <td>03/11/2023 18:32:44</td>\n      <td>03/11/2024</td>\n      <td>N/A</td>\n      <td>Inc.</td>\n      <td>rover.com</td>\n      <td>...</td>\n      <td>NaN</td>\n      <td>NaN</td>\n      <td>NaN</td>\n      <td>NaN</td>\n      <td>NaN</td>\n      <td>NaN</td>\n      <td>NaN</td>\n      <td>NaN</td>\n      <td>NaN</td>\n      <td>NaN</td>\n    </tr>\n    <tr>\n      <th>1</th>\n      <td>777021553052-19</td>\n      <td>A Promise to Animals Non Profit Civil Law Society</td>\n      <td>777021553052-19</td>\n      <td>Activated</td>\n      <td>14/03/2024 15:03:30</td>\n      <td>N/A</td>\n      <td>01/03/2025</td>\n      <td>APA</td>\n      <td>Non profit Greek civil law society</td>\n      <td>https://www.apromisetoanimals.org/eng</td>\n      <td>...</td>\n      <td>DonationsMember's contributions</td>\n      <td>N/A</td>\n      <td>Contributor nameAmountErietta Kourkoulou - Lat...</td>\n      <td>€168,000</td>\n      <td>€170,000</td>\n      <td>N/A</td>\n      <td>NaN</td>\n      <td>NaN</td>\n      <td>NaN</td>\n      <td>NaN</td>\n    </tr>\n    <tr>\n      <th>2</th>\n      <td>371263033273-46</td>\n      <td>A Rocha International</td>\n      <td>371263033273-46</td>\n      <td>Activated</td>\n      <td>21/11/2018 13:07:07</td>\n      <td>21/02/2024 14:31:13</td>\n      <td>18/01/2025</td>\n      <td>ARI</td>\n      <td>charity</td>\n      <td>http://arocha.org</td>\n      <td>...</td>\n      <td>DonationsGrants</td>\n      <td>N/A</td>\n      <td>N/A</td>\n      <td>NaN</td>\n      <td>€1,688,321</td>\n      <td>N/A</td>\n      <td>NaN</td>\n      <td>NaN</td>\n      <td>NaN</td>\n      <td>NaN</td>\n    </tr>\n    <tr>\n      <th>3</th>\n      <td>192905850222-58</td>\n      <td>A-Gas International Ltd.</td>\n      <td>192905850222-58</td>\n      <td>Activated</td>\n      <td>22/05/2023 16:40:22</td>\n      <td>15/05/2024 09:57:51</td>\n      <td>15/05/2025</td>\n      <td>N/A</td>\n      <td>A-Gas is a private limited company with headqu...</td>\n      <td>www.agas.com</td>\n      <td>...</td>\n      <td>NaN</td>\n      <td>NaN</td>\n      <td>NaN</td>\n      <td>NaN</td>\n      <td>NaN</td>\n      <td>NaN</td>\n      <td>CRAEN</td>\n      <td>Hans</td>\n      <td>NaN</td>\n      <td>NaN</td>\n    </tr>\n    <tr>\n      <th>4</th>\n      <td>692018449211-82</td>\n      <td>A-Insinöörit Oy</td>\n      <td>692018449211-82</td>\n      <td>Activated</td>\n      <td>27/02/2023 17:35:45</td>\n      <td>06/02/2024 09:14:04</td>\n      <td>06/02/2025</td>\n      <td>AINS</td>\n      <td>Osakeyhtiö</td>\n      <td>https://www.ains.fi/</td>\n      <td>...</td>\n      <td>NaN</td>\n      <td>NaN</td>\n      <td>NaN</td>\n      <td>NaN</td>\n      <td>NaN</td>\n      <td>NaN</td>\n      <td>NaN</td>\n      <td>NaN</td>\n      <td>NaN</td>\n      <td>NaN</td>\n    </tr>\n  </tbody>\n</table>\n<p>5 rows × 55 columns</p>\n</div>"
     },
     "execution_count": 35,
     "metadata": {},
     "output_type": "execute_result"
    }
   ],
   "source": [
    "df_7.head()"
   ],
   "metadata": {
    "collapsed": false
   }
  },
  {
   "cell_type": "code",
   "execution_count": 36,
   "outputs": [],
   "source": [
    "df_7.to_excel(\"lobby_data.xlsx\")"
   ],
   "metadata": {
    "collapsed": false
   }
  },
  {
   "cell_type": "code",
   "execution_count": null,
   "outputs": [],
   "source": [],
   "metadata": {
    "collapsed": false
   }
  }
 ],
 "metadata": {
  "kernelspec": {
   "display_name": "Python 3 (ipykernel)",
   "language": "python",
   "name": "python3"
  },
  "language_info": {
   "codemirror_mode": {
    "name": "ipython",
    "version": 3
   },
   "file_extension": ".py",
   "mimetype": "text/x-python",
   "name": "python",
   "nbconvert_exporter": "python",
   "pygments_lexer": "ipython3",
   "version": "3.9.19"
  }
 },
 "nbformat": 4,
 "nbformat_minor": 4
}
